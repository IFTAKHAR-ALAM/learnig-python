{
  "cells": [
    {
      "cell_type": "markdown",
      "metadata": {
        "colab_type": "text",
        "id": "view-in-github"
      },
      "source": [
        "<a href=\"https://colab.research.google.com/github/IFTAKHAR-ALAM/learnig-python/blob/main/python1.ipynb\" target=\"_parent\"><img src=\"https://colab.research.google.com/assets/colab-badge.svg\" alt=\"Open In Colab\"/></a>"
      ]
    },
    {
      "cell_type": "markdown",
      "metadata": {
        "id": "ffb5Nn-6448I"
      },
      "source": [
        "## MUHAMMAD IFTIKHAR ALAM\n",
        "##       476369"
      ]
    },
    {
      "cell_type": "markdown",
      "metadata": {
        "id": "A3SXEwfjpjG7"
      },
      "source": [
        "## STRINGS / VARIABLES"
      ]
    },
    {
      "cell_type": "code",
      "execution_count": null,
      "metadata": {
        "id": "QoRC-YRYjlQ5"
      },
      "outputs": [],
      "source": [
        "str1 = \"My name is IFTIKHAR\"\n",
        "str2 = \"I am working with insurance\"\n",
        "\n",
        "print(str1 + str2)\n",
        "\n",
        "str1 = \"My name is IFTIKHAR\"\n",
        "str2 = \"I am working with Insurance\"\n",
        "\n",
        "print( str1 + \" \" + str2 )\n",
        "\n",
        "len(str1)\n",
        "print(len(str1))\n"
      ]
    },
    {
      "cell_type": "markdown",
      "metadata": {
        "id": "8sSEUI77pdAH"
      },
      "source": []
    },
    {
      "cell_type": "code",
      "execution_count": null,
      "metadata": {
        "id": "_NuZ8JGx5qWb"
      },
      "outputs": [],
      "source": [
        "print(\"PAKISTAN\")"
      ]
    },
    {
      "cell_type": "code",
      "execution_count": null,
      "metadata": {
        "id": "CPXLmuJG53Od"
      },
      "outputs": [],
      "source": [
        "print(\"PAKISTAN\""
      ]
    },
    {
      "cell_type": "code",
      "execution_count": null,
      "metadata": {
        "id": "cfsFbTVB5YN_"
      },
      "outputs": [],
      "source": [
        "print(\"Hello World\")\n",
        "# print(\"Hello World\")\n",
        "\n",
        "# print(\"PAKISTAN\")\n",
        "# print(\"PAKISTAN\")\n",
        "# print(\"PAKISTAN\")\n",
        "# print(\"PAKISTAN\")\n",
        "# print(\"PAKISTAN\")\n"
      ]
    },
    {
      "cell_type": "code",
      "execution_count": null,
      "metadata": {
        "id": "Q2hqbxHsW1sI"
      },
      "outputs": [],
      "source": []
    },
    {
      "cell_type": "markdown",
      "metadata": {
        "id": "KYYm5JJCXBLv"
      },
      "source": [
        "# #str function"
      ]
    },
    {
      "cell_type": "code",
      "execution_count": null,
      "metadata": {
        "id": "wtF7fjfW__FE"
      },
      "outputs": [],
      "source": [
        "x = \"m IFTIKHAR ALAM\"\\\n",
        "print(x.capitalize())\n",
        "\n",
        "x = (x.capitalize())\n",
        "print(x)\n",
        "\n",
        "x = \"M IFTIKHAR ALAM\"\n",
        "print(x.replace(\"I\", \"A\"))\n",
        "\n",
        "\n",
        "X = \"M IFTIKHar ALAM\"\n",
        "print(x.upper())\n",
        "\n",
        "x = \"M IFTIKHAR ALAM\"\n",
        "print(x.replace(\"ALAM\", \"AHMED\"))\n",
        "\n",
        "x = \"M IFTIKHAR ALAM\"\n",
        "print(x.find(\"A\"))\n",
        "\n",
        "x = from M IFTIKHAR ALAM\"\n",
        "print(x,find(\"from\"))\n",
        "\n",
        "X = \"I am from M IFTIKHAR  from Karachi\"\n",
        "print(x.find(\"from\"))\n",
        "\n",
        "x = \"M IFTIhaR ALAM\"\n",
        "print(x.lower())\n"
      ]
    },
    {
      "cell_type": "code",
      "execution_count": null,
      "metadata": {
        "id": "tx1cReOg7q1t"
      },
      "outputs": [],
      "source": [
        "x = \"M IFRIKHAR ALAM\"\n",
        "print(x.endswith(\"ALAM\"))\n",
        "\n",
        "\n",
        "x = \"M IFTIKHAR ALAM\"\n",
        "print(x.endswith(\"IFT\"))"
      ]
    },
    {
      "cell_type": "code",
      "execution_count": null,
      "metadata": {
        "id": "n0_MeMzkwXQF"
      },
      "outputs": [],
      "source": [
        "x = \"M IFTIKHAR ALAM I working in Insurance\"\n",
        "ch = x\n",
        "ch = x[6]\n",
        "print(ch)\n",
        "\n",
        "ch = x[9]\n",
        "print(ch)"
      ]
    },
    {
      "cell_type": "code",
      "execution_count": null,
      "metadata": {
        "id": "fSWZkmLa4JV1"
      },
      "outputs": [],
      "source": [
        "x = \"NUSRAT IFTIKHAR\"\n",
        "print(x[0:9])"
      ]
    },
    {
      "cell_type": "code",
      "execution_count": null,
      "metadata": {
        "id": "1GSSGIJD3n0D"
      },
      "outputs": [],
      "source": [
        "x = \"M IFTIKHAR ALAM\"\n",
        "print(x[ 2:7])"
      ]
    },
    {
      "cell_type": "code",
      "execution_count": null,
      "metadata": {
        "id": "7tLZOCIe6eR_"
      },
      "outputs": [],
      "source": [
        "x = \"ARSAL IFTIKHAR\"\n",
        "print(x[ -1:-3 ])"
      ]
    },
    {
      "cell_type": "code",
      "execution_count": null,
      "metadata": {
        "id": "06SR8mnEt0Ro"
      },
      "outputs": [],
      "source": [
        "name1 = 'Nusrat Iftikhar'\n",
        "name2 = \"Nusrat Iftikhar\"\n",
        "name3 = \"\"\"Nusrat Iftikhar\"\"\"\n",
        "print(name1)\n",
        "print(name2)\n",
        "print(name3)"
      ]
    },
    {
      "cell_type": "markdown",
      "metadata": {
        "id": "cDTvfj2pYxmW"
      },
      "source": [
        " #Type Method"
      ]
    },
    {
      "cell_type": "code",
      "execution_count": null,
      "metadata": {
        "id": "uBDPi9FxwfEs"
      },
      "outputs": [],
      "source": [
        "price1 = 55\n",
        "fruits = [\"apple\", \"orange\", \"Banana\", \"Lichee\", \"grapes\"]\n",
        "Old = True\n",
        "Young = True\n",
        "x = None\n",
        "\n",
        "print(type(price1))\n",
        "print(type(fruits))\n",
        "print(type(Old))\n",
        "print(type(Young))\n",
        "print(type(x))"
      ]
    },
    {
      "cell_type": "code",
      "execution_count": null,
      "metadata": {
        "id": "LCia2If6pX7S"
      },
      "outputs": [],
      "source": [
        "name = \"Nusrat Iftikhar\"\n",
        "age = 40\n",
        "print(type(name))\n",
        "print(type(age))\n"
      ]
    },
    {
      "cell_type": "code",
      "execution_count": null,
      "metadata": {
        "id": "AAKEaU-D12FI"
      },
      "outputs": [],
      "source": [
        "str = (\"I am Iftikhar my age is 45.\\n I am working with Insurance companies\")\n",
        "print(str)"
      ]
    },
    {
      "cell_type": "code",
      "execution_count": null,
      "metadata": {
        "id": "UKjE-KAd3VZ-"
      },
      "outputs": [],
      "source": [
        "print(\"Hello World\")\n",
        "print(\"\"\"My NAME is M IFTIKHSR ALAM AND WORKING AND LEARNING WITH PYTHON\n",
        "i THOUGHT i WII ACHIEVE MY GOAL,\n",
        "EARLY, DUE TO GETTING STRUGGLE AND GIVING TIME TO STEADY AND LEARNING\"\"\")\n"
      ]
    },
    {
      "cell_type": "code",
      "execution_count": null,
      "metadata": {
        "id": "5Skt050lhZb5"
      },
      "outputs": [],
      "source": [
        "print(\"PAKISTAN ZINDABAD\")"
      ]
    },
    {
      "cell_type": "code",
      "execution_count": null,
      "metadata": {
        "id": "Q02MBFcW5T1O"
      },
      "outputs": [],
      "source": [
        "print(\"Hello World\")\n",
        "print(\"My name is M IFTIKHAR ALAM\")"
      ]
    },
    {
      "cell_type": "code",
      "execution_count": null,
      "metadata": {
        "id": "2-bL1mNM5dXG"
      },
      "outputs": [],
      "source": [
        "# prompt: write Hello World with M IFTIKHAR ALAM\n",
        "\n",
        "print(\"Hello World\")\n",
        "print(\"\"\"My NAME is M IFTIKHAR ALAM AND WORKING AND LEARNING WITH PYTHON\n",
        "i THOUGHT i WII ACHIEVE MY GOAL,\n",
        "EARLY, DUE TO GETTING STRUGGLE AND GIVING TIME TO STEADY AND LEARNING\"\"\")\n",
        "\n",
        "print(\"PAKISTAN ZINDABAD\")\n",
        "print(\"Hello World\")\n",
        "print(\"My name is M IFTIKHAR ALAM\")\n"
      ]
    },
    {
      "cell_type": "code",
      "execution_count": null,
      "metadata": {
        "id": "judKryuIciZo"
      },
      "outputs": [],
      "source": [
        "name = \"M IFTIKHAR ALAM\"\n",
        "age = 45\n",
        "education = \"Graduate\"\n",
        "\n",
        "print(\"My name is :\", name)\n",
        "print(\"My age is :\", age)\n",
        "print(\"My education is :\", education)"
      ]
    },
    {
      "cell_type": "code",
      "execution_count": null,
      "metadata": {
        "id": "TZyYhm8RDgPL"
      },
      "outputs": [],
      "source": []
    },
    {
      "cell_type": "code",
      "execution_count": null,
      "metadata": {
        "id": "Rmc0nfLNJly8"
      },
      "outputs": [],
      "source": [
        "# prompt: weite Hello World with Arsal Iftikhar\n",
        "\n",
        "print(\"Hello World\")\n",
        "print(\"My name is Arsal Iftikhar\")\n"
      ]
    },
    {
      "cell_type": "code",
      "execution_count": null,
      "metadata": {
        "id": "NWuh_N6jLDoz"
      },
      "outputs": [],
      "source": [
        " prompt: generate a new calculator\n",
        "\n",
        "def calculator():\n",
        "    \"\"\"Performs basic arithmetic operations.\"\"\"\n",
        "\n",
        "    while True:\n",
        "        print(\"\\nSelect operation:\")\n",
        "        print(\"1. 100\")\n",
        "        print(\"2. 1000\")\n",
        "        print(\"3. 2\")\n",
        "        print(\"4. 4\")\n",
        "        print(\"5. Exit\")\n",
        "\n",
        "        try:\n",
        "            choice = int(input(\"Enter choice(1/2/3/4/5): \"))\n",
        "        except ValueError:\n",
        "            print(\"Invalid input. Please enter a number.\")\n",
        "            continue\n",
        "\n",
        "        if choice == 5:\n",
        "            break\n",
        "\n",
        "        if choice not in [1, 2, 3, 4]:\n",
        "            print(\"Invalid input. Please enter a number between 1 and 5.\")\n",
        "            continue\n",
        "\n",
        "        try:\n",
        "            num1 = float(input(\"Enter first number: \"))\n",
        "            num2 = float(input(\"Enter second number: \"))\n",
        "        except ValueError:\n",
        "            print(\"Invalid input. Please enter numbers.\")\n",
        "            continue\n",
        "\n",
        "        if choice == 1:\n",
        "            print(num1, \"+\", num2, \"=\", num1 + num2)\n",
        "        elif choice == 2:\n",
        "            print(num1, \"-\", num2, \"=\", num1 - num2)\n",
        "        elif choice == 3:\n",
        "            print(num1, \"*\", num2, \"=\", num1 * num2)\n",
        "        elif choice == 4:\n",
        "            if num2 == 0:\n",
        "                print(\"Division by zero error!\")\n",
        "            else:\n",
        "                print(num1, \"/\", num2, \"=\", num1 / num2)\n",
        "\n",
        "if __name__ == \"__main__\":\n",
        "  calculator()\n"
      ]
    },
    {
      "cell_type": "code",
      "execution_count": null,
      "metadata": {
        "id": "5Tfj22fbP6-0"
      },
      "outputs": [],
      "source": [
        " prompt: generate english clender current jan to dec  year 2025\n",
        "\n",
        "import calendar\n",
        "\n",
        "def generate_calendar(year):\n",
        "    \"\"\"Generates a calendar for the given year.\"\"\"\n",
        "\n",
        "    for month in range(1, 13):  # Iterate through months (1-12)\n",
        "        print(calendar.month(year, month))\n",
        "\n",
        "\n",
        "if __name__ == \"__main__\":\n",
        "    generate_calendar(2025)\n"
      ]
    },
    {
      "cell_type": "code",
      "execution_count": null,
      "metadata": {
        "id": "7-XJIOsIRO7L"
      },
      "outputs": [],
      "source": [
        "# prompt: 2025 calendar  jan to dec\n",
        "\n",
        "import calendar\n",
        "\n",
        "def generate_calendar(year):\n",
        "    \"\"\"Generates a calendar for the given year.\"\"\"\n",
        "\n",
        "    for month in range(1, 13):  # Iterate through months (1-12)\n",
        "        print(calendar.month(year, month))\n",
        "\n",
        "\n",
        "if __name__ == \"__main__\":\n",
        "    generate_calendar(2025)\n"
      ]
    },
    {
      "cell_type": "code",
      "execution_count": null,
      "metadata": {
        "id": "2e2TGIgYJeZF"
      },
      "outputs": [],
      "source": [
        "yy = 2024\n",
        "mm = 2\n",
        "print(calendar.month(yy, mm))"
      ]
    },
    {
      "cell_type": "code",
      "execution_count": null,
      "metadata": {
        "id": "AcF1CIKZKsiC"
      },
      "outputs": [],
      "source": []
    },
    {
      "cell_type": "code",
      "execution_count": null,
      "metadata": {
        "id": "3v49ly6TS1KO"
      },
      "outputs": [],
      "source": [
        "year = 2025\n",
        "month = 12\n",
        "print(calendar.month(year, month))"
      ]
    },
    {
      "cell_type": "markdown",
      "metadata": {
        "id": "AWhfIzgBDwce"
      },
      "source": [
        "# OPERATORS"
      ]
    },
    {
      "cell_type": "code",
      "execution_count": null,
      "metadata": {
        "id": "niDKbIyUDrA-"
      },
      "outputs": [],
      "source": [
        "a = 5\n",
        "b =10\n",
        "print(a+b)\n",
        "\n",
        "a = 11\n",
        "b = 15\n",
        "print(a-b)\n",
        "\n",
        "a = 0\n",
        "b = 11\n",
        "print(a * b)\n",
        "\n",
        "a = 100\n",
        "b = 2\n",
        "print( a / b )\n",
        "\n",
        "a = 5\n",
        "b = 5\n",
        "print( a ** b)\n",
        "\n",
        "a = 55\n",
        "b = 11\n",
        "print( a / b)\n",
        "\n",
        "a = 55\n",
        "b = 44\n",
        "print( a % b )\n",
        "\n"
      ]
    },
    {
      "cell_type": "code",
      "execution_count": null,
      "metadata": {
        "id": "9PDM2QVdpY8j"
      },
      "outputs": [],
      "source": [
        "x = 100\n",
        "x = x + 100\n",
        "\n",
        "print(\"x:\", x )\n",
        "\n",
        "x = 100\n",
        "x = x =- 100\n",
        "print(\"x:\", x)\n",
        "\n",
        "x = 100\n",
        "x = x * 100\n",
        "print(\"x:\", x)\n",
        "\n",
        "x = 100\n",
        "x = x / 100\n",
        "print(\"x:\", x)\n",
        "\n",
        "\n"
      ]
    },
    {
      "cell_type": "code",
      "execution_count": null,
      "metadata": {
        "id": "jc6Jn_t0F24e"
      },
      "outputs": [],
      "source": [
        "x = 100\n",
        "y = 50\n",
        "\n",
        "print( x == y )\n",
        "print( x != y )\n",
        "print( x >= y )\n",
        "print( x <= y )\n",
        "print( x > y )\n",
        "print( x < y )\n",
        "\n"
      ]
    },
    {
      "cell_type": "code",
      "execution_count": null,
      "metadata": {
        "id": "KnWSb72mvQQj"
      },
      "outputs": [],
      "source": [
        "x = 150\n",
        "x += 150\n",
        "print(\"x :\", x)\n",
        "\n",
        "x = 150\n",
        "x *= 150\n",
        "print(\"x :\", x)\n",
        "\n",
        "x = 150\n",
        "x /= 150\n",
        "print(\"x :\", x)\n",
        "\n",
        "\n"
      ]
    },
    {
      "cell_type": "code",
      "execution_count": null,
      "metadata": {
        "id": "Rz48ObaRhP5d"
      },
      "outputs": [],
      "source": [
        "\n",
        "x =  66.60\n",
        "x = str(x)\n",
        "print(type(x))"
      ]
    },
    {
      "cell_type": "code",
      "execution_count": null,
      "metadata": {
        "id": "mAsWp3BygNxK"
      },
      "outputs": [],
      "source": [
        "x1 = float(\"22\")\n",
        "x2 = 44.50\n",
        "print(type(x1))\n",
        "print(x1 + x2)"
      ]
    },
    {
      "cell_type": "code",
      "execution_count": null,
      "metadata": {
        "id": "oFIhVvCMePSl"
      },
      "outputs": [],
      "source": [
        "x1 = int(\"2\")\n",
        "x2 = 3.50\n",
        "\n",
        "print(type(x1))\n",
        "print(x1 + x2)"
      ]
    },
    {
      "cell_type": "code",
      "execution_count": null,
      "metadata": {
        "id": "KxssuSmCdEhS"
      },
      "outputs": [],
      "source": [
        "x1 = 24\n",
        "x2 = 20.23\n",
        "sum = x1+x2\n",
        "print(sum)"
      ]
    },
    {
      "cell_type": "code",
      "execution_count": null,
      "metadata": {
        "id": "lWwskQ2b-vyL"
      },
      "outputs": [],
      "source": [
        "x1 = 100\n",
        "x2 = 50\n",
        "print(\"OR oprrater:\", (x1 == x2) or (x1 > x2))"
      ]
    },
    {
      "cell_type": "code",
      "execution_count": null,
      "metadata": {
        "id": "X_uJCKq89p9b"
      },
      "outputs": [],
      "source": [
        "x1 = True\n",
        "x2 = True\n",
        "print(\"AND operator :\", ( x1 and x2)"
      ]
    },
    {
      "cell_type": "code",
      "execution_count": null,
      "metadata": {
        "id": "vqjxz6fPxp58"
      },
      "outputs": [],
      "source": [
        "print(not False)\n",
        "print(not True)"
      ]
    },
    {
      "cell_type": "code",
      "execution_count": null,
      "metadata": {
        "id": "N93F3yL0MrEC"
      },
      "outputs": [],
      "source": []
    },
    {
      "cell_type": "code",
      "execution_count": null,
      "metadata": {
        "id": "ekeRAXqbVVsm"
      },
      "outputs": [],
      "source": [
        "yy = 2025\n",
        "mm = 5\n",
        "print(calendar.month(yy, mm))"
      ]
    },
    {
      "cell_type": "code",
      "execution_count": null,
      "metadata": {
        "id": "6YemEncHxocE"
      },
      "outputs": [],
      "source": [
        "yy = 2025\n",
        "mm = 12\n",
        "print(calendar.month(yy, mm))"
      ]
    },
    {
      "cell_type": "markdown",
      "metadata": {
        "id": "_PHGhI_NjhUK"
      },
      "source": [
        "# ***CONDIRIONAL STATEMENTS***"
      ]
    },
    {
      "cell_type": "code",
      "execution_count": null,
      "metadata": {
        "id": "vo00twcpE_H-"
      },
      "outputs": [],
      "source": [
        "age = 23\n",
        "\n",
        "if(age >= 18):\n",
        "    print(\"You are eligible to NIC\")\n",
        "else:\n",
        "    print(\"You are not eligible to NIC\")\n",
        "\n",
        "\n",
        "age = 5\n",
        "\n",
        "if(age >= 4):\n",
        "    print(\"You are eligible to admisstion nursery\")\n",
        "else:\n",
        "    print(\"You are not eligible to admission nursery\")\n",
        "\n",
        "\n",
        "\n",
        "    age = 22\n",
        "\n",
        "    if(age >= 18):\n",
        "      print(\"you can dribe car\")\n",
        "    else:\n",
        "      print(\"you can't drive a car\")\n"
      ]
    },
    {
      "cell_type": "code",
      "execution_count": null,
      "metadata": {
        "id": "iZbtLD7rzz99"
      },
      "outputs": [],
      "source": [
        "marks = 75\n",
        "\n",
        "if(marks >= 90):\n",
        "  print(\"Grade A\")\n",
        "elif(marks >= 80):\n",
        "  print(\"Grade B\")\n",
        "elif(marks >= 70):\n",
        "  print(\"Grade C\")\n",
        "elif(marks >= 60):\n",
        "  print(\"Grade D\")"
      ]
    },
    {
      "cell_type": "code",
      "execution_count": null,
      "metadata": {
        "id": "oKYS3q2--Ju0"
      },
      "outputs": [],
      "source": [
        "marks1 = 90.6\n",
        "marks2 = 80.7\n",
        "marks3 = 70.3\n",
        "marls4 = 60.7\n",
        "markd5 = 50.4\n",
        "\n",
        "marks = [90.4, 80.7, 70.3, 60.7, 50.4]\n",
        "print(marks)\n",
        "print(type(marks))\n",
        "print(marks[0])\n",
        "print(marks[1])\n"
      ]
    },
    {
      "cell_type": "code",
      "execution_count": null,
      "metadata": {
        "id": "gCW7yIxY98g0"
      },
      "outputs": [],
      "source": [
        "marks = int(input(\"Enter student marks : \"))\n",
        "\n",
        "marks = 75\n",
        "\n",
        "if(marks >= 90):\n",
        "  Grade = \"A\"\n",
        "elif(marks >= 80 and marks < 90):\n",
        "  Grade = \"B\"\n",
        "elif(marks >= 70 and marks < 80):\n",
        "  Grade = \"C\"\n",
        "else:\n",
        "  Grade = \"D\"\n",
        "\n",
        "print(\"Grade of the studen ->\", Grade)\n",
        "\n"
      ]
    },
    {
      "cell_type": "markdown",
      "metadata": {
        "id": "ciUxahExmuCo"
      },
      "source": [
        "# ***LIST( SILICING, INDEXING, METHODS ) ***"
      ]
    },
    {
      "cell_type": "code",
      "execution_count": null,
      "metadata": {
        "id": "QgtOjDSqVmzS"
      },
      "outputs": [],
      "source": [
        "student = [\"IFTIKHAR\", 90.6, 40, \"Karachi, Pakistan\"]\n",
        "print(student)\n",
        "student[0] = \"ARSAL IFTIKHAR\"\n",
        "print(student)\n",
        "\n"
      ]
    },
    {
      "cell_type": "code",
      "execution_count": null,
      "metadata": {
        "id": "U5NKJbR6gwdR"
      },
      "outputs": [],
      "source": [
        "marks = [ 90, 80, 70, 60, 50, 40 ]\n",
        "print(marks[1:5])\n",
        "print(marks[2:4])\n",
        "print(marks[ :3])\n",
        "print(marks[2: ])\n",
        "print(marks[-2:-1])\n",
        "print(marks[-1:-3])\n",
        "print(marks[-4:-1])\n"
      ]
    },
    {
      "cell_type": "code",
      "execution_count": null,
      "metadata": {
        "id": "nh8C5ZAEmkl8"
      },
      "outputs": [],
      "source": [
        "\n",
        "list = [ 1, 2, 3, 4, 5, 6]\n",
        "list.append(7)\n",
        "print(list.sort())\n",
        "list.insert(2, 7)\n",
        "print(list)\n",
        "\n",
        "\n",
        "\n",
        "\n",
        "\n"
      ]
    },
    {
      "cell_type": "code",
      "execution_count": null,
      "metadata": {
        "id": "veWL7AtJ2XaG"
      },
      "outputs": [],
      "source": [
        "list = [1, 2, 3, 4, 5, 6, ]\n",
        "list.remove(1)\n",
        "list.pop(4)\n",
        "print(list)\n"
      ]
    },
    {
      "cell_type": "code",
      "execution_count": null,
      "metadata": {
        "id": "86888DdL4v71"
      },
      "outputs": [],
      "source": [
        "tup = (2, 3, 5, 8, 9)\n",
        "print(type(tup))\n",
        "\n",
        "\n",
        "tup = ()\n",
        "print(tup)\n",
        "print(type(tup))\n",
        "\n",
        "tup = (1,)\n",
        "print(tup)\n",
        "\n",
        "tup = (1)\n",
        "tup = (2.0)\n",
        "tup = \"IFTIKHAR\"\n",
        "print(type(tup))\n",
        "\n",
        "tup = (\"IFTIKHAR\",)\n",
        "tup = (2.0)\n",
        "print(tup)\n",
        "print(type(tup))\n",
        "\n"
      ]
    },
    {
      "cell_type": "code",
      "execution_count": null,
      "metadata": {
        "id": "7KyuzLvMGd5T"
      },
      "outputs": [],
      "source": [
        "tup = (1, 2, 4, 5, 7, 6)\n",
        "print(tup.index(1))\n",
        "print(tup.index(2))\n",
        "print(tup.count(4))\n",
        "print(tup.count(1))"
      ]
    },
    {
      "cell_type": "code",
      "execution_count": null,
      "metadata": {
        "id": "zalCEdJwQZhB"
      },
      "outputs": [],
      "source": []
    },
    {
      "cell_type": "code",
      "execution_count": null,
      "metadata": {
        "id": "_3GgkoztQa3j"
      },
      "outputs": [],
      "source": []
    },
    {
      "cell_type": "markdown",
      "metadata": {
        "id": "DdHBaKvIQdBp"
      },
      "source": [
        "# **DICTIONARY and SET**"
      ]
    },
    {
      "cell_type": "code",
      "execution_count": null,
      "metadata": {
        "id": "WeMznCNYQsPj"
      },
      "outputs": [],
      "source": [
        "info = {\n",
        "    \"key\":\"value\",\n",
        "    \"name\":\"IFTIKHAR\",\n",
        "    \"subject\":\"English\",\n",
        "}\n",
        "\n",
        "print(info)\n",
        "print(type(info))\n",
        "print(info[\"name\"])\n",
        "print(info[\"subject\"])\n",
        "print(info[\"key\"])\n",
        "\n",
        "\n",
        "info[\"name\"] = \"ARSAL IFTIKHAR ALAM\"\n",
        "print(info)"
      ]
    },
    {
      "cell_type": "code",
      "execution_count": null,
      "metadata": {},
      "outputs": [],
      "source": [
        "class Car:\n",
        "    color = \"red\"\n",
        "    model = \"2025\"\n",
        "    \n",
        "    car1 = Car()\n",
        "    print(car1.color)\n",
        "    print(car1.model)"
      ]
    }
  ],
  "metadata": {
    "accelerator": "GPU",
    "colab": {
      "authorship_tag": "ABX9TyN9fqxHszmaBVhNpwqfzkHj",
      "cell_execution_strategy": "setup",
      "gpuType": "T4",
      "include_colab_link": true,
      "private_outputs": true,
      "provenance": []
    },
    "kernelspec": {
      "display_name": "Python 3",
      "name": "python3"
    },
    "language_info": {
      "name": "python"
    }
  },
  "nbformat": 4,
  "nbformat_minor": 0
}
