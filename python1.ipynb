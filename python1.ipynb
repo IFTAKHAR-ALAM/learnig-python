{
  "cells": [
    {
      "cell_type": "markdown",
      "metadata": {
        "id": "view-in-github",
        "colab_type": "text"
      },
      "source": [
        "<a href=\"https://colab.research.google.com/github/IFTAKHAR-ALAM/learnig-python/blob/main/python1.ipynb\" target=\"_parent\"><img src=\"https://colab.research.google.com/assets/colab-badge.svg\" alt=\"Open In Colab\"/></a>"
      ]
    },
    {
      "cell_type": "markdown",
      "metadata": {
        "id": "ffb5Nn-6448I"
      },
      "source": [
        "## MUHAMMAD IFTIKHAR ALAM\n",
        "##       476369"
      ]
    },
    {
      "cell_type": "markdown",
      "metadata": {
        "id": "A3SXEwfjpjG7"
      },
      "source": [
        "## STRINGS / VARIABLES"
      ]
    },
    {
      "cell_type": "code",
      "execution_count": null,
      "metadata": {
        "id": "QoRC-YRYjlQ5"
      },
      "outputs": [],
      "source": [
        "str1 = \"My name is IFTIKHAR\"\n",
        "str2 = \"I am working with insurance\"\n",
        "\n",
        "print(str1 + str2)\n",
        "\n",
        "str1 = \"My name is IFTIKHAR\"\n",
        "str2 = \"I am working with Insurance\"\n",
        "\n",
        "print( str1 + \" \" + str2 )\n",
        "\n",
        "len(str1)\n",
        "print(len(str1))\n"
      ]
    },
    {
      "cell_type": "markdown",
      "metadata": {
        "id": "8sSEUI77pdAH"
      },
      "source": []
    },
    {
      "cell_type": "code",
      "execution_count": null,
      "metadata": {
        "id": "_NuZ8JGx5qWb"
      },
      "outputs": [],
      "source": [
        "print(\"PAKISTAN\")"
      ]
    },
    {
      "cell_type": "code",
      "execution_count": null,
      "metadata": {
        "id": "CPXLmuJG53Od"
      },
      "outputs": [],
      "source": [
        "print(\"PAKISTAN\""
      ]
    },
    {
      "cell_type": "code",
      "execution_count": null,
      "metadata": {
        "id": "cfsFbTVB5YN_"
      },
      "outputs": [],
      "source": [
        "print(\"Hello World\")\n",
        "# print(\"Hello World\")\n",
        "\n",
        "# print(\"PAKISTAN\")\n",
        "# print(\"PAKISTAN\")\n",
        "# print(\"PAKISTAN\")\n",
        "# print(\"PAKISTAN\")\n",
        "# print(\"PAKISTAN\")\n"
      ]
    },
    {
      "cell_type": "code",
      "execution_count": null,
      "metadata": {
        "id": "Q2hqbxHsW1sI"
      },
      "outputs": [],
      "source": []
    },
    {
      "cell_type": "markdown",
      "metadata": {
        "id": "KYYm5JJCXBLv"
      },
      "source": [
        "# #str function"
      ]
    },
    {
      "cell_type": "code",
      "execution_count": null,
      "metadata": {
        "id": "wtF7fjfW__FE"
      },
      "outputs": [],
      "source": [
        "x = \"m IFTIKHAR ALAM\"\\\n",
        "print(x.capitalize())\n",
        "\n",
        "x = (x.capitalize())\n",
        "print(x)\n",
        "\n",
        "x = \"M IFTIKHAR ALAM\"\n",
        "print(x.replace(\"I\", \"A\"))\n",
        "\n",
        "\n",
        "X = \"M IFTIKHar ALAM\"\n",
        "print(x.upper())\n",
        "\n",
        "x = \"M IFTIKHAR ALAM\"\n",
        "print(x.replace(\"ALAM\", \"AHMED\"))\n",
        "\n",
        "x = \"M IFTIKHAR ALAM\"\n",
        "print(x.find(\"A\"))\n",
        "\n",
        "x = from M IFTIKHAR ALAM\"\n",
        "print(x,find(\"from\"))\n",
        "\n",
        "X = \"I am from M IFTIKHAR  from Karachi\"\n",
        "print(x.find(\"from\"))\n",
        "\n",
        "x = \"M IFTIhaR ALAM\"\n",
        "print(x.lower())\n"
      ]
    },
    {
      "cell_type": "code",
      "execution_count": null,
      "metadata": {
        "id": "tx1cReOg7q1t"
      },
      "outputs": [],
      "source": [
        "x = \"M IFRIKHAR ALAM\"\n",
        "print(x.endswith(\"ALAM\"))\n",
        "\n",
        "\n",
        "x = \"M IFTIKHAR ALAM\"\n",
        "print(x.endswith(\"IFT\"))"
      ]
    },
    {
      "cell_type": "code",
      "execution_count": null,
      "metadata": {
        "id": "n0_MeMzkwXQF"
      },
      "outputs": [],
      "source": [
        "x = \"M IFTIKHAR ALAM I working in Insurance\"\n",
        "ch = x\n",
        "ch = x[6]\n",
        "print(ch)\n",
        "\n",
        "ch = x[9]\n",
        "print(ch)"
      ]
    },
    {
      "cell_type": "code",
      "execution_count": null,
      "metadata": {
        "id": "fSWZkmLa4JV1"
      },
      "outputs": [],
      "source": [
        "x = \"NUSRAT IFTIKHAR\"\n",
        "print(x[0:9])"
      ]
    },
    {
      "cell_type": "code",
      "execution_count": null,
      "metadata": {
        "id": "1GSSGIJD3n0D"
      },
      "outputs": [],
      "source": [
        "x = \"M IFTIKHAR ALAM\"\n",
        "print(x[ 2:7])"
      ]
    },
    {
      "cell_type": "code",
      "execution_count": null,
      "metadata": {
        "id": "7tLZOCIe6eR_"
      },
      "outputs": [],
      "source": [
        "x = \"ARSAL IFTIKHAR\"\n",
        "print(x[ -1:-3 ])"
      ]
    },
    {
      "cell_type": "code",
      "execution_count": null,
      "metadata": {
        "id": "06SR8mnEt0Ro"
      },
      "outputs": [],
      "source": [
        "name1 = 'Nusrat Iftikhar'\n",
        "name2 = \"Nusrat Iftikhar\"\n",
        "name3 = \"\"\"Nusrat Iftikhar\"\"\"\n",
        "print(name1)\n",
        "print(name2)\n",
        "print(name3)"
      ]
    },
    {
      "cell_type": "markdown",
      "metadata": {
        "id": "cDTvfj2pYxmW"
      },
      "source": [
        " #Type Method"
      ]
    },
    {
      "cell_type": "code",
      "execution_count": null,
      "metadata": {
        "id": "uBDPi9FxwfEs"
      },
      "outputs": [],
      "source": [
        "price1 = 55\n",
        "fruits = [\"apple\", \"orange\", \"Banana\", \"Lichee\", \"grapes\"]\n",
        "Old = True\n",
        "Young = True\n",
        "x = None\n",
        "\n",
        "print(type(price1))\n",
        "print(type(fruits))\n",
        "print(type(Old))\n",
        "print(type(Young))\n",
        "print(type(x))"
      ]
    },
    {
      "cell_type": "code",
      "execution_count": null,
      "metadata": {
        "id": "LCia2If6pX7S"
      },
      "outputs": [],
      "source": [
        "name = \"Nusrat Iftikhar\"\n",
        "age = 40\n",
        "print(type(name))\n",
        "print(type(age))\n"
      ]
    },
    {
      "cell_type": "code",
      "execution_count": null,
      "metadata": {
        "id": "AAKEaU-D12FI"
      },
      "outputs": [],
      "source": [
        "str = (\"I am Iftikhar my age is 45.\\n I am working with Insurance companies\")\n",
        "print(str)"
      ]
    },
    {
      "cell_type": "code",
      "execution_count": null,
      "metadata": {
        "id": "UKjE-KAd3VZ-"
      },
      "outputs": [],
      "source": [
        "print(\"Hello World\")\n",
        "print(\"\"\"My NAME is M IFTIKHSR ALAM AND WORKING AND LEARNING WITH PYTHON\n",
        "i THOUGHT i WII ACHIEVE MY GOAL,\n",
        "EARLY, DUE TO GETTING STRUGGLE AND GIVING TIME TO STEADY AND LEARNING\"\"\")\n"
      ]
    },
    {
      "cell_type": "code",
      "execution_count": null,
      "metadata": {
        "id": "5Skt050lhZb5"
      },
      "outputs": [],
      "source": [
        "print(\"PAKISTAN ZINDABAD\")"
      ]
    },
    {
      "cell_type": "code",
      "execution_count": null,
      "metadata": {
        "id": "Q02MBFcW5T1O"
      },
      "outputs": [],
      "source": [
        "print(\"Hello World\")\n",
        "print(\"My name is M IFTIKHAR ALAM\")"
      ]
    },
    {
      "cell_type": "code",
      "execution_count": null,
      "metadata": {
        "id": "2-bL1mNM5dXG"
      },
      "outputs": [],
      "source": [
        "# prompt: write Hello World with M IFTIKHAR ALAM\n",
        "\n",
        "print(\"Hello World\")\n",
        "print(\"\"\"My NAME is M IFTIKHAR ALAM AND WORKING AND LEARNING WITH PYTHON\n",
        "i THOUGHT i WII ACHIEVE MY GOAL,\n",
        "EARLY, DUE TO GETTING STRUGGLE AND GIVING TIME TO STEADY AND LEARNING\"\"\")\n",
        "\n",
        "print(\"PAKISTAN ZINDABAD\")\n",
        "print(\"Hello World\")\n",
        "print(\"My name is M IFTIKHAR ALAM\")\n"
      ]
    },
    {
      "cell_type": "code",
      "execution_count": null,
      "metadata": {
        "id": "judKryuIciZo"
      },
      "outputs": [],
      "source": [
        "name = \"M IFTIKHAR ALAM\"\n",
        "age = 45\n",
        "education = \"Graduate\"\n",
        "\n",
        "print(\"My name is :\", name)\n",
        "print(\"My age is :\", age)\n",
        "print(\"My education is :\", education)"
      ]
    },
    {
      "cell_type": "code",
      "execution_count": null,
      "metadata": {
        "id": "TZyYhm8RDgPL"
      },
      "outputs": [],
      "source": []
    },
    {
      "cell_type": "code",
      "execution_count": null,
      "metadata": {
        "id": "Rmc0nfLNJly8"
      },
      "outputs": [],
      "source": [
        "# prompt: write Hello World with Arsal Iftikhar\n",
        "\n",
        "print(\"Hello World\")\n",
        "print(\"My name is Arsal Iftikhar\")\n"
      ]
    },
    {
      "cell_type": "code",
      "execution_count": null,
      "metadata": {
        "colab": {
          "base_uri": "https://localhost:8080/",
          "height": 106
        },
        "id": "NWuh_N6jLDoz",
        "outputId": "679a107c-2f30-4122-f381-201c34a0136d"
      },
      "outputs": [
        {
          "ename": "SyntaxError",
          "evalue": "invalid syntax (<ipython-input-6-4d25cb5403c4>, line 1)",
          "output_type": "error",
          "traceback": [
            "\u001b[0;36m  File \u001b[0;32m\"<ipython-input-6-4d25cb5403c4>\"\u001b[0;36m, line \u001b[0;32m1\u001b[0m\n\u001b[0;31m    prompt: generate calculator\u001b[0m\n\u001b[0m                     ^\u001b[0m\n\u001b[0;31mSyntaxError\u001b[0m\u001b[0;31m:\u001b[0m invalid syntax\n"
          ]
        }
      ],
      "source": [
        " prompt: generate calculator\n",
        "\n",
        "def calculator():\n",
        "    \"\"\"Performs basic arithmetic operations.\"\"\"\n",
        "\n",
        "    while True:\n",
        "        print(\"\\nSelect operation:\")\n",
        "        print(\"1. 100\")\n",
        "        print(\"2. 1000\")\n",
        "        print(\"3. 2\")\n",
        "        print(\"4. 4\")\n",
        "        print(\"5. Exit\")\n",
        "\n",
        "        try:\n",
        "            choice = int(input(\"Enter choice(1/2/3/4/5): \"))\n",
        "        except ValueError:\n",
        "            print(\"Invalid input. Please enter a number.\")\n",
        "            continue\n",
        "\n",
        "        if choice == 5:\n",
        "            break\n",
        "\n",
        "        if choice not in [1, 2, 3, 4]:\n",
        "            print(\"Invalid input. Please enter a number between 1 and 5.\")\n",
        "            continue\n",
        "\n",
        "        try:\n",
        "            num1 = float(input(\"Enter first number: \"))\n",
        "            num2 = float(input(\"Enter second number: \"))\n",
        "        except ValueError:\n",
        "            print(\"Invalid input. Please enter numbers.\")\n",
        "            continue\n",
        "\n",
        "        if choice == 1:\n",
        "            print(num1, \"+\", num2, \"=\", num1 + num2)\n",
        "        elif choice == 2:\n",
        "            print(num1, \"-\", num2, \"=\", num1 - num2)\n",
        "        elif choice == 3:\n",
        "            print(num1, \"*\", num2, \"=\", num1 * num2)\n",
        "        elif choice == 4:\n",
        "            if num2 == 0:\n",
        "                print(\"Division by zero error!\")\n",
        "            else:\n",
        "                print(num1, \"/\", num2, \"=\", num1 / num2)\n",
        "\n",
        "if __name__ == \"__main__\":\n",
        "  calculator()\n"
      ]
    },
    {
      "cell_type": "code",
      "execution_count": null,
      "metadata": {
        "id": "5Tfj22fbP6-0"
      },
      "outputs": [],
      "source": [
        " prompt: generate english clender current jan to dec  year 2025\n",
        "\n",
        "import calendar\n",
        "\n",
        "def generate_calendar(year):\n",
        "    \"\"\"Generates a calendar for the given year.\"\"\"\n",
        "\n",
        "    for month in range(1, 13):  # Iterate through months (1-12)\n",
        "        print(calendar.month(year, month))\n",
        "\n",
        "\n",
        "if __name__ == \"__main__\":\n",
        "    generate_calendar(2025)\n"
      ]
    },
    {
      "cell_type": "code",
      "execution_count": null,
      "metadata": {
        "colab": {
          "base_uri": "https://localhost:8080/"
        },
        "id": "7-XJIOsIRO7L",
        "outputId": "93ecc6f0-c860-4ba6-b625-8d79ec112c09"
      },
      "outputs": [
        {
          "name": "stdout",
          "output_type": "stream",
          "text": [
            "    January 2025\n",
            "Mo Tu We Th Fr Sa Su\n",
            "       1  2  3  4  5\n",
            " 6  7  8  9 10 11 12\n",
            "13 14 15 16 17 18 19\n",
            "20 21 22 23 24 25 26\n",
            "27 28 29 30 31\n",
            "\n",
            "   February 2025\n",
            "Mo Tu We Th Fr Sa Su\n",
            "                1  2\n",
            " 3  4  5  6  7  8  9\n",
            "10 11 12 13 14 15 16\n",
            "17 18 19 20 21 22 23\n",
            "24 25 26 27 28\n",
            "\n",
            "     March 2025\n",
            "Mo Tu We Th Fr Sa Su\n",
            "                1  2\n",
            " 3  4  5  6  7  8  9\n",
            "10 11 12 13 14 15 16\n",
            "17 18 19 20 21 22 23\n",
            "24 25 26 27 28 29 30\n",
            "31\n",
            "\n",
            "     April 2025\n",
            "Mo Tu We Th Fr Sa Su\n",
            "    1  2  3  4  5  6\n",
            " 7  8  9 10 11 12 13\n",
            "14 15 16 17 18 19 20\n",
            "21 22 23 24 25 26 27\n",
            "28 29 30\n",
            "\n",
            "      May 2025\n",
            "Mo Tu We Th Fr Sa Su\n",
            "          1  2  3  4\n",
            " 5  6  7  8  9 10 11\n",
            "12 13 14 15 16 17 18\n",
            "19 20 21 22 23 24 25\n",
            "26 27 28 29 30 31\n",
            "\n",
            "     June 2025\n",
            "Mo Tu We Th Fr Sa Su\n",
            "                   1\n",
            " 2  3  4  5  6  7  8\n",
            " 9 10 11 12 13 14 15\n",
            "16 17 18 19 20 21 22\n",
            "23 24 25 26 27 28 29\n",
            "30\n",
            "\n",
            "     July 2025\n",
            "Mo Tu We Th Fr Sa Su\n",
            "    1  2  3  4  5  6\n",
            " 7  8  9 10 11 12 13\n",
            "14 15 16 17 18 19 20\n",
            "21 22 23 24 25 26 27\n",
            "28 29 30 31\n",
            "\n",
            "    August 2025\n",
            "Mo Tu We Th Fr Sa Su\n",
            "             1  2  3\n",
            " 4  5  6  7  8  9 10\n",
            "11 12 13 14 15 16 17\n",
            "18 19 20 21 22 23 24\n",
            "25 26 27 28 29 30 31\n",
            "\n",
            "   September 2025\n",
            "Mo Tu We Th Fr Sa Su\n",
            " 1  2  3  4  5  6  7\n",
            " 8  9 10 11 12 13 14\n",
            "15 16 17 18 19 20 21\n",
            "22 23 24 25 26 27 28\n",
            "29 30\n",
            "\n",
            "    October 2025\n",
            "Mo Tu We Th Fr Sa Su\n",
            "       1  2  3  4  5\n",
            " 6  7  8  9 10 11 12\n",
            "13 14 15 16 17 18 19\n",
            "20 21 22 23 24 25 26\n",
            "27 28 29 30 31\n",
            "\n",
            "   November 2025\n",
            "Mo Tu We Th Fr Sa Su\n",
            "                1  2\n",
            " 3  4  5  6  7  8  9\n",
            "10 11 12 13 14 15 16\n",
            "17 18 19 20 21 22 23\n",
            "24 25 26 27 28 29 30\n",
            "\n",
            "   December 2025\n",
            "Mo Tu We Th Fr Sa Su\n",
            " 1  2  3  4  5  6  7\n",
            " 8  9 10 11 12 13 14\n",
            "15 16 17 18 19 20 21\n",
            "22 23 24 25 26 27 28\n",
            "29 30 31\n",
            "\n"
          ]
        }
      ],
      "source": [
        "# prompt: 2025 calendar  jan to dec\n",
        "\n",
        "import calendar\n",
        "\n",
        "def generate_calendar(year):\n",
        "    \"\"\"Generates a calendar for the given year.\"\"\"\n",
        "\n",
        "    for month in range(1, 13):  # Iterate through months (1-12)\n",
        "        print(calendar.month(year, month))\n",
        "\n",
        "\n",
        "if __name__ == \"__main__\":\n",
        "    generate_calendar(2025)\n"
      ]
    },
    {
      "cell_type": "code",
      "execution_count": null,
      "metadata": {
        "id": "2e2TGIgYJeZF"
      },
      "outputs": [],
      "source": [
        "yy = 2024\n",
        "mm = 2\n",
        "print(calendar.month(yy, mm))"
      ]
    },
    {
      "cell_type": "code",
      "execution_count": null,
      "metadata": {
        "id": "AcF1CIKZKsiC"
      },
      "outputs": [],
      "source": []
    },
    {
      "cell_type": "code",
      "execution_count": null,
      "metadata": {
        "colab": {
          "base_uri": "https://localhost:8080/"
        },
        "id": "3v49ly6TS1KO",
        "outputId": "281108d6-e340-4db9-bccb-3c37e14df168"
      },
      "outputs": [
        {
          "name": "stdout",
          "output_type": "stream",
          "text": [
            "   December 2025\n",
            "Mo Tu We Th Fr Sa Su\n",
            " 1  2  3  4  5  6  7\n",
            " 8  9 10 11 12 13 14\n",
            "15 16 17 18 19 20 21\n",
            "22 23 24 25 26 27 28\n",
            "29 30 31\n",
            "\n"
          ]
        }
      ],
      "source": [
        "year = 2025\n",
        "month = 12\n",
        "print(calendar.month(year, month))"
      ]
    },
    {
      "cell_type": "markdown",
      "metadata": {
        "id": "AWhfIzgBDwce"
      },
      "source": [
        "# OPERATORS"
      ]
    },
    {
      "cell_type": "code",
      "execution_count": null,
      "metadata": {
        "id": "niDKbIyUDrA-"
      },
      "outputs": [],
      "source": [
        "a = 5\n",
        "b =10\n",
        "print(a+b)\n",
        "\n",
        "a = 11\n",
        "b = 15\n",
        "print(a-b)\n",
        "\n",
        "a = 0\n",
        "b = 11\n",
        "print(a * b)\n",
        "\n",
        "a = 100\n",
        "b = 2\n",
        "print( a / b )\n",
        "\n",
        "a = 5\n",
        "b = 5\n",
        "print( a ** b)\n",
        "\n",
        "a = 55\n",
        "b = 11\n",
        "print( a / b)\n",
        "\n",
        "a = 55\n",
        "b = 44\n",
        "print( a % b )\n",
        "\n"
      ]
    },
    {
      "cell_type": "code",
      "execution_count": null,
      "metadata": {
        "id": "9PDM2QVdpY8j"
      },
      "outputs": [],
      "source": [
        "x = 100\n",
        "x = x + 100\n",
        "\n",
        "print(\"x:\", x )\n",
        "\n",
        "x = 100\n",
        "x = x =- 100\n",
        "print(\"x:\", x)\n",
        "\n",
        "x = 100\n",
        "x = x * 100\n",
        "print(\"x:\", x)\n",
        "\n",
        "x = 100\n",
        "x = x / 100\n",
        "print(\"x:\", x)\n",
        "\n",
        "\n"
      ]
    },
    {
      "cell_type": "code",
      "execution_count": null,
      "metadata": {
        "id": "jc6Jn_t0F24e"
      },
      "outputs": [],
      "source": [
        "x = 100\n",
        "y = 50\n",
        "\n",
        "print( x == y )\n",
        "print( x != y )\n",
        "print( x >= y )\n",
        "print( x <= y )\n",
        "print( x > y )\n",
        "print( x < y )\n",
        "\n"
      ]
    },
    {
      "cell_type": "code",
      "execution_count": null,
      "metadata": {
        "id": "KnWSb72mvQQj"
      },
      "outputs": [],
      "source": [
        "x = 150\n",
        "x += 150\n",
        "print(\"x :\", x)\n",
        "\n",
        "x = 150\n",
        "x *= 150\n",
        "print(\"x :\", x)\n",
        "\n",
        "x = 150\n",
        "x /= 150\n",
        "print(\"x :\", x)\n",
        "\n",
        "\n"
      ]
    },
    {
      "cell_type": "code",
      "execution_count": null,
      "metadata": {
        "id": "Rz48ObaRhP5d"
      },
      "outputs": [],
      "source": [
        "\n",
        "x =  66.60\n",
        "x = str(x)\n",
        "print(type(x))"
      ]
    },
    {
      "cell_type": "code",
      "execution_count": null,
      "metadata": {
        "id": "mAsWp3BygNxK"
      },
      "outputs": [],
      "source": [
        "x1 = float(\"22\")\n",
        "x2 = 44.50\n",
        "print(type(x1))\n",
        "print(x1 + x2)"
      ]
    },
    {
      "cell_type": "code",
      "execution_count": null,
      "metadata": {
        "id": "oFIhVvCMePSl"
      },
      "outputs": [],
      "source": [
        "x1 = int(\"2\")\n",
        "x2 = 3.50\n",
        "\n",
        "print(type(x1))\n",
        "print(x1 + x2)"
      ]
    },
    {
      "cell_type": "code",
      "execution_count": null,
      "metadata": {
        "id": "KxssuSmCdEhS"
      },
      "outputs": [],
      "source": [
        "x1 = 24\n",
        "x2 = 20.23\n",
        "sum = x1+x2\n",
        "print(sum)"
      ]
    },
    {
      "cell_type": "code",
      "execution_count": null,
      "metadata": {
        "id": "lWwskQ2b-vyL"
      },
      "outputs": [],
      "source": [
        "x1 = 100\n",
        "x2 = 50\n",
        "print(\"OR oprrater:\", (x1 == x2) or (x1 > x2))"
      ]
    },
    {
      "cell_type": "code",
      "execution_count": null,
      "metadata": {
        "id": "X_uJCKq89p9b"
      },
      "outputs": [],
      "source": [
        "x1 = True\n",
        "x2 = True\n",
        "print(\"AND operator :\", ( x1 and x2)"
      ]
    },
    {
      "cell_type": "code",
      "execution_count": null,
      "metadata": {
        "id": "vqjxz6fPxp58"
      },
      "outputs": [],
      "source": [
        "print(not False)\n",
        "print(not True)"
      ]
    },
    {
      "cell_type": "code",
      "execution_count": null,
      "metadata": {
        "id": "N93F3yL0MrEC"
      },
      "outputs": [],
      "source": []
    },
    {
      "cell_type": "code",
      "execution_count": null,
      "metadata": {
        "id": "ekeRAXqbVVsm"
      },
      "outputs": [],
      "source": [
        "yy = 2025\n",
        "mm = 5\n",
        "print(calendar.month(yy, mm))"
      ]
    },
    {
      "cell_type": "code",
      "execution_count": null,
      "metadata": {
        "id": "6YemEncHxocE"
      },
      "outputs": [],
      "source": [
        "yy = 2025\n",
        "mm = 12\n",
        "print(calendar.month(yy, mm))"
      ]
    },
    {
      "cell_type": "markdown",
      "metadata": {
        "id": "_PHGhI_NjhUK"
      },
      "source": [
        "# ***CONDIRIONAL STATEMENTS***"
      ]
    },
    {
      "cell_type": "code",
      "execution_count": null,
      "metadata": {
        "id": "vo00twcpE_H-"
      },
      "outputs": [],
      "source": [
        "age = 23\n",
        "\n",
        "if(age >= 18):\n",
        "    print(\"You are eligible to NIC\")\n",
        "else:\n",
        "    print(\"You are not eligible to NIC\")\n",
        "\n",
        "\n",
        "age = 5\n",
        "\n",
        "if(age >= 4):\n",
        "    print(\"You are eligible to admisstion nursery\")\n",
        "else:\n",
        "    print(\"You are not eligible to admission nursery\")\n",
        "\n",
        "\n",
        "\n",
        "    age = 22\n",
        "\n",
        "    if(age >= 18):\n",
        "      print(\"you can dribe car\")\n",
        "    else:\n",
        "      print(\"you can't drive a car\")\n"
      ]
    },
    {
      "cell_type": "code",
      "execution_count": null,
      "metadata": {
        "id": "iZbtLD7rzz99"
      },
      "outputs": [],
      "source": [
        "marks = 75\n",
        "\n",
        "if(marks >= 90):\n",
        "  print(\"Grade A\")\n",
        "elif(marks >= 80):\n",
        "  print(\"Grade B\")\n",
        "elif(marks >= 70):\n",
        "  print(\"Grade C\")\n",
        "elif(marks >= 60):\n",
        "  print(\"Grade D\")"
      ]
    },
    {
      "cell_type": "code",
      "execution_count": null,
      "metadata": {
        "id": "oKYS3q2--Ju0"
      },
      "outputs": [],
      "source": [
        "marks1 = 90.6\n",
        "marks2 = 80.7\n",
        "marks3 = 70.3\n",
        "marls4 = 60.7\n",
        "markd5 = 50.4\n",
        "\n",
        "marks = [90.4, 80.7, 70.3, 60.7, 50.4]\n",
        "print(marks)\n",
        "print(type(marks))\n",
        "print(marks[0])\n",
        "print(marks[1])\n"
      ]
    },
    {
      "cell_type": "code",
      "execution_count": null,
      "metadata": {
        "id": "gCW7yIxY98g0"
      },
      "outputs": [],
      "source": [
        "marks = int(input(\"Enter student marks : \"))\n",
        "\n",
        "marks = 75\n",
        "\n",
        "if(marks >= 90):\n",
        "  Grade = \"A\"\n",
        "elif(marks >= 80 and marks < 90):\n",
        "  Grade = \"B\"\n",
        "elif(marks >= 70 and marks < 80):\n",
        "  Grade = \"C\"\n",
        "else:\n",
        "  Grade = \"D\"\n",
        "\n",
        "print(\"Grade of the studen ->\", Grade)\n",
        "\n"
      ]
    },
    {
      "cell_type": "markdown",
      "metadata": {
        "id": "ciUxahExmuCo"
      },
      "source": [
        "# ***LIST( SILICING, INDEXING, METHODS ) ***"
      ]
    },
    {
      "cell_type": "code",
      "execution_count": null,
      "metadata": {
        "id": "QgtOjDSqVmzS"
      },
      "outputs": [],
      "source": [
        "student = [\"IFTIKHAR\", 90.6, 40, \"Karachi, Pakistan\"]\n",
        "print(student)\n",
        "student[0] = \"ARSAL IFTIKHAR\"\n",
        "print(student)\n",
        "\n"
      ]
    },
    {
      "cell_type": "code",
      "execution_count": null,
      "metadata": {
        "id": "U5NKJbR6gwdR"
      },
      "outputs": [],
      "source": [
        "marks = [ 90, 80, 70, 60, 50, 40 ]\n",
        "print(marks[1:5])\n",
        "print(marks[2:4])\n",
        "print(marks[ :3])\n",
        "print(marks[2: ])\n",
        "print(marks[-2:-1])\n",
        "print(marks[-1:-3])\n",
        "print(marks[-4:-1])\n"
      ]
    },
    {
      "cell_type": "code",
      "execution_count": null,
      "metadata": {
        "id": "nh8C5ZAEmkl8"
      },
      "outputs": [],
      "source": [
        "\n",
        "list = [ 1, 2, 3, 4, 5, 6]\n",
        "list.append(7)\n",
        "print(list.sort())\n",
        "list.insert(2, 7)\n",
        "print(list)\n",
        "\n",
        "\n",
        "\n",
        "\n",
        "\n"
      ]
    },
    {
      "cell_type": "code",
      "execution_count": null,
      "metadata": {
        "id": "veWL7AtJ2XaG"
      },
      "outputs": [],
      "source": [
        "list = [1, 2, 3, 4, 5, 6, ]\n",
        "list.remove(1)\n",
        "list.pop(4)\n",
        "print(list)\n"
      ]
    },
    {
      "cell_type": "code",
      "execution_count": null,
      "metadata": {
        "id": "86888DdL4v71"
      },
      "outputs": [],
      "source": [
        "tup = (2, 3, 5, 8, 9)\n",
        "print(type(tup))\n",
        "\n",
        "\n",
        "tup = ()\n",
        "print(tup)\n",
        "print(type(tup))\n",
        "\n",
        "tup = (1,)\n",
        "print(tup)\n",
        "\n",
        "tup = (1)\n",
        "tup = (2.0)\n",
        "tup = \"IFTIKHAR\"\n",
        "print(type(tup))\n",
        "\n",
        "tup = (\"IFTIKHAR\",)\n",
        "tup = (2.0)\n",
        "print(tup)\n",
        "print(type(tup))\n",
        "\n"
      ]
    },
    {
      "cell_type": "code",
      "execution_count": null,
      "metadata": {
        "id": "7KyuzLvMGd5T"
      },
      "outputs": [],
      "source": [
        "tup = (1, 2, 4, 5, 7, 6)\n",
        "print(tup.index(1))\n",
        "print(tup.index(2))\n",
        "print(tup.count(4))\n",
        "print(tup.count(1))"
      ]
    },
    {
      "cell_type": "code",
      "execution_count": null,
      "metadata": {
        "id": "zalCEdJwQZhB"
      },
      "outputs": [],
      "source": []
    },
    {
      "cell_type": "code",
      "execution_count": null,
      "metadata": {
        "id": "_3GgkoztQa3j"
      },
      "outputs": [],
      "source": []
    },
    {
      "cell_type": "markdown",
      "metadata": {
        "id": "DdHBaKvIQdBp"
      },
      "source": [
        "# **DICTIONARY and SET**"
      ]
    },
    {
      "cell_type": "code",
      "execution_count": null,
      "metadata": {
        "id": "WeMznCNYQsPj"
      },
      "outputs": [],
      "source": [
        "info = {\n",
        "    \"key\":\"value\",\n",
        "    \"name\":\"IFTIKHAR\",\n",
        "    \"subject\":\"English\",\n",
        "}\n",
        "\n",
        "print(info)\n",
        "print(type(info))\n",
        "print(info[\"name\"])\n",
        "print(info[\"subject\"])\n",
        "print(info[\"key\"])\n",
        "\n",
        "\n",
        "info[\"name\"] = \"ARSAL IFTIKHAR ALAM\"\n",
        "info[\"subject\"]= \"physic\"\n",
        "print(info)\n",
        "\n",
        "nul_dic = {}\n",
        "print(nul_dic)\n",
        "nul_dic[\"name\"] = \"ZARNISHA\"\n",
        "print(nul_dic)"
      ]
    },
    {
      "cell_type": "markdown",
      "metadata": {
        "id": "Pi7i77fqQly_"
      },
      "source": [
        "# ***NESTED DICTIONARY***"
      ]
    },
    {
      "cell_type": "code",
      "execution_count": null,
      "metadata": {
        "colab": {
          "base_uri": "https://localhost:8080/",
          "height": 106
        },
        "id": "Op1_Jyf2QwOc",
        "outputId": "d976da55-3747-4e22-cd8f-c1f5871e9d78"
      },
      "outputs": [
        {
          "ename": "SyntaxError",
          "evalue": "':' expected after dictionary key (<ipython-input-24-766fa35d7f0a>, line 2)",
          "output_type": "error",
          "traceback": [
            "\u001b[0;36m  File \u001b[0;32m\"<ipython-input-24-766fa35d7f0a>\"\u001b[0;36m, line \u001b[0;32m2\u001b[0m\n\u001b[0;31m    \"name\" : \"Aslam\", \"Ashraf\", \"azam\",\u001b[0m\n\u001b[0m                             ^\u001b[0m\n\u001b[0;31mSyntaxError\u001b[0m\u001b[0;31m:\u001b[0m ':' expected after dictionary key\n"
          ]
        }
      ],
      "source": [
        "student = {\n",
        "     \"name\" : \"Aslam\", \"Ashraf\", \"azam\",\n",
        "\n",
        "     \"subject\" = {\n",
        "        \"phy\" : 80,\n",
        "        \"Chem\" : 90,\n",
        "        \"Math\" : 100\n",
        "\n",
        "     }\n",
        "\n",
        "\n",
        "}\n",
        "\n",
        "new_dic = {\"name:\", karachi\", \"lahore\", \"peshawar\", \"Aslam :\", \"age:\", = 18}\n",
        "new_dic = {\"name:\", \"multan\", \"lahore\", \"peshawar\", \"Aslam:\", \"ageL\", = 18 }\n",
        "student.update(new_dic)\n",
        "print(new_dic)\n",
        "print(student)\n"
      ]
    },
    {
      "cell_type": "code",
      "execution_count": null,
      "metadata": {
        "colab": {
          "base_uri": "https://localhost:8080/"
        },
        "id": "CDSeftoE2c8T",
        "outputId": "dadb1248-874f-4761-be14-0709ada49dca"
      },
      "outputs": [
        {
          "name": "stdout",
          "output_type": "stream",
          "text": [
            "{1, 2, 3, 4, 5, 'kamal', 'Zarnisha'}\n",
            "<class 'set'>\n",
            "7\n",
            "<class 'set'>\n"
          ]
        },
        {
          "data": {
            "text/plain": [
              "2"
            ]
          },
          "execution_count": 11,
          "metadata": {},
          "output_type": "execute_result"
        }
      ],
      "source": [
        "collection = {1, 2, 3, 2, 4, 5, 5, \"Zarnisha\", \"kamal\", \"kamal\", \"Zarnisha\"}\n",
        "print(collection)\n",
        "print(type(collection))\n",
        "print(len(collection))\n",
        "\n",
        "collection = set()\n",
        "print(type(collection))\n",
        "collection.add(2)\n",
        "collection.add(\"IFTIKHAR\")\n",
        "collection.remove(\"IFTIKHAR\")\n",
        "collection.pop()\n",
        "\n",
        "# print(collection.clear())\n",
        "\n"
      ]
    },
    {
      "cell_type": "code",
      "execution_count": null,
      "metadata": {
        "colab": {
          "base_uri": "https://localhost:8080/"
        },
        "id": "yUWK-ws_PvVD",
        "outputId": "dd7af9e9-0ecc-4f32-81d1-5ae62d8e9116"
      },
      "outputs": [
        {
          "name": "stdout",
          "output_type": "stream",
          "text": [
            "{1, 2, 3, 4, 5, 6, 7, 8}\n",
            "{4, 5}\n",
            "{1, 2, 3}\n",
            "{1, 2, 3, 4, 5}\n",
            "{4, 5, 6, 7, 8}\n"
          ]
        }
      ],
      "source": [
        "set1 = {1, 2, 3, 4, 5}\n",
        "set2 = {4, 5, 6, 7, 8}\n",
        "\n",
        "print(set1.union(set2))\n",
        "print(set1.intersection(set2))\n",
        "print(set1.difference(set2))\n",
        "print(set1)\n",
        "print(set2)"
      ]
    },
    {
      "cell_type": "markdown",
      "metadata": {
        "id": "H9o_hFC7ES0q"
      },
      "source": [
        "# ***LOOPS IN PYTHON ( WHILE & FOR LOOPS)***\n",
        "LOOPS ARE USED TO REPEAT INSTRUCTIONS\n",
        "WHILE & FOR LOOPS ARE RESERVED WORD\n",
        "\n",
        "VARIABLE\n",
        "\n",
        "(count)\n",
        "(ITERASTOR = i\n",
        "ITERATION = i)"
      ]
    },
    {
      "cell_type": "code",
      "execution_count": null,
      "metadata": {
        "colab": {
          "base_uri": "https://localhost:8080/"
        },
        "id": "X_XwdO-gEEgZ",
        "outputId": "13f85c67-075d-4533-f6e6-4f275c5a4f72"
      },
      "outputs": [
        {
          "name": "stdout",
          "output_type": "stream",
          "text": [
            "Hello Iftikhar\n",
            "2\n",
            "Hello Iftikhar\n",
            "3\n",
            "Hello Iftikhar\n",
            "4\n",
            "Hello Iftikhar\n",
            "5\n",
            "Hello Iftikhar\n",
            "6\n",
            "Hello Iftikhar\n",
            "7\n",
            "Hello Iftikhar\n",
            "8\n",
            "Hello Iftikhar\n",
            "9\n",
            "Hello Iftikhar\n",
            "10\n",
            "Hello Iftikhar\n",
            "11\n"
          ]
        }
      ],
      "source": [
        "# while True:\n",
        "#   print(\"Hello World\")\n",
        "#   print will infinite I can't stop\n",
        "\n",
        "count = 1\n",
        "while count <= 10 :\n",
        "  print(\"Hello Iftikhar\")\n",
        "  count += 1\n",
        "  print(count)"
      ]
    },
    {
      "cell_type": "code",
      "execution_count": null,
      "metadata": {
        "colab": {
          "base_uri": "https://localhost:8080/"
        },
        "id": "qrakbH4WKEfv",
        "outputId": "1d2a28ad-c78c-4836-c4bd-cfde74dd8be4"
      },
      "outputs": [
        {
          "name": "stdout",
          "output_type": "stream",
          "text": [
            "Hello Arsal Iftikhar\n",
            "Welcome to Python Programming Iftikhar\n",
            "Hello Arsal Iftikhar\n",
            "Welcome to Python Programming Iftikhar\n",
            "Hello Arsal Iftikhar\n",
            "Welcome to Python Programming Iftikhar\n",
            "Hello Arsal Iftikhar\n",
            "Welcome to Python Programming Iftikhar\n",
            "Hello Arsal Iftikhar\n",
            "Welcome to Python Programming Iftikhar\n",
            "Hello Arsal Iftikhar\n",
            "Welcome to Python Programming Iftikhar\n",
            "Hello Arsal Iftikhar\n",
            "Welcome to Python Programming Iftikhar\n",
            "Hello Arsal Iftikhar\n",
            "Welcome to Python Programming Iftikhar\n",
            "Hello Arsal Iftikhar\n",
            "Welcome to Python Programming Iftikhar\n",
            "Hello Arsal Iftikhar\n",
            "Welcome to Python Programming Iftikhar\n"
          ]
        }
      ],
      "source": [
        "i = 1\n",
        "while i <= 10:\n",
        "  print(\"Hello Arsal Iftikhar\")\n",
        "  i+=1\n",
        "\n",
        "  print(\"Welcome to Python Programming Iftikhar\" )\n",
        "\n",
        "  # i = 1\n",
        "  # while i <= 100000:\n",
        "  #   print(\"Welcome to Python Programming Iftikhar\" i)\n",
        "  #   i+=1"
      ]
    },
    {
      "cell_type": "code",
      "execution_count": null,
      "metadata": {
        "colab": {
          "base_uri": "https://localhost:8080/"
        },
        "id": "9QA78_uZXxte",
        "outputId": "ddcc1026-fad2-4755-afbf-4f6b1c9a4805"
      },
      "outputs": [
        {
          "name": "stdout",
          "output_type": "stream",
          "text": [
            "1\n",
            "Loop ended\n",
            "Loop ended\n",
            "2\n",
            "Loop ended\n",
            "Loop ended\n",
            "3\n",
            "Loop ended\n",
            "Loop ended\n",
            "4\n",
            "Loop ended\n",
            "Loop ended\n",
            "5\n",
            "Loop ended\n",
            "Loop ended\n"
          ]
        }
      ],
      "source": [
        "i = 1\n",
        "while i <= 5:\n",
        "  print(i)\n",
        "  i += 1\n",
        "\n",
        "  print(\"Loop ended\")\n",
        "  print(\"Loop ended\")"
      ]
    },
    {
      "cell_type": "code",
      "execution_count": null,
      "metadata": {
        "colab": {
          "base_uri": "https://localhost:8080/"
        },
        "id": "2eD_CskxZc3v",
        "outputId": "8d00a1e1-2e47-4ae0-f57d-30b0b326da90"
      },
      "outputs": [
        {
          "name": "stdout",
          "output_type": "stream",
          "text": [
            "5\n",
            "Loop ended\n",
            "4\n",
            "Loop ended\n",
            "3\n",
            "Loop ended\n",
            "2\n",
            "Loop ended\n",
            "1\n",
            "Loop ended\n"
          ]
        }
      ],
      "source": [
        "i = 5\n",
        "while i >= 1:\n",
        "  print(i)\n",
        "  i -= 1\n",
        "\n",
        "  print(\"Loop ended\")\n",
        "\n",
        "  # infinite Lookup\n",
        "  # i = 5\n",
        "  # qhile i< 6:\n",
        "  # print(i)\n",
        "  # i -= 1\n",
        "\n",
        "\n",
        "  # i = 1\n",
        "  # while i <= 100:\n",
        "  #   print(i)\n",
        "  #   i += 1\n",
        "\n",
        "\n",
        "# i = 100\n",
        "# while i >= 1:\n",
        "#   print(i)\n",
        "#   i -= 1\n",
        "\n",
        "\n"
      ]
    },
    {
      "cell_type": "code",
      "execution_count": null,
      "metadata": {
        "colab": {
          "base_uri": "https://localhost:8080/"
        },
        "id": "OgXkDT_raeyd",
        "outputId": "7f104103-acb8-47c2-ce2c-d2c59b67d271"
      },
      "outputs": [
        {
          "name": "stdout",
          "output_type": "stream",
          "text": [
            "3\n",
            "6\n",
            "9\n",
            "12\n",
            "15\n",
            "18\n",
            "21\n",
            "24\n",
            "27\n",
            "30\n"
          ]
        }
      ],
      "source": [
        "i = 1\n",
        "while i <= 10:\n",
        "  print(3*i)\n",
        "  i += 1\n",
        "\n",
        "\n",
        "\n",
        "#  i = 1\n",
        "#  while i <= 10:\n",
        "#  print(5*i)\n",
        "#  i += 1\n"
      ]
    },
    {
      "cell_type": "code",
      "execution_count": null,
      "metadata": {
        "colab": {
          "base_uri": "https://localhost:8080/"
        },
        "id": "i18U-YN6gbE2",
        "outputId": "018433e1-acc4-44c7-f684-b5873b44d40b"
      },
      "outputs": [
        {
          "name": "stdout",
          "output_type": "stream",
          "text": [
            "5\n",
            "10\n",
            "15\n",
            "20\n",
            "25\n",
            "30\n",
            "35\n",
            "40\n",
            "45\n",
            "50\n"
          ]
        }
      ],
      "source": [
        "i = 1\n",
        "while i <= 10:\n",
        "  print(5*i)\n",
        "  i += 1\n",
        "\n",
        "  # print(\"Loop ended\")"
      ]
    },
    {
      "cell_type": "code",
      "execution_count": null,
      "metadata": {
        "colab": {
          "base_uri": "https://localhost:8080/"
        },
        "id": "KyIqV3-NhZgX",
        "outputId": "3bf8dba4-58d3-49e8-927c-faeeb94acbf2"
      },
      "outputs": [
        {
          "name": "stdout",
          "output_type": "stream",
          "text": [
            "15\n",
            "30\n",
            "45\n",
            "60\n",
            "75\n",
            "90\n",
            "105\n",
            "120\n",
            "135\n",
            "150\n"
          ]
        }
      ],
      "source": [
        "i = 1\n",
        "while i <= 10:\n",
        "  print(15*i)\n",
        "  i += 1\n",
        "\n",
        "  # print(\"Loop ended\")"
      ]
    },
    {
      "cell_type": "code",
      "execution_count": null,
      "metadata": {
        "colab": {
          "base_uri": "https://localhost:8080/"
        },
        "id": "Bef2z-9cho8e",
        "outputId": "8b235bdc-dd86-47bc-c4d9-4116316ec2ec"
      },
      "outputs": [
        {
          "name": "stdout",
          "output_type": "stream",
          "text": [
            "Enter a number : 20\n",
            "20\n",
            "40\n",
            "60\n",
            "80\n",
            "100\n",
            "120\n",
            "140\n",
            "160\n",
            "180\n",
            "200\n"
          ]
        }
      ],
      "source": [
        "n = int(input(\"Enter a number : \"))\n",
        "i = 1\n",
        "while i <= 10:\n",
        "  print(n*i)\n",
        "  i += 1"
      ]
    },
    {
      "cell_type": "code",
      "execution_count": null,
      "metadata": {
        "colab": {
          "base_uri": "https://localhost:8080/"
        },
        "id": "r0ojdVQJlXZC",
        "outputId": "e5422c5a-c1d3-4975-ff9b-9851b796ce56"
      },
      "outputs": [
        {
          "name": "stdout",
          "output_type": "stream",
          "text": [
            "Enter a number : 18\n",
            "18\n",
            "36\n",
            "54\n",
            "72\n",
            "90\n",
            "108\n",
            "126\n",
            "144\n",
            "162\n",
            "180\n"
          ]
        }
      ],
      "source": [
        "n = int(input(\"Enter a number : \"))\n",
        "i = 1\n",
        "while i <= 10:\n",
        "  print(n*i)\n",
        "  i += 1"
      ]
    },
    {
      "cell_type": "code",
      "execution_count": null,
      "metadata": {
        "colab": {
          "base_uri": "https://localhost:8080/"
        },
        "id": "1ihUl0sWmmcm",
        "outputId": "05ddb3af-b134-4d11-d27b-fb42c06c373a"
      },
      "outputs": [
        {
          "name": "stdout",
          "output_type": "stream",
          "text": [
            "0\n",
            "1\n",
            "1\n",
            "2\n",
            "2\n",
            "3\n",
            "3\n",
            "4\n",
            "4\n",
            "45\n",
            "5\n",
            "77\n",
            "6\n",
            "81\n",
            "7\n",
            "90\n",
            "8\n",
            "100\n"
          ]
        }
      ],
      "source": [
        "nums = [1, 2, 3, 4, 45, 77, 81, 90, 100 ]\n",
        "\n",
        "index = 0\n",
        "while index < len(nums):\n",
        "  print(index)\n",
        "  print(nums[index])\n",
        "  index += 1"
      ]
    },
    {
      "cell_type": "code",
      "execution_count": null,
      "metadata": {
        "colab": {
          "base_uri": "https://localhost:8080/"
        },
        "id": "ozqHEnckocka",
        "outputId": "f20014e3-8fe9-462b-879f-3fe620e3763a"
      },
      "outputs": [
        {
          "name": "stdout",
          "output_type": "stream",
          "text": [
            "waseem akram\n",
            "javeed mian dad\n",
            "imran khan\n",
            "waqar younus\n"
          ]
        }
      ],
      "source": [
        "heroes = [ \"waseem akram\", \"javeed mian dad\", \"imran khan\", \"waqar younus\"]\n",
        "\n",
        "index = 0\n",
        "while index < len(heroes):\n",
        "  print(heroes[index])\n",
        "  index += 1"
      ]
    },
    {
      "cell_type": "code",
      "execution_count": null,
      "metadata": {
        "id": "AG6JEcaEqO5O"
      },
      "outputs": [],
      "source": [
        "# heroes = [ \"waseem akram\", \"javeed mian dad\", \"imran khan\", \"waqar younus\"]\n",
        "i = 1\n",
        "while i < len(heroes):\n",
        "  print(hero[1])\n",
        "i += 1"
      ]
    },
    {
      "cell_type": "code",
      "execution_count": null,
      "metadata": {
        "colab": {
          "base_uri": "https://localhost:8080/"
        },
        "id": "-kpq7032mpQo",
        "outputId": "11394a87-ec0d-41fc-ab65-ae2e1439f7b7"
      },
      "outputs": [
        {
          "name": "stdout",
          "output_type": "stream",
          "text": [
            "found at index 7\n"
          ]
        }
      ],
      "source": [
        "nums = (1, 2, 3, 4, 5, 20, 30, 40, 50, 100)\n",
        "\n",
        "x = 40\n",
        "i = 0\n",
        "while i < len(nums):\n",
        "  if(nums[i] == x) :\n",
        "    print(\"found at index\", i)\n",
        "  i += 1\n",
        "\n"
      ]
    },
    {
      "cell_type": "code",
      "execution_count": null,
      "metadata": {
        "id": "W_tdOcenqr6h"
      },
      "outputs": [],
      "source": [
        "i = 1\n",
        "while i <= 10:\n",
        "  if(i % 2 != 0):\n",
        "    i += 1\n",
        "    continue\n",
        "  print(i)\n",
        "  i += 1"
      ]
    },
    {
      "cell_type": "code",
      "execution_count": null,
      "metadata": {
        "id": "fs-7TFybtpZ-"
      },
      "outputs": [],
      "source": [
        "i = 1\n",
        "while i <= 5:\n",
        "  print(i)\n",
        "  if(i == 3):\n",
        "      break\n",
        "    i += 1\n",
        "\n",
        "    print('End of the loop')"
      ]
    },
    {
      "cell_type": "code",
      "source": [
        "nums =(1, 2, 3, 4, 5, 20, 30, 40, 50, 100)\n",
        "x = 40\n",
        "i = 0\n",
        "while i < len(nums):\n",
        "\n",
        "   if(nums[i] == x):\n",
        "      print(\"found at index \", i)\n",
        "      break\n",
        "else:\n",
        "   print(\"finding...\")\n",
        "   i += 1\n",
        "print(\"End of loop\")\n"
      ],
      "metadata": {
        "id": "WCrs_VJkwjCg"
      },
      "execution_count": null,
      "outputs": []
    },
    {
      "cell_type": "code",
      "source": [
        "i = 1\n",
        "\n",
        "while i <= 5 :\n",
        "  if(i == 3):\n",
        "    break\n",
        "  print(i)\n",
        "  i += 1\n",
        "print('End of the loop')"
      ],
      "metadata": {
        "id": "4V5q-OK65JVA",
        "colab": {
          "base_uri": "https://localhost:8080/"
        },
        "outputId": "0ad77ff2-9ca0-431f-d77e-c08f2dce15d2"
      },
      "execution_count": null,
      "outputs": [
        {
          "output_type": "stream",
          "name": "stdout",
          "text": [
            "1\n",
            "2\n",
            "End of the loop\n"
          ]
        }
      ]
    },
    {
      "cell_type": "code",
      "source": [
        "i = 1\n",
        "\n",
        "while i <= 10:\n",
        "  if(i%2 == 0):\n",
        "    i += 1\n",
        "    continue\n",
        "  print(i)\n",
        "  i += 1"
      ],
      "metadata": {
        "id": "BZ9Fol_a2bNa",
        "colab": {
          "base_uri": "https://localhost:8080/"
        },
        "outputId": "de86597b-f3af-433b-e90d-b5727cb86898"
      },
      "execution_count": null,
      "outputs": [
        {
          "output_type": "stream",
          "name": "stdout",
          "text": [
            "1\n",
            "3\n",
            "5\n",
            "7\n",
            "9\n"
          ]
        }
      ]
    },
    {
      "cell_type": "code",
      "source": [
        "x = [1, 2, 3, 4, 6 ]\n",
        "for val in x :\n",
        "  print(val)"
      ],
      "metadata": {
        "id": "Npzpq0OJnRjd"
      },
      "execution_count": null,
      "outputs": []
    },
    {
      "cell_type": "code",
      "source": [
        "vagitable = [\"potasto\", \"tomato\", \"brinjal\" ]\n",
        "for val in vagitable:\n",
        "  print(val)"
      ],
      "metadata": {
        "id": "qU_o3Z3WoQ5y"
      },
      "execution_count": null,
      "outputs": []
    },
    {
      "cell_type": "code",
      "source": [
        "tup = (1, 2, 3, 4, 5)\n",
        "for val in tup:\n",
        "  print(val)"
      ],
      "metadata": {
        "id": "WGdodsnGpFZY"
      },
      "execution_count": null,
      "outputs": []
    },
    {
      "cell_type": "code",
      "source": [
        "str = \"IFTIKHAR\"\n",
        "for val in str:\n",
        "  print(val)\n",
        "else:\n",
        "  print(END)"
      ],
      "metadata": {
        "id": "28v3dnBVpqLf"
      },
      "execution_count": null,
      "outputs": []
    },
    {
      "cell_type": "code",
      "source": [
        "str = \"IFTIKHAR\"\n",
        "for char in str :\n",
        "  if(char == 'K'):\n",
        "    print(\"Found K\")\n",
        "    break\n",
        "  print(char)\n",
        "else:\n",
        "  print(\"Loop ended\")\n"
      ],
      "metadata": {
        "id": "HG1aGOdHqhbr"
      },
      "execution_count": null,
      "outputs": []
    },
    {
      "cell_type": "code",
      "source": [
        "nums = [1, 2, 3, 4, 5, 6, 7]\n",
        "\n",
        "for el in nums:\n",
        "  print(el)"
      ],
      "metadata": {
        "id": "Q_EXdTHovQFo"
      },
      "execution_count": null,
      "outputs": []
    },
    {
      "cell_type": "code",
      "source": [
        "nuns = (11, 12, 14, 16, 22, )\n",
        "\n",
        "x = 16\n",
        "index = 0\n",
        "\n",
        "for el in nums:\n",
        "  if(el == x):\n",
        "    print(\"nymbers found in index\", index)\n",
        "    break\n",
        "    index += 1"
      ],
      "metadata": {
        "id": "YjgIzaZyyLHr"
      },
      "execution_count": null,
      "outputs": []
    },
    {
      "cell_type": "code",
      "source": [
        "print(range(5))"
      ],
      "metadata": {
        "id": "Ait-_a9I1Jyv"
      },
      "execution_count": null,
      "outputs": []
    },
    {
      "cell_type": "code",
      "source": [
        "seq = range(5)\n",
        "print(seq(0))\n",
        "print(seq(1))\n",
        "print(seq(2))\n",
        "print(seq(3))\n",
        "print(seq(4))\n",
        "\n",
        "for i in seq:\n",
        "  print(i)\n"
      ],
      "metadata": {
        "id": "mF9jCgzU1Yba"
      },
      "execution_count": null,
      "outputs": []
    },
    {
      "cell_type": "code",
      "source": [
        "seq = range(10)\n",
        "\n",
        "for i in seq:\n",
        "  print(i)"
      ],
      "metadata": {
        "id": "ieaY4Z0x2pbX",
        "colab": {
          "base_uri": "https://localhost:8080/"
        },
        "outputId": "7e1296ee-90bc-4fbd-e946-163855f53214"
      },
      "execution_count": 4,
      "outputs": [
        {
          "output_type": "stream",
          "name": "stdout",
          "text": [
            "0\n",
            "1\n",
            "2\n",
            "3\n",
            "4\n",
            "5\n",
            "6\n",
            "7\n",
            "8\n",
            "9\n"
          ]
        }
      ]
    },
    {
      "cell_type": "code",
      "source": [
        "for i in range(10):\n",
        "  print(i)"
      ],
      "metadata": {
        "id": "Fwj34CT729NP",
        "colab": {
          "base_uri": "https://localhost:8080/"
        },
        "outputId": "55d0f06a-6d37-4c58-e6fa-ef325513aa3d"
      },
      "execution_count": 5,
      "outputs": [
        {
          "output_type": "stream",
          "name": "stdout",
          "text": [
            "0\n",
            "1\n",
            "2\n",
            "3\n",
            "4\n",
            "5\n",
            "6\n",
            "7\n",
            "8\n",
            "9\n"
          ]
        }
      ]
    },
    {
      "cell_type": "code",
      "source": [
        "for i in range(2, 10):\n",
        "  print(i)\n"
      ],
      "metadata": {
        "id": "PkXXJUwt3TnV",
        "colab": {
          "base_uri": "https://localhost:8080/"
        },
        "outputId": "a95fa8f1-7816-4e67-b42a-333d5138a5d2"
      },
      "execution_count": 9,
      "outputs": [
        {
          "output_type": "stream",
          "name": "stdout",
          "text": [
            "2\n",
            "3\n",
            "4\n",
            "5\n",
            "6\n",
            "7\n",
            "8\n",
            "9\n"
          ]
        }
      ]
    },
    {
      "cell_type": "code",
      "source": [
        "for i in range(2, 10, 2):\n",
        "  print(i)"
      ],
      "metadata": {
        "id": "jys1HcZ24N6J",
        "colab": {
          "base_uri": "https://localhost:8080/"
        },
        "outputId": "a206e5bb-d21d-499f-bc1f-a0a59d826fb4"
      },
      "execution_count": 22,
      "outputs": [
        {
          "output_type": "stream",
          "name": "stdout",
          "text": [
            "2\n",
            "4\n",
            "6\n",
            "8\n"
          ]
        }
      ]
    },
    {
      "cell_type": "code",
      "source": [
        "for i in range(2, 100, 2):\n",
        "  print(i)"
      ],
      "metadata": {
        "id": "ZiCOaP1e4vag",
        "colab": {
          "base_uri": "https://localhost:8080/"
        },
        "outputId": "f6234783-d611-4858-8ff9-d39c2986f33c"
      },
      "execution_count": 10,
      "outputs": [
        {
          "output_type": "stream",
          "name": "stdout",
          "text": [
            "2\n",
            "4\n",
            "6\n",
            "8\n",
            "10\n",
            "12\n",
            "14\n",
            "16\n",
            "18\n",
            "20\n",
            "22\n",
            "24\n",
            "26\n",
            "28\n",
            "30\n",
            "32\n",
            "34\n",
            "36\n",
            "38\n",
            "40\n",
            "42\n",
            "44\n",
            "46\n",
            "48\n",
            "50\n",
            "52\n",
            "54\n",
            "56\n",
            "58\n",
            "60\n",
            "62\n",
            "64\n",
            "66\n",
            "68\n",
            "70\n",
            "72\n",
            "74\n",
            "76\n",
            "78\n",
            "80\n",
            "82\n",
            "84\n",
            "86\n",
            "88\n",
            "90\n",
            "92\n",
            "94\n",
            "96\n",
            "98\n"
          ]
        }
      ]
    },
    {
      "cell_type": "code",
      "source": [
        "for i in range(1, 100, 2):\n",
        "  print(i)"
      ],
      "metadata": {
        "id": "mLH45YNs5Jpm"
      },
      "execution_count": null,
      "outputs": []
    },
    {
      "cell_type": "code",
      "source": [
        "for i in range(101):\n",
        "  print(i)"
      ],
      "metadata": {
        "id": "TVL6jxot5rUm",
        "colab": {
          "base_uri": "https://localhost:8080/"
        },
        "outputId": "544278ab-afc8-4e61-e6b1-a8f310e8637c"
      },
      "execution_count": 11,
      "outputs": [
        {
          "output_type": "stream",
          "name": "stdout",
          "text": [
            "0\n",
            "1\n",
            "2\n",
            "3\n",
            "4\n",
            "5\n",
            "6\n",
            "7\n",
            "8\n",
            "9\n",
            "10\n",
            "11\n",
            "12\n",
            "13\n",
            "14\n",
            "15\n",
            "16\n",
            "17\n",
            "18\n",
            "19\n",
            "20\n",
            "21\n",
            "22\n",
            "23\n",
            "24\n",
            "25\n",
            "26\n",
            "27\n",
            "28\n",
            "29\n",
            "30\n",
            "31\n",
            "32\n",
            "33\n",
            "34\n",
            "35\n",
            "36\n",
            "37\n",
            "38\n",
            "39\n",
            "40\n",
            "41\n",
            "42\n",
            "43\n",
            "44\n",
            "45\n",
            "46\n",
            "47\n",
            "48\n",
            "49\n",
            "50\n",
            "51\n",
            "52\n",
            "53\n",
            "54\n",
            "55\n",
            "56\n",
            "57\n",
            "58\n",
            "59\n",
            "60\n",
            "61\n",
            "62\n",
            "63\n",
            "64\n",
            "65\n",
            "66\n",
            "67\n",
            "68\n",
            "69\n",
            "70\n",
            "71\n",
            "72\n",
            "73\n",
            "74\n",
            "75\n",
            "76\n",
            "77\n",
            "78\n",
            "79\n",
            "80\n",
            "81\n",
            "82\n",
            "83\n",
            "84\n",
            "85\n",
            "86\n",
            "87\n",
            "88\n",
            "89\n",
            "90\n",
            "91\n",
            "92\n",
            "93\n",
            "94\n",
            "95\n",
            "96\n",
            "97\n",
            "98\n",
            "99\n",
            "100\n"
          ]
        }
      ]
    },
    {
      "cell_type": "code",
      "source": [
        "for i in range(1, 100):\n",
        "  print(i)"
      ],
      "metadata": {
        "id": "prtveRAO522U",
        "colab": {
          "base_uri": "https://localhost:8080/"
        },
        "outputId": "75db7cfb-4e22-4144-e1a6-adf92b455f70"
      },
      "execution_count": 12,
      "outputs": [
        {
          "output_type": "stream",
          "name": "stdout",
          "text": [
            "1\n",
            "2\n",
            "3\n",
            "4\n",
            "5\n",
            "6\n",
            "7\n",
            "8\n",
            "9\n",
            "10\n",
            "11\n",
            "12\n",
            "13\n",
            "14\n",
            "15\n",
            "16\n",
            "17\n",
            "18\n",
            "19\n",
            "20\n",
            "21\n",
            "22\n",
            "23\n",
            "24\n",
            "25\n",
            "26\n",
            "27\n",
            "28\n",
            "29\n",
            "30\n",
            "31\n",
            "32\n",
            "33\n",
            "34\n",
            "35\n",
            "36\n",
            "37\n",
            "38\n",
            "39\n",
            "40\n",
            "41\n",
            "42\n",
            "43\n",
            "44\n",
            "45\n",
            "46\n",
            "47\n",
            "48\n",
            "49\n",
            "50\n",
            "51\n",
            "52\n",
            "53\n",
            "54\n",
            "55\n",
            "56\n",
            "57\n",
            "58\n",
            "59\n",
            "60\n",
            "61\n",
            "62\n",
            "63\n",
            "64\n",
            "65\n",
            "66\n",
            "67\n",
            "68\n",
            "69\n",
            "70\n",
            "71\n",
            "72\n",
            "73\n",
            "74\n",
            "75\n",
            "76\n",
            "77\n",
            "78\n",
            "79\n",
            "80\n",
            "81\n",
            "82\n",
            "83\n",
            "84\n",
            "85\n",
            "86\n",
            "87\n",
            "88\n",
            "89\n",
            "90\n",
            "91\n",
            "92\n",
            "93\n",
            "94\n",
            "95\n",
            "96\n",
            "97\n",
            "98\n",
            "99\n"
          ]
        }
      ]
    },
    {
      "cell_type": "code",
      "source": [
        "for i in range(100, 0, -1):\n",
        "  print(i)"
      ],
      "metadata": {
        "id": "FMsvq7EA6N2B",
        "colab": {
          "base_uri": "https://localhost:8080/"
        },
        "outputId": "21f0eec8-88d0-40e4-d12f-012274f58a6a"
      },
      "execution_count": 13,
      "outputs": [
        {
          "output_type": "stream",
          "name": "stdout",
          "text": [
            "100\n",
            "99\n",
            "98\n",
            "97\n",
            "96\n",
            "95\n",
            "94\n",
            "93\n",
            "92\n",
            "91\n",
            "90\n",
            "89\n",
            "88\n",
            "87\n",
            "86\n",
            "85\n",
            "84\n",
            "83\n",
            "82\n",
            "81\n",
            "80\n",
            "79\n",
            "78\n",
            "77\n",
            "76\n",
            "75\n",
            "74\n",
            "73\n",
            "72\n",
            "71\n",
            "70\n",
            "69\n",
            "68\n",
            "67\n",
            "66\n",
            "65\n",
            "64\n",
            "63\n",
            "62\n",
            "61\n",
            "60\n",
            "59\n",
            "58\n",
            "57\n",
            "56\n",
            "55\n",
            "54\n",
            "53\n",
            "52\n",
            "51\n",
            "50\n",
            "49\n",
            "48\n",
            "47\n",
            "46\n",
            "45\n",
            "44\n",
            "43\n",
            "42\n",
            "41\n",
            "40\n",
            "39\n",
            "38\n",
            "37\n",
            "36\n",
            "35\n",
            "34\n",
            "33\n",
            "32\n",
            "31\n",
            "30\n",
            "29\n",
            "28\n",
            "27\n",
            "26\n",
            "25\n",
            "24\n",
            "23\n",
            "22\n",
            "21\n",
            "20\n",
            "19\n",
            "18\n",
            "17\n",
            "16\n",
            "15\n",
            "14\n",
            "13\n",
            "12\n",
            "11\n",
            "10\n",
            "9\n",
            "8\n",
            "7\n",
            "6\n",
            "5\n",
            "4\n",
            "3\n",
            "2\n",
            "1\n"
          ]
        }
      ]
    },
    {
      "cell_type": "code",
      "source": [
        "n = int(input(\"Enter a number : \"))\n",
        "for i in range(1, 11):\n",
        "  print(n*i)"
      ],
      "metadata": {
        "id": "-kHdBfyQ6bks",
        "colab": {
          "base_uri": "https://localhost:8080/"
        },
        "outputId": "ed2967bc-cb16-476e-da56-41c25ed3d216"
      },
      "execution_count": 14,
      "outputs": [
        {
          "output_type": "stream",
          "name": "stdout",
          "text": [
            "Enter a number : 22\n",
            "22\n",
            "44\n",
            "66\n",
            "88\n",
            "110\n",
            "132\n",
            "154\n",
            "176\n",
            "198\n",
            "220\n"
          ]
        }
      ]
    },
    {
      "cell_type": "code",
      "source": [],
      "metadata": {
        "id": "6mdw4v-z7Ddb"
      },
      "execution_count": 14,
      "outputs": []
    },
    {
      "cell_type": "code",
      "source": [
        "for i in range(5):\n",
        "  pass\n",
        "\n",
        "  print(\"some useful work\")"
      ],
      "metadata": {
        "id": "yzWPx_Yu7z6s",
        "colab": {
          "base_uri": "https://localhost:8080/"
        },
        "outputId": "a4629124-79df-4b43-9622-775e3fe51202"
      },
      "execution_count": 15,
      "outputs": [
        {
          "output_type": "stream",
          "name": "stdout",
          "text": [
            "some useful work\n",
            "some useful work\n",
            "some useful work\n",
            "some useful work\n",
            "some useful work\n"
          ]
        }
      ]
    },
    {
      "cell_type": "code",
      "source": [
        "if i > 5:\n",
        "  pass\n",
        "\n",
        "  print(\"some useful work\")"
      ],
      "metadata": {
        "id": "i5NAFlCz8Sul"
      },
      "execution_count": 18,
      "outputs": []
    },
    {
      "cell_type": "code",
      "source": [
        "n = 6\n",
        "\n",
        "for i in range(1, n+1):\n",
        "  print(i)"
      ],
      "metadata": {
        "id": "DSv81UG09Tv0",
        "colab": {
          "base_uri": "https://localhost:8080/"
        },
        "outputId": "5bf50839-0a50-4974-d9b0-bf0364b05ee1"
      },
      "execution_count": 19,
      "outputs": [
        {
          "output_type": "stream",
          "name": "stdout",
          "text": [
            "1\n",
            "2\n",
            "3\n",
            "4\n",
            "5\n",
            "6\n"
          ]
        }
      ]
    },
    {
      "cell_type": "code",
      "source": [
        "sun = 0\n",
        "for i in range(1, n+1):\n",
        "  sum += 1\n",
        "\n",
        "  print(\"total sum =\", sum)"
      ],
      "metadata": {
        "id": "Gq0XcUBZ93n3",
        "colab": {
          "base_uri": "https://localhost:8080/"
        },
        "outputId": "02e5bcf1-e585-429c-eec9-574f373bf7ff"
      },
      "execution_count": 20,
      "outputs": [
        {
          "output_type": "stream",
          "name": "stdout",
          "text": [
            "total sum = 6\n",
            "total sum = 7\n",
            "total sum = 8\n",
            "total sum = 9\n",
            "total sum = 10\n",
            "total sum = 11\n"
          ]
        }
      ]
    },
    {
      "cell_type": "code",
      "source": [
        "sum = 5\n",
        "for i in range(1, n+1):\n",
        "  sum += 1\n",
        "\n",
        "  print(\"total sum =\", sum)\n"
      ],
      "metadata": {
        "id": "-5xAnzqn-wab",
        "colab": {
          "base_uri": "https://localhost:8080/"
        },
        "outputId": "5c96ca47-e8ea-48be-9bcf-23ecdb9c15fb"
      },
      "execution_count": 21,
      "outputs": [
        {
          "output_type": "stream",
          "name": "stdout",
          "text": [
            "total sum = 6\n",
            "total sum = 7\n",
            "total sum = 8\n",
            "total sum = 9\n",
            "total sum = 10\n",
            "total sum = 11\n"
          ]
        }
      ]
    },
    {
      "cell_type": "code",
      "source": [],
      "metadata": {
        "id": "W8jwFirBaA15"
      },
      "execution_count": null,
      "outputs": []
    }
  ],
  "metadata": {
    "accelerator": "GPU",
    "colab": {
      "gpuType": "T4",
      "provenance": [],
      "authorship_tag": "ABX9TyPteI7LKnecqCUvk+L7cC1N",
      "include_colab_link": true
    },
    "kernelspec": {
      "display_name": "Python 3",
      "name": "python3"
    },
    "language_info": {
      "name": "python"
    }
  },
  "nbformat": 4,
  "nbformat_minor": 0
}