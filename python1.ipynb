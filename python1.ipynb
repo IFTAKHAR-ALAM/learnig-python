{
  "cells": [
    {
      "cell_type": "markdown",
      "metadata": {
        "id": "view-in-github",
        "colab_type": "text"
      },
      "source": [
        "<a href=\"https://colab.research.google.com/github/IFTAKHAR-ALAM/learnig-python/blob/main/python1.ipynb\" target=\"_parent\"><img src=\"https://colab.research.google.com/assets/colab-badge.svg\" alt=\"Open In Colab\"/></a>"
      ]
    },
    {
      "cell_type": "markdown",
      "metadata": {
        "id": "ffb5Nn-6448I"
      },
      "source": [
        "## MUHAMMAD IFTIKHAR ALAM\n",
        "##       476369"
      ]
    },
    {
      "cell_type": "code",
      "source": [],
      "metadata": {
        "colab": {
          "base_uri": "https://localhost:8080/",
          "height": 141
        },
        "id": "UuGnDezeDf3u",
        "outputId": "11c4d00e-565e-475d-8cce-10794ed67da4"
      },
      "execution_count": null,
      "outputs": [
        {
          "output_type": "error",
          "ename": "NameError",
          "evalue": "name 'streamlit' is not defined",
          "traceback": [
            "\u001b[0;31m---------------------------------------------------------------------------\u001b[0m",
            "\u001b[0;31mNameError\u001b[0m                                 Traceback (most recent call last)",
            "\u001b[0;32m<ipython-input-4-c87ed8091990>\u001b[0m in \u001b[0;36m<cell line: 0>\u001b[0;34m()\u001b[0m\n\u001b[0;32m----> 1\u001b[0;31m \u001b[0mstreamlit\u001b[0m  \u001b[0;34m-\u001b[0m\u001b[0;34m-\u001b[0m\u001b[0mhelp\u001b[0m\u001b[0;34m\u001b[0m\u001b[0;34m\u001b[0m\u001b[0m\n\u001b[0m",
            "\u001b[0;31mNameError\u001b[0m: name 'streamlit' is not defined"
          ]
        }
      ]
    },
    {
      "cell_type": "markdown",
      "source": [],
      "metadata": {
        "id": "e1622I4DIT1F"
      }
    },
    {
      "cell_type": "code",
      "source": [
        "# prompt: pip install streamlit as st\n",
        "\n",
        "!pip install streamlit\n",
        "import streamlit as st\n",
        "\n"
      ],
      "metadata": {
        "colab": {
          "base_uri": "https://localhost:8080/"
        },
        "id": "KGfgj8yXBBLK",
        "outputId": "71f6b520-5f0d-4d9d-eb2e-4062e8ee8ae3"
      },
      "execution_count": null,
      "outputs": [
        {
          "output_type": "stream",
          "name": "stdout",
          "text": [
            "Collecting streamlit\n",
            "  Downloading streamlit-1.44.1-py3-none-any.whl.metadata (8.9 kB)\n",
            "Requirement already satisfied: altair<6,>=4.0 in /usr/local/lib/python3.11/dist-packages (from streamlit) (5.5.0)\n",
            "Requirement already satisfied: blinker<2,>=1.0.0 in /usr/local/lib/python3.11/dist-packages (from streamlit) (1.9.0)\n",
            "Requirement already satisfied: cachetools<6,>=4.0 in /usr/local/lib/python3.11/dist-packages (from streamlit) (5.5.2)\n",
            "Requirement already satisfied: click<9,>=7.0 in /usr/local/lib/python3.11/dist-packages (from streamlit) (8.1.8)\n",
            "Requirement already satisfied: numpy<3,>=1.23 in /usr/local/lib/python3.11/dist-packages (from streamlit) (2.0.2)\n",
            "Requirement already satisfied: packaging<25,>=20 in /usr/local/lib/python3.11/dist-packages (from streamlit) (24.2)\n",
            "Requirement already satisfied: pandas<3,>=1.4.0 in /usr/local/lib/python3.11/dist-packages (from streamlit) (2.2.2)\n",
            "Requirement already satisfied: pillow<12,>=7.1.0 in /usr/local/lib/python3.11/dist-packages (from streamlit) (11.1.0)\n",
            "Requirement already satisfied: protobuf<6,>=3.20 in /usr/local/lib/python3.11/dist-packages (from streamlit) (5.29.4)\n",
            "Requirement already satisfied: pyarrow>=7.0 in /usr/local/lib/python3.11/dist-packages (from streamlit) (18.1.0)\n",
            "Requirement already satisfied: requests<3,>=2.27 in /usr/local/lib/python3.11/dist-packages (from streamlit) (2.32.3)\n",
            "Requirement already satisfied: tenacity<10,>=8.1.0 in /usr/local/lib/python3.11/dist-packages (from streamlit) (9.1.2)\n",
            "Requirement already satisfied: toml<2,>=0.10.1 in /usr/local/lib/python3.11/dist-packages (from streamlit) (0.10.2)\n",
            "Requirement already satisfied: typing-extensions<5,>=4.4.0 in /usr/local/lib/python3.11/dist-packages (from streamlit) (4.13.2)\n",
            "Collecting watchdog<7,>=2.1.5 (from streamlit)\n",
            "  Downloading watchdog-6.0.0-py3-none-manylinux2014_x86_64.whl.metadata (44 kB)\n",
            "\u001b[2K     \u001b[90m━━━━━━━━━━━━━━━━━━━━━━━━━━━━━━━━━━━━━━━━\u001b[0m \u001b[32m44.3/44.3 kB\u001b[0m \u001b[31m2.6 MB/s\u001b[0m eta \u001b[36m0:00:00\u001b[0m\n",
            "\u001b[?25hRequirement already satisfied: gitpython!=3.1.19,<4,>=3.0.7 in /usr/local/lib/python3.11/dist-packages (from streamlit) (3.1.44)\n",
            "Collecting pydeck<1,>=0.8.0b4 (from streamlit)\n",
            "  Downloading pydeck-0.9.1-py2.py3-none-any.whl.metadata (4.1 kB)\n",
            "Requirement already satisfied: tornado<7,>=6.0.3 in /usr/local/lib/python3.11/dist-packages (from streamlit) (6.4.2)\n",
            "Requirement already satisfied: jinja2 in /usr/local/lib/python3.11/dist-packages (from altair<6,>=4.0->streamlit) (3.1.6)\n",
            "Requirement already satisfied: jsonschema>=3.0 in /usr/local/lib/python3.11/dist-packages (from altair<6,>=4.0->streamlit) (4.23.0)\n",
            "Requirement already satisfied: narwhals>=1.14.2 in /usr/local/lib/python3.11/dist-packages (from altair<6,>=4.0->streamlit) (1.35.0)\n",
            "Requirement already satisfied: gitdb<5,>=4.0.1 in /usr/local/lib/python3.11/dist-packages (from gitpython!=3.1.19,<4,>=3.0.7->streamlit) (4.0.12)\n",
            "Requirement already satisfied: python-dateutil>=2.8.2 in /usr/local/lib/python3.11/dist-packages (from pandas<3,>=1.4.0->streamlit) (2.8.2)\n",
            "Requirement already satisfied: pytz>=2020.1 in /usr/local/lib/python3.11/dist-packages (from pandas<3,>=1.4.0->streamlit) (2025.2)\n",
            "Requirement already satisfied: tzdata>=2022.7 in /usr/local/lib/python3.11/dist-packages (from pandas<3,>=1.4.0->streamlit) (2025.2)\n",
            "Requirement already satisfied: charset-normalizer<4,>=2 in /usr/local/lib/python3.11/dist-packages (from requests<3,>=2.27->streamlit) (3.4.1)\n",
            "Requirement already satisfied: idna<4,>=2.5 in /usr/local/lib/python3.11/dist-packages (from requests<3,>=2.27->streamlit) (3.10)\n",
            "Requirement already satisfied: urllib3<3,>=1.21.1 in /usr/local/lib/python3.11/dist-packages (from requests<3,>=2.27->streamlit) (2.3.0)\n",
            "Requirement already satisfied: certifi>=2017.4.17 in /usr/local/lib/python3.11/dist-packages (from requests<3,>=2.27->streamlit) (2025.1.31)\n",
            "Requirement already satisfied: smmap<6,>=3.0.1 in /usr/local/lib/python3.11/dist-packages (from gitdb<5,>=4.0.1->gitpython!=3.1.19,<4,>=3.0.7->streamlit) (5.0.2)\n",
            "Requirement already satisfied: MarkupSafe>=2.0 in /usr/local/lib/python3.11/dist-packages (from jinja2->altair<6,>=4.0->streamlit) (3.0.2)\n",
            "Requirement already satisfied: attrs>=22.2.0 in /usr/local/lib/python3.11/dist-packages (from jsonschema>=3.0->altair<6,>=4.0->streamlit) (25.3.0)\n",
            "Requirement already satisfied: jsonschema-specifications>=2023.03.6 in /usr/local/lib/python3.11/dist-packages (from jsonschema>=3.0->altair<6,>=4.0->streamlit) (2024.10.1)\n",
            "Requirement already satisfied: referencing>=0.28.4 in /usr/local/lib/python3.11/dist-packages (from jsonschema>=3.0->altair<6,>=4.0->streamlit) (0.36.2)\n",
            "Requirement already satisfied: rpds-py>=0.7.1 in /usr/local/lib/python3.11/dist-packages (from jsonschema>=3.0->altair<6,>=4.0->streamlit) (0.24.0)\n",
            "Requirement already satisfied: six>=1.5 in /usr/local/lib/python3.11/dist-packages (from python-dateutil>=2.8.2->pandas<3,>=1.4.0->streamlit) (1.17.0)\n",
            "Downloading streamlit-1.44.1-py3-none-any.whl (9.8 MB)\n",
            "\u001b[2K   \u001b[90m━━━━━━━━━━━━━━━━━━━━━━━━━━━━━━━━━━━━━━━━\u001b[0m \u001b[32m9.8/9.8 MB\u001b[0m \u001b[31m92.0 MB/s\u001b[0m eta \u001b[36m0:00:00\u001b[0m\n",
            "\u001b[?25hDownloading pydeck-0.9.1-py2.py3-none-any.whl (6.9 MB)\n",
            "\u001b[2K   \u001b[90m━━━━━━━━━━━━━━━━━━━━━━━━━━━━━━━━━━━━━━━━\u001b[0m \u001b[32m6.9/6.9 MB\u001b[0m \u001b[31m126.2 MB/s\u001b[0m eta \u001b[36m0:00:00\u001b[0m\n",
            "\u001b[?25hDownloading watchdog-6.0.0-py3-none-manylinux2014_x86_64.whl (79 kB)\n",
            "\u001b[2K   \u001b[90m━━━━━━━━━━━━━━━━━━━━━━━━━━━━━━━━━━━━━━━━\u001b[0m \u001b[32m79.1/79.1 kB\u001b[0m \u001b[31m8.5 MB/s\u001b[0m eta \u001b[36m0:00:00\u001b[0m\n",
            "\u001b[?25hInstalling collected packages: watchdog, pydeck, streamlit\n",
            "Successfully installed pydeck-0.9.1 streamlit-1.44.1 watchdog-6.0.0\n"
          ]
        },
        {
          "output_type": "stream",
          "name": "stderr",
          "text": [
            "2025-04-23 20:54:28.090 WARNING streamlit.runtime.scriptrunner_utils.script_run_context: Thread 'MainThread': missing ScriptRunContext! This warning can be ignored when running in bare mode.\n",
            "2025-04-23 20:54:28.228 \n",
            "  \u001b[33m\u001b[1mWarning:\u001b[0m to view this Streamlit app on a browser, run it with the following\n",
            "  command:\n",
            "\n",
            "    streamlit run /usr/local/lib/python3.11/dist-packages/colab_kernel_launcher.py [ARGUMENTS]\n",
            "2025-04-23 20:54:28.231 Thread 'MainThread': missing ScriptRunContext! This warning can be ignored when running in bare mode.\n"
          ]
        },
        {
          "output_type": "execute_result",
          "data": {
            "text/plain": [
              "DeltaGenerator()"
            ]
          },
          "metadata": {},
          "execution_count": 1
        }
      ]
    },
    {
      "cell_type": "markdown",
      "metadata": {
        "id": "A3SXEwfjpjG7"
      },
      "source": [
        "## STRINGS / VARIABLES"
      ]
    },
    {
      "cell_type": "code",
      "execution_count": null,
      "metadata": {
        "id": "QoRC-YRYjlQ5"
      },
      "outputs": [],
      "source": [
        "str1 = \"My name is IFTIKHAR\"\n",
        "str2 = \"I am working with insurance\"\n",
        "\n",
        "print(str1 + str2)\n",
        "\n",
        "str1 = \"My name is IFTIKHAR\"\n",
        "str2 = \"I am working with Insurance\"\n",
        "\n",
        "print( str1 + \" \" + str2 )\n",
        "\n",
        "len(str1)\n",
        "print(len(str1))\n"
      ]
    },
    {
      "cell_type": "markdown",
      "metadata": {
        "id": "8sSEUI77pdAH"
      },
      "source": []
    },
    {
      "cell_type": "code",
      "execution_count": null,
      "metadata": {
        "id": "_NuZ8JGx5qWb"
      },
      "outputs": [],
      "source": [
        "print(\"PAKISTAN\")"
      ]
    },
    {
      "cell_type": "code",
      "execution_count": null,
      "metadata": {
        "id": "CPXLmuJG53Od"
      },
      "outputs": [],
      "source": [
        "print(\"PAKISTAN\""
      ]
    },
    {
      "cell_type": "code",
      "execution_count": null,
      "metadata": {
        "id": "cfsFbTVB5YN_"
      },
      "outputs": [],
      "source": [
        "print(\"Hello World\")\n",
        "# print(\"Hello World\")\n",
        "\n",
        "# print(\"PAKISTAN\")\n",
        "# print(\"PAKISTAN\")\n",
        "# print(\"PAKISTAN\")\n",
        "# print(\"PAKISTAN\")\n",
        "# print(\"PAKISTAN\")\n"
      ]
    },
    {
      "cell_type": "code",
      "execution_count": null,
      "metadata": {
        "id": "Q2hqbxHsW1sI"
      },
      "outputs": [],
      "source": []
    },
    {
      "cell_type": "markdown",
      "metadata": {
        "id": "KYYm5JJCXBLv"
      },
      "source": [
        "# #str function"
      ]
    },
    {
      "cell_type": "code",
      "execution_count": null,
      "metadata": {
        "id": "wtF7fjfW__FE"
      },
      "outputs": [],
      "source": [
        "x = \"m IFTIKHAR ALAM\"\\\n",
        "print(x.capitalize())\n",
        "\n",
        "x = (x.capitalize())\n",
        "print(x)\n",
        "\n",
        "x = \"M IFTIKHAR ALAM\"\n",
        "print(x.replace(\"I\", \"A\"))\n",
        "\n",
        "\n",
        "X = \"M IFTIKHar ALAM\"\n",
        "print(x.upper())\n",
        "\n",
        "x = \"M IFTIKHAR ALAM\"\n",
        "print(x.replace(\"ALAM\", \"AHMED\"))\n",
        "\n",
        "x = \"M IFTIKHAR ALAM\"\n",
        "print(x.find(\"A\"))\n",
        "\n",
        "x = from M IFTIKHAR ALAM\"\n",
        "print(x,find(\"from\"))\n",
        "\n",
        "X = \"I am from M IFTIKHAR  from Karachi\"\n",
        "print(x.find(\"from\"))\n",
        "\n",
        "x = \"M IFTIhaR ALAM\"\n",
        "print(x.lower())\n"
      ]
    },
    {
      "cell_type": "code",
      "execution_count": null,
      "metadata": {
        "id": "tx1cReOg7q1t"
      },
      "outputs": [],
      "source": [
        "x = \"M IFRIKHAR ALAM\"\n",
        "print(x.endswith(\"ALAM\"))\n",
        "\n",
        "\n",
        "x = \"M IFTIKHAR ALAM\"\n",
        "print(x.endswith(\"IFT\"))"
      ]
    },
    {
      "cell_type": "code",
      "execution_count": null,
      "metadata": {
        "id": "n0_MeMzkwXQF"
      },
      "outputs": [],
      "source": [
        "x = \"M IFTIKHAR ALAM I working in Insurance\"\n",
        "ch = x\n",
        "ch = x[6]\n",
        "print(ch)\n",
        "\n",
        "ch = x[9]\n",
        "print(ch)"
      ]
    },
    {
      "cell_type": "code",
      "execution_count": null,
      "metadata": {
        "id": "fSWZkmLa4JV1"
      },
      "outputs": [],
      "source": [
        "x = \"NUSRAT IFTIKHAR\"\n",
        "print(x[0:9])"
      ]
    },
    {
      "cell_type": "code",
      "execution_count": null,
      "metadata": {
        "id": "1GSSGIJD3n0D"
      },
      "outputs": [],
      "source": [
        "x = \"M IFTIKHAR ALAM\"\n",
        "print(x[ 2:7])"
      ]
    },
    {
      "cell_type": "code",
      "execution_count": null,
      "metadata": {
        "id": "7tLZOCIe6eR_"
      },
      "outputs": [],
      "source": [
        "x = \"ARSAL IFTIKHAR\"\n",
        "print(x[ -1:-3 ])"
      ]
    },
    {
      "cell_type": "code",
      "execution_count": null,
      "metadata": {
        "id": "06SR8mnEt0Ro"
      },
      "outputs": [],
      "source": [
        "name1 = 'Nusrat Iftikhar'\n",
        "name2 = \"Nusrat Iftikhar\"\n",
        "name3 = \"\"\"Nusrat Iftikhar\"\"\"\n",
        "print(name1)\n",
        "print(name2)\n",
        "print(name3)"
      ]
    },
    {
      "cell_type": "markdown",
      "metadata": {
        "id": "cDTvfj2pYxmW"
      },
      "source": [
        " #Type Method"
      ]
    },
    {
      "cell_type": "code",
      "execution_count": null,
      "metadata": {
        "id": "uBDPi9FxwfEs"
      },
      "outputs": [],
      "source": [
        "price1 = 55\n",
        "fruits = [\"apple\", \"orange\", \"Banana\", \"Lichee\", \"grapes\"]\n",
        "Old = True\n",
        "Young = True\n",
        "x = None\n",
        "\n",
        "print(type(price1))\n",
        "print(type(fruits))\n",
        "print(type(Old))\n",
        "print(type(Young))\n",
        "print(type(x))"
      ]
    },
    {
      "cell_type": "code",
      "execution_count": null,
      "metadata": {
        "id": "LCia2If6pX7S"
      },
      "outputs": [],
      "source": [
        "name = \"Nusrat Iftikhar\"\n",
        "age = 40\n",
        "print(type(name))\n",
        "print(type(age))\n"
      ]
    },
    {
      "cell_type": "code",
      "execution_count": null,
      "metadata": {
        "id": "AAKEaU-D12FI"
      },
      "outputs": [],
      "source": [
        "str = (\"I am Iftikhar my age is 45.\\n I am working with Insurance companies\")\n",
        "print(str)"
      ]
    },
    {
      "cell_type": "code",
      "execution_count": null,
      "metadata": {
        "id": "UKjE-KAd3VZ-"
      },
      "outputs": [],
      "source": [
        "print(\"Hello World\")\n",
        "print(\"\"\"My NAME is M IFTIKHSR ALAM AND WORKING AND LEARNING WITH PYTHON\n",
        "i THOUGHT i WII ACHIEVE MY GOAL,\n",
        "EARLY, DUE TO GETTING STRUGGLE AND GIVING TIME TO STEADY AND LEARNING\"\"\")\n"
      ]
    },
    {
      "cell_type": "code",
      "execution_count": null,
      "metadata": {
        "id": "5Skt050lhZb5"
      },
      "outputs": [],
      "source": [
        "print(\"PAKISTAN ZINDABAD\")"
      ]
    },
    {
      "cell_type": "code",
      "execution_count": null,
      "metadata": {
        "id": "Q02MBFcW5T1O"
      },
      "outputs": [],
      "source": [
        "print(\"Hello World\")\n",
        "print(\"My name is M IFTIKHAR ALAM\")"
      ]
    },
    {
      "cell_type": "code",
      "execution_count": null,
      "metadata": {
        "id": "2-bL1mNM5dXG"
      },
      "outputs": [],
      "source": [
        "# prompt: write Hello World with M IFTIKHAR ALAM\n",
        "\n",
        "print(\"Hello World\")\n",
        "print(\"\"\"My NAME is M IFTIKHAR ALAM AND WORKING AND LEARNING WITH PYTHON\n",
        "i THOUGHT i WII ACHIEVE MY GOAL,\n",
        "EARLY, DUE TO GETTING STRUGGLE AND GIVING TIME TO STEADY AND LEARNING\"\"\")\n",
        "\n",
        "print(\"PAKISTAN ZINDABAD\")\n",
        "print(\"Hello World\")\n",
        "print(\"My name is M IFTIKHAR ALAM\")\n"
      ]
    },
    {
      "cell_type": "code",
      "execution_count": null,
      "metadata": {
        "id": "judKryuIciZo"
      },
      "outputs": [],
      "source": [
        "name = \"M IFTIKHAR ALAM\"\n",
        "age = 45\n",
        "education = \"Graduate\"\n",
        "\n",
        "print(\"My name is :\", name)\n",
        "print(\"My age is :\", age)\n",
        "print(\"My education is :\", education)"
      ]
    },
    {
      "cell_type": "code",
      "execution_count": null,
      "metadata": {
        "id": "TZyYhm8RDgPL"
      },
      "outputs": [],
      "source": []
    },
    {
      "cell_type": "code",
      "execution_count": null,
      "metadata": {
        "id": "Rmc0nfLNJly8"
      },
      "outputs": [],
      "source": [
        "# prompt: write Hello World with Arsal Iftikhar\n",
        "\n",
        "print(\"Hello World\")\n",
        "print(\"My name is Arsal Iftikhar\")\n"
      ]
    },
    {
      "cell_type": "code",
      "execution_count": null,
      "metadata": {
        "colab": {
          "base_uri": "https://localhost:8080/",
          "height": 106
        },
        "id": "NWuh_N6jLDoz",
        "outputId": "679a107c-2f30-4122-f381-201c34a0136d"
      },
      "outputs": [
        {
          "ename": "SyntaxError",
          "evalue": "invalid syntax (<ipython-input-6-4d25cb5403c4>, line 1)",
          "output_type": "error",
          "traceback": [
            "\u001b[0;36m  File \u001b[0;32m\"<ipython-input-6-4d25cb5403c4>\"\u001b[0;36m, line \u001b[0;32m1\u001b[0m\n\u001b[0;31m    prompt: generate calculator\u001b[0m\n\u001b[0m                     ^\u001b[0m\n\u001b[0;31mSyntaxError\u001b[0m\u001b[0;31m:\u001b[0m invalid syntax\n"
          ]
        }
      ],
      "source": [
        " prompt: generate calculator\n",
        "\n",
        "def calculator():\n",
        "    \"\"\"Performs basic arithmetic operations.\"\"\"\n",
        "\n",
        "    while True:\n",
        "        print(\"\\nSelect operation:\")\n",
        "        print(\"1. 100\")\n",
        "        print(\"2. 1000\")\n",
        "        print(\"3. 2\")\n",
        "        print(\"4. 4\")\n",
        "        print(\"5. Exit\")\n",
        "\n",
        "        try:\n",
        "            choice = int(input(\"Enter choice(1/2/3/4/5): \"))\n",
        "        except ValueError:\n",
        "            print(\"Invalid input. Please enter a number.\")\n",
        "            continue\n",
        "\n",
        "        if choice == 5:\n",
        "            break\n",
        "\n",
        "        if choice not in [1, 2, 3, 4]:\n",
        "            print(\"Invalid input. Please enter a number between 1 and 5.\")\n",
        "            continue\n",
        "\n",
        "        try:\n",
        "            num1 = float(input(\"Enter first number: \"))\n",
        "            num2 = float(input(\"Enter second number: \"))\n",
        "        except ValueError:\n",
        "            print(\"Invalid input. Please enter numbers.\")\n",
        "            continue\n",
        "\n",
        "        if choice == 1:\n",
        "            print(num1, \"+\", num2, \"=\", num1 + num2)\n",
        "        elif choice == 2:\n",
        "            print(num1, \"-\", num2, \"=\", num1 - num2)\n",
        "        elif choice == 3:\n",
        "            print(num1, \"*\", num2, \"=\", num1 * num2)\n",
        "        elif choice == 4:\n",
        "            if num2 == 0:\n",
        "                print(\"Division by zero error!\")\n",
        "            else:\n",
        "                print(num1, \"/\", num2, \"=\", num1 / num2)\n",
        "\n",
        "if __name__ == \"__main__\":\n",
        "  calculator()\n"
      ]
    },
    {
      "cell_type": "code",
      "execution_count": null,
      "metadata": {
        "id": "5Tfj22fbP6-0"
      },
      "outputs": [],
      "source": [
        " prompt: generate english clender current jan to dec  year 2025\n",
        "\n",
        "import calendar\n",
        "\n",
        "def generate_calendar(year):\n",
        "    \"\"\"Generates a calendar for the given year.\"\"\"\n",
        "\n",
        "    for month in range(1, 13):  # Iterate through months (1-12)\n",
        "        print(calendar.month(year, month))\n",
        "\n",
        "\n",
        "if __name__ == \"__main__\":\n",
        "    generate_calendar(2025)\n"
      ]
    },
    {
      "cell_type": "code",
      "execution_count": null,
      "metadata": {
        "colab": {
          "base_uri": "https://localhost:8080/"
        },
        "id": "7-XJIOsIRO7L",
        "outputId": "93ecc6f0-c860-4ba6-b625-8d79ec112c09"
      },
      "outputs": [
        {
          "name": "stdout",
          "output_type": "stream",
          "text": [
            "    January 2025\n",
            "Mo Tu We Th Fr Sa Su\n",
            "       1  2  3  4  5\n",
            " 6  7  8  9 10 11 12\n",
            "13 14 15 16 17 18 19\n",
            "20 21 22 23 24 25 26\n",
            "27 28 29 30 31\n",
            "\n",
            "   February 2025\n",
            "Mo Tu We Th Fr Sa Su\n",
            "                1  2\n",
            " 3  4  5  6  7  8  9\n",
            "10 11 12 13 14 15 16\n",
            "17 18 19 20 21 22 23\n",
            "24 25 26 27 28\n",
            "\n",
            "     March 2025\n",
            "Mo Tu We Th Fr Sa Su\n",
            "                1  2\n",
            " 3  4  5  6  7  8  9\n",
            "10 11 12 13 14 15 16\n",
            "17 18 19 20 21 22 23\n",
            "24 25 26 27 28 29 30\n",
            "31\n",
            "\n",
            "     April 2025\n",
            "Mo Tu We Th Fr Sa Su\n",
            "    1  2  3  4  5  6\n",
            " 7  8  9 10 11 12 13\n",
            "14 15 16 17 18 19 20\n",
            "21 22 23 24 25 26 27\n",
            "28 29 30\n",
            "\n",
            "      May 2025\n",
            "Mo Tu We Th Fr Sa Su\n",
            "          1  2  3  4\n",
            " 5  6  7  8  9 10 11\n",
            "12 13 14 15 16 17 18\n",
            "19 20 21 22 23 24 25\n",
            "26 27 28 29 30 31\n",
            "\n",
            "     June 2025\n",
            "Mo Tu We Th Fr Sa Su\n",
            "                   1\n",
            " 2  3  4  5  6  7  8\n",
            " 9 10 11 12 13 14 15\n",
            "16 17 18 19 20 21 22\n",
            "23 24 25 26 27 28 29\n",
            "30\n",
            "\n",
            "     July 2025\n",
            "Mo Tu We Th Fr Sa Su\n",
            "    1  2  3  4  5  6\n",
            " 7  8  9 10 11 12 13\n",
            "14 15 16 17 18 19 20\n",
            "21 22 23 24 25 26 27\n",
            "28 29 30 31\n",
            "\n",
            "    August 2025\n",
            "Mo Tu We Th Fr Sa Su\n",
            "             1  2  3\n",
            " 4  5  6  7  8  9 10\n",
            "11 12 13 14 15 16 17\n",
            "18 19 20 21 22 23 24\n",
            "25 26 27 28 29 30 31\n",
            "\n",
            "   September 2025\n",
            "Mo Tu We Th Fr Sa Su\n",
            " 1  2  3  4  5  6  7\n",
            " 8  9 10 11 12 13 14\n",
            "15 16 17 18 19 20 21\n",
            "22 23 24 25 26 27 28\n",
            "29 30\n",
            "\n",
            "    October 2025\n",
            "Mo Tu We Th Fr Sa Su\n",
            "       1  2  3  4  5\n",
            " 6  7  8  9 10 11 12\n",
            "13 14 15 16 17 18 19\n",
            "20 21 22 23 24 25 26\n",
            "27 28 29 30 31\n",
            "\n",
            "   November 2025\n",
            "Mo Tu We Th Fr Sa Su\n",
            "                1  2\n",
            " 3  4  5  6  7  8  9\n",
            "10 11 12 13 14 15 16\n",
            "17 18 19 20 21 22 23\n",
            "24 25 26 27 28 29 30\n",
            "\n",
            "   December 2025\n",
            "Mo Tu We Th Fr Sa Su\n",
            " 1  2  3  4  5  6  7\n",
            " 8  9 10 11 12 13 14\n",
            "15 16 17 18 19 20 21\n",
            "22 23 24 25 26 27 28\n",
            "29 30 31\n",
            "\n"
          ]
        }
      ],
      "source": [
        "# prompt: 2025 calendar  jan to dec\n",
        "\n",
        "import calendar\n",
        "\n",
        "def generate_calendar(year):\n",
        "    \"\"\"Generates a calendar for the given year.\"\"\"\n",
        "\n",
        "    for month in range(1, 13):  # Iterate through months (1-12)\n",
        "        print(calendar.month(year, month))\n",
        "\n",
        "\n",
        "if __name__ == \"__main__\":\n",
        "    generate_calendar(2025)\n"
      ]
    },
    {
      "cell_type": "code",
      "execution_count": null,
      "metadata": {
        "id": "2e2TGIgYJeZF"
      },
      "outputs": [],
      "source": [
        "yy = 2024\n",
        "mm = 2\n",
        "print(calendar.month(yy, mm))"
      ]
    },
    {
      "cell_type": "code",
      "execution_count": null,
      "metadata": {
        "id": "AcF1CIKZKsiC"
      },
      "outputs": [],
      "source": []
    },
    {
      "cell_type": "code",
      "execution_count": null,
      "metadata": {
        "colab": {
          "base_uri": "https://localhost:8080/"
        },
        "id": "3v49ly6TS1KO",
        "outputId": "281108d6-e340-4db9-bccb-3c37e14df168"
      },
      "outputs": [
        {
          "name": "stdout",
          "output_type": "stream",
          "text": [
            "   December 2025\n",
            "Mo Tu We Th Fr Sa Su\n",
            " 1  2  3  4  5  6  7\n",
            " 8  9 10 11 12 13 14\n",
            "15 16 17 18 19 20 21\n",
            "22 23 24 25 26 27 28\n",
            "29 30 31\n",
            "\n"
          ]
        }
      ],
      "source": [
        "year = 2025\n",
        "month = 12\n",
        "print(calendar.month(year, month))"
      ]
    },
    {
      "cell_type": "markdown",
      "metadata": {
        "id": "AWhfIzgBDwce"
      },
      "source": [
        "# OPERATORS"
      ]
    },
    {
      "cell_type": "code",
      "execution_count": null,
      "metadata": {
        "id": "niDKbIyUDrA-"
      },
      "outputs": [],
      "source": [
        "a = 5\n",
        "b =10\n",
        "print(a+b)\n",
        "\n",
        "a = 11\n",
        "b = 15\n",
        "print(a-b)\n",
        "\n",
        "a = 0\n",
        "b = 11\n",
        "print(a * b)\n",
        "\n",
        "a = 100\n",
        "b = 2\n",
        "print( a / b )\n",
        "\n",
        "a = 5\n",
        "b = 5\n",
        "print( a ** b)\n",
        "\n",
        "a = 55\n",
        "b = 11\n",
        "print( a / b)\n",
        "\n",
        "a = 55\n",
        "b = 44\n",
        "print( a % b )\n",
        "\n"
      ]
    },
    {
      "cell_type": "code",
      "execution_count": null,
      "metadata": {
        "id": "9PDM2QVdpY8j"
      },
      "outputs": [],
      "source": [
        "x = 100\n",
        "x = x + 100\n",
        "\n",
        "print(\"x:\", x )\n",
        "\n",
        "x = 100\n",
        "x = x =- 100\n",
        "print(\"x:\", x)\n",
        "\n",
        "x = 100\n",
        "x = x * 100\n",
        "print(\"x:\", x)\n",
        "\n",
        "x = 100\n",
        "x = x / 100\n",
        "print(\"x:\", x)\n",
        "\n",
        "\n"
      ]
    },
    {
      "cell_type": "code",
      "execution_count": null,
      "metadata": {
        "id": "jc6Jn_t0F24e"
      },
      "outputs": [],
      "source": [
        "x = 100\n",
        "y = 50\n",
        "\n",
        "print( x == y )\n",
        "print( x != y )\n",
        "print( x >= y )\n",
        "print( x <= y )\n",
        "print( x > y )\n",
        "print( x < y )\n",
        "\n"
      ]
    },
    {
      "cell_type": "code",
      "execution_count": null,
      "metadata": {
        "id": "KnWSb72mvQQj"
      },
      "outputs": [],
      "source": [
        "x = 150\n",
        "x += 150\n",
        "print(\"x :\", x)\n",
        "\n",
        "x = 150\n",
        "x *= 150\n",
        "print(\"x :\", x)\n",
        "\n",
        "x = 150\n",
        "x /= 150\n",
        "print(\"x :\", x)\n",
        "\n",
        "\n"
      ]
    },
    {
      "cell_type": "code",
      "execution_count": null,
      "metadata": {
        "id": "Rz48ObaRhP5d"
      },
      "outputs": [],
      "source": [
        "\n",
        "x =  66.60\n",
        "x = str(x)\n",
        "print(type(x))"
      ]
    },
    {
      "cell_type": "code",
      "execution_count": null,
      "metadata": {
        "id": "mAsWp3BygNxK"
      },
      "outputs": [],
      "source": [
        "x1 = float(\"22\")\n",
        "x2 = 44.50\n",
        "print(type(x1))\n",
        "print(x1 + x2)"
      ]
    },
    {
      "cell_type": "code",
      "execution_count": null,
      "metadata": {
        "id": "oFIhVvCMePSl"
      },
      "outputs": [],
      "source": [
        "x1 = int(\"2\")\n",
        "x2 = 3.50\n",
        "\n",
        "print(type(x1))\n",
        "print(x1 + x2)"
      ]
    },
    {
      "cell_type": "code",
      "execution_count": null,
      "metadata": {
        "id": "KxssuSmCdEhS"
      },
      "outputs": [],
      "source": [
        "x1 = 24\n",
        "x2 = 20.23\n",
        "sum = x1+x2\n",
        "print(sum)"
      ]
    },
    {
      "cell_type": "code",
      "execution_count": null,
      "metadata": {
        "id": "lWwskQ2b-vyL"
      },
      "outputs": [],
      "source": [
        "x1 = 100\n",
        "x2 = 50\n",
        "print(\"OR oprrater:\", (x1 == x2) or (x1 > x2))"
      ]
    },
    {
      "cell_type": "code",
      "execution_count": null,
      "metadata": {
        "id": "X_uJCKq89p9b"
      },
      "outputs": [],
      "source": [
        "x1 = True\n",
        "x2 = True\n",
        "print(\"AND operator :\", ( x1 and x2)"
      ]
    },
    {
      "cell_type": "code",
      "execution_count": null,
      "metadata": {
        "id": "vqjxz6fPxp58"
      },
      "outputs": [],
      "source": [
        "print(not False)\n",
        "print(not True)"
      ]
    },
    {
      "cell_type": "code",
      "execution_count": null,
      "metadata": {
        "id": "N93F3yL0MrEC"
      },
      "outputs": [],
      "source": []
    },
    {
      "cell_type": "code",
      "execution_count": null,
      "metadata": {
        "id": "ekeRAXqbVVsm"
      },
      "outputs": [],
      "source": [
        "yy = 2025\n",
        "mm = 5\n",
        "print(calendar.month(yy, mm))"
      ]
    },
    {
      "cell_type": "code",
      "execution_count": null,
      "metadata": {
        "id": "6YemEncHxocE"
      },
      "outputs": [],
      "source": [
        "yy = 2025\n",
        "mm = 12\n",
        "print(calendar.month(yy, mm))"
      ]
    },
    {
      "cell_type": "markdown",
      "metadata": {
        "id": "_PHGhI_NjhUK"
      },
      "source": [
        "# ***CONDIRIONAL STATEMENTS***"
      ]
    },
    {
      "cell_type": "code",
      "execution_count": null,
      "metadata": {
        "id": "vo00twcpE_H-"
      },
      "outputs": [],
      "source": [
        "age = 23\n",
        "\n",
        "if(age >= 18):\n",
        "    print(\"You are eligible to NIC\")\n",
        "else:\n",
        "    print(\"You are not eligible to NIC\")\n",
        "\n",
        "\n",
        "age = 5\n",
        "\n",
        "if(age >= 4):\n",
        "    print(\"You are eligible to admisstion nursery\")\n",
        "else:\n",
        "    print(\"You are not eligible to admission nursery\")\n",
        "\n",
        "\n",
        "\n",
        "    age = 22\n",
        "\n",
        "    if(age >= 18):\n",
        "      print(\"you can dribe car\")\n",
        "    else:\n",
        "      print(\"you can't drive a car\")\n"
      ]
    },
    {
      "cell_type": "code",
      "execution_count": null,
      "metadata": {
        "id": "iZbtLD7rzz99"
      },
      "outputs": [],
      "source": [
        "marks = 75\n",
        "\n",
        "if(marks >= 90):\n",
        "  print(\"Grade A\")\n",
        "elif(marks >= 80):\n",
        "  print(\"Grade B\")\n",
        "elif(marks >= 70):\n",
        "  print(\"Grade C\")\n",
        "elif(marks >= 60):\n",
        "  print(\"Grade D\")"
      ]
    },
    {
      "cell_type": "code",
      "execution_count": null,
      "metadata": {
        "id": "oKYS3q2--Ju0"
      },
      "outputs": [],
      "source": [
        "marks1 = 90.6\n",
        "marks2 = 80.7\n",
        "marks3 = 70.3\n",
        "marls4 = 60.7\n",
        "markd5 = 50.4\n",
        "\n",
        "marks = [90.4, 80.7, 70.3, 60.7, 50.4]\n",
        "print(marks)\n",
        "print(type(marks))\n",
        "print(marks[0])\n",
        "print(marks[1])\n"
      ]
    },
    {
      "cell_type": "code",
      "execution_count": null,
      "metadata": {
        "id": "gCW7yIxY98g0"
      },
      "outputs": [],
      "source": [
        "marks = int(input(\"Enter student marks : \"))\n",
        "\n",
        "marks = 75\n",
        "\n",
        "if(marks >= 90):\n",
        "  Grade = \"A\"\n",
        "elif(marks >= 80 and marks < 90):\n",
        "  Grade = \"B\"\n",
        "elif(marks >= 70 and marks < 80):\n",
        "  Grade = \"C\"\n",
        "else:\n",
        "  Grade = \"D\"\n",
        "\n",
        "print(\"Grade of the studen ->\", Grade)\n",
        "\n"
      ]
    },
    {
      "cell_type": "markdown",
      "metadata": {
        "id": "ciUxahExmuCo"
      },
      "source": [
        "# ***LIST( SILICING, INDEXING, METHODS ) ***"
      ]
    },
    {
      "cell_type": "code",
      "execution_count": null,
      "metadata": {
        "id": "QgtOjDSqVmzS"
      },
      "outputs": [],
      "source": [
        "student = [\"IFTIKHAR\", 90.6, 40, \"Karachi, Pakistan\"]\n",
        "print(student)\n",
        "student[0] = \"ARSAL IFTIKHAR\"\n",
        "print(student)\n",
        "\n"
      ]
    },
    {
      "cell_type": "code",
      "execution_count": null,
      "metadata": {
        "id": "U5NKJbR6gwdR"
      },
      "outputs": [],
      "source": [
        "marks = [ 90, 80, 70, 60, 50, 40 ]\n",
        "print(marks[1:5])\n",
        "print(marks[2:4])\n",
        "print(marks[ :3])\n",
        "print(marks[2: ])\n",
        "print(marks[-2:-1])\n",
        "print(marks[-1:-3])\n",
        "print(marks[-4:-1])\n"
      ]
    },
    {
      "cell_type": "code",
      "execution_count": null,
      "metadata": {
        "id": "nh8C5ZAEmkl8"
      },
      "outputs": [],
      "source": [
        "\n",
        "list = [ 1, 2, 3, 4, 5, 6]\n",
        "list.append(7)\n",
        "print(list.sort())\n",
        "list.insert(2, 7)\n",
        "print(list)\n",
        "\n",
        "\n",
        "\n",
        "\n",
        "\n"
      ]
    },
    {
      "cell_type": "code",
      "execution_count": null,
      "metadata": {
        "id": "veWL7AtJ2XaG"
      },
      "outputs": [],
      "source": [
        "list = [1, 2, 3, 4, 5, 6, ]\n",
        "list.remove(1)\n",
        "list.pop(4)\n",
        "print(list)\n"
      ]
    },
    {
      "cell_type": "code",
      "execution_count": null,
      "metadata": {
        "id": "86888DdL4v71"
      },
      "outputs": [],
      "source": [
        "tup = (2, 3, 5, 8, 9)\n",
        "print(type(tup))\n",
        "\n",
        "\n",
        "tup = ()\n",
        "print(tup)\n",
        "print(type(tup))\n",
        "\n",
        "tup = (1,)\n",
        "print(tup)\n",
        "\n",
        "tup = (1)\n",
        "tup = (2.0)\n",
        "tup = \"IFTIKHAR\"\n",
        "print(type(tup))\n",
        "\n",
        "tup = (\"IFTIKHAR\",)\n",
        "tup = (2.0)\n",
        "print(tup)\n",
        "print(type(tup))\n",
        "\n"
      ]
    },
    {
      "cell_type": "code",
      "execution_count": null,
      "metadata": {
        "id": "7KyuzLvMGd5T"
      },
      "outputs": [],
      "source": [
        "tup = (1, 2, 4, 5, 7, 6)\n",
        "print(tup.index(1))\n",
        "print(tup.index(2))\n",
        "print(tup.count(4))\n",
        "print(tup.count(1))"
      ]
    },
    {
      "cell_type": "code",
      "execution_count": null,
      "metadata": {
        "id": "zalCEdJwQZhB"
      },
      "outputs": [],
      "source": []
    },
    {
      "cell_type": "code",
      "execution_count": null,
      "metadata": {
        "id": "_3GgkoztQa3j"
      },
      "outputs": [],
      "source": []
    },
    {
      "cell_type": "markdown",
      "metadata": {
        "id": "DdHBaKvIQdBp"
      },
      "source": [
        "# **DICTIONARY and SET**"
      ]
    },
    {
      "cell_type": "code",
      "execution_count": null,
      "metadata": {
        "id": "WeMznCNYQsPj"
      },
      "outputs": [],
      "source": [
        "info = {\n",
        "    \"key\":\"value\",\n",
        "    \"name\":\"IFTIKHAR\",\n",
        "    \"subject\":\"English\",\n",
        "}\n",
        "\n",
        "print(info)\n",
        "print(type(info))\n",
        "print(info[\"name\"])\n",
        "print(info[\"subject\"])\n",
        "print(info[\"key\"])\n",
        "\n",
        "\n",
        "info[\"name\"] = \"ARSAL IFTIKHAR ALAM\"\n",
        "info[\"subject\"]= \"physic\"\n",
        "print(info)\n",
        "\n",
        "nul_dic = {}\n",
        "print(nul_dic)\n",
        "nul_dic[\"name\"] = \"ZARNISHA\"\n",
        "print(nul_dic)"
      ]
    },
    {
      "cell_type": "markdown",
      "metadata": {
        "id": "Pi7i77fqQly_"
      },
      "source": [
        "# ***NESTED DICTIONARY***"
      ]
    },
    {
      "cell_type": "code",
      "execution_count": null,
      "metadata": {
        "colab": {
          "base_uri": "https://localhost:8080/",
          "height": 106
        },
        "id": "Op1_Jyf2QwOc",
        "outputId": "d976da55-3747-4e22-cd8f-c1f5871e9d78"
      },
      "outputs": [
        {
          "ename": "SyntaxError",
          "evalue": "':' expected after dictionary key (<ipython-input-24-766fa35d7f0a>, line 2)",
          "output_type": "error",
          "traceback": [
            "\u001b[0;36m  File \u001b[0;32m\"<ipython-input-24-766fa35d7f0a>\"\u001b[0;36m, line \u001b[0;32m2\u001b[0m\n\u001b[0;31m    \"name\" : \"Aslam\", \"Ashraf\", \"azam\",\u001b[0m\n\u001b[0m                             ^\u001b[0m\n\u001b[0;31mSyntaxError\u001b[0m\u001b[0;31m:\u001b[0m ':' expected after dictionary key\n"
          ]
        }
      ],
      "source": [
        "student = {\n",
        "     \"name\" : \"Aslam\", \"Ashraf\", \"azam\",\n",
        "\n",
        "     \"subject\" = {\n",
        "        \"phy\" : 80,\n",
        "        \"Chem\" : 90,\n",
        "        \"Math\" : 100\n",
        "\n",
        "     }\n",
        "\n",
        "\n",
        "}\n",
        "\n",
        "new_dic = {\"name:\", karachi\", \"lahore\", \"peshawar\", \"Aslam :\", \"age:\", = 18}\n",
        "new_dic = {\"name:\", \"multan\", \"lahore\", \"peshawar\", \"Aslam:\", \"ageL\", = 18 }\n",
        "student.update(new_dic)\n",
        "print(new_dic)\n",
        "print(student)\n"
      ]
    },
    {
      "cell_type": "code",
      "execution_count": null,
      "metadata": {
        "colab": {
          "base_uri": "https://localhost:8080/"
        },
        "id": "CDSeftoE2c8T",
        "outputId": "dadb1248-874f-4761-be14-0709ada49dca"
      },
      "outputs": [
        {
          "name": "stdout",
          "output_type": "stream",
          "text": [
            "{1, 2, 3, 4, 5, 'kamal', 'Zarnisha'}\n",
            "<class 'set'>\n",
            "7\n",
            "<class 'set'>\n"
          ]
        },
        {
          "data": {
            "text/plain": [
              "2"
            ]
          },
          "execution_count": 11,
          "metadata": {},
          "output_type": "execute_result"
        }
      ],
      "source": [
        "collection = {1, 2, 3, 2, 4, 5, 5, \"Zarnisha\", \"kamal\", \"kamal\", \"Zarnisha\"}\n",
        "print(collection)\n",
        "print(type(collection))\n",
        "print(len(collection))\n",
        "\n",
        "collection = set()\n",
        "print(type(collection))\n",
        "collection.add(2)\n",
        "collection.add(\"IFTIKHAR\")\n",
        "collection.remove(\"IFTIKHAR\")\n",
        "collection.pop()\n",
        "\n",
        "# print(collection.clear())\n",
        "\n"
      ]
    },
    {
      "cell_type": "code",
      "execution_count": null,
      "metadata": {
        "colab": {
          "base_uri": "https://localhost:8080/"
        },
        "id": "yUWK-ws_PvVD",
        "outputId": "dd7af9e9-0ecc-4f32-81d1-5ae62d8e9116"
      },
      "outputs": [
        {
          "name": "stdout",
          "output_type": "stream",
          "text": [
            "{1, 2, 3, 4, 5, 6, 7, 8}\n",
            "{4, 5}\n",
            "{1, 2, 3}\n",
            "{1, 2, 3, 4, 5}\n",
            "{4, 5, 6, 7, 8}\n"
          ]
        }
      ],
      "source": [
        "set1 = {1, 2, 3, 4, 5}\n",
        "set2 = {4, 5, 6, 7, 8}\n",
        "\n",
        "print(set1.union(set2))\n",
        "print(set1.intersection(set2))\n",
        "print(set1.difference(set2))\n",
        "print(set1)\n",
        "print(set2)"
      ]
    },
    {
      "cell_type": "markdown",
      "metadata": {
        "id": "H9o_hFC7ES0q"
      },
      "source": [
        "# ***LOOPS IN PYTHON ( WHILE & FOR LOOPS)***\n",
        "LOOPS ARE USED TO REPEAT INSTRUCTIONS\n",
        "WHILE & FOR LOOPS ARE RESERVED WORD\n",
        "\n",
        "VARIABLE\n",
        "\n",
        "(count)\n",
        "(ITERASTOR = i\n",
        "ITERATION = i)"
      ]
    },
    {
      "cell_type": "code",
      "execution_count": null,
      "metadata": {
        "colab": {
          "base_uri": "https://localhost:8080/"
        },
        "id": "X_XwdO-gEEgZ",
        "outputId": "13f85c67-075d-4533-f6e6-4f275c5a4f72"
      },
      "outputs": [
        {
          "name": "stdout",
          "output_type": "stream",
          "text": [
            "Hello Iftikhar\n",
            "2\n",
            "Hello Iftikhar\n",
            "3\n",
            "Hello Iftikhar\n",
            "4\n",
            "Hello Iftikhar\n",
            "5\n",
            "Hello Iftikhar\n",
            "6\n",
            "Hello Iftikhar\n",
            "7\n",
            "Hello Iftikhar\n",
            "8\n",
            "Hello Iftikhar\n",
            "9\n",
            "Hello Iftikhar\n",
            "10\n",
            "Hello Iftikhar\n",
            "11\n"
          ]
        }
      ],
      "source": [
        "# while True:\n",
        "#   print(\"Hello World\")\n",
        "#   print will infinite I can't stop\n",
        "\n",
        "count = 1\n",
        "while count <= 10 :\n",
        "  print(\"Hello Iftikhar\")\n",
        "  count += 1\n",
        "  print(count)"
      ]
    },
    {
      "cell_type": "code",
      "execution_count": null,
      "metadata": {
        "colab": {
          "base_uri": "https://localhost:8080/"
        },
        "id": "qrakbH4WKEfv",
        "outputId": "1d2a28ad-c78c-4836-c4bd-cfde74dd8be4"
      },
      "outputs": [
        {
          "name": "stdout",
          "output_type": "stream",
          "text": [
            "Hello Arsal Iftikhar\n",
            "Welcome to Python Programming Iftikhar\n",
            "Hello Arsal Iftikhar\n",
            "Welcome to Python Programming Iftikhar\n",
            "Hello Arsal Iftikhar\n",
            "Welcome to Python Programming Iftikhar\n",
            "Hello Arsal Iftikhar\n",
            "Welcome to Python Programming Iftikhar\n",
            "Hello Arsal Iftikhar\n",
            "Welcome to Python Programming Iftikhar\n",
            "Hello Arsal Iftikhar\n",
            "Welcome to Python Programming Iftikhar\n",
            "Hello Arsal Iftikhar\n",
            "Welcome to Python Programming Iftikhar\n",
            "Hello Arsal Iftikhar\n",
            "Welcome to Python Programming Iftikhar\n",
            "Hello Arsal Iftikhar\n",
            "Welcome to Python Programming Iftikhar\n",
            "Hello Arsal Iftikhar\n",
            "Welcome to Python Programming Iftikhar\n"
          ]
        }
      ],
      "source": [
        "i = 1\n",
        "while i <= 10:\n",
        "  print(\"Hello Arsal Iftikhar\")\n",
        "  i+=1\n",
        "\n",
        "  print(\"Welcome to Python Programming Iftikhar\" )\n",
        "\n",
        "  # i = 1\n",
        "  # while i <= 100000:\n",
        "  #   print(\"Welcome to Python Programming Iftikhar\" i)\n",
        "  #   i+=1"
      ]
    },
    {
      "cell_type": "code",
      "execution_count": null,
      "metadata": {
        "colab": {
          "base_uri": "https://localhost:8080/"
        },
        "id": "9QA78_uZXxte",
        "outputId": "ddcc1026-fad2-4755-afbf-4f6b1c9a4805"
      },
      "outputs": [
        {
          "name": "stdout",
          "output_type": "stream",
          "text": [
            "1\n",
            "Loop ended\n",
            "Loop ended\n",
            "2\n",
            "Loop ended\n",
            "Loop ended\n",
            "3\n",
            "Loop ended\n",
            "Loop ended\n",
            "4\n",
            "Loop ended\n",
            "Loop ended\n",
            "5\n",
            "Loop ended\n",
            "Loop ended\n"
          ]
        }
      ],
      "source": [
        "i = 1\n",
        "while i <= 5:\n",
        "  print(i)\n",
        "  i += 1\n",
        "\n",
        "  print(\"Loop ended\")\n",
        "  print(\"Loop ended\")"
      ]
    },
    {
      "cell_type": "code",
      "execution_count": null,
      "metadata": {
        "colab": {
          "base_uri": "https://localhost:8080/"
        },
        "id": "2eD_CskxZc3v",
        "outputId": "8d00a1e1-2e47-4ae0-f57d-30b0b326da90"
      },
      "outputs": [
        {
          "name": "stdout",
          "output_type": "stream",
          "text": [
            "5\n",
            "Loop ended\n",
            "4\n",
            "Loop ended\n",
            "3\n",
            "Loop ended\n",
            "2\n",
            "Loop ended\n",
            "1\n",
            "Loop ended\n"
          ]
        }
      ],
      "source": [
        "i = 5\n",
        "while i >= 1:\n",
        "  print(i)\n",
        "  i -= 1\n",
        "\n",
        "  print(\"Loop ended\")\n",
        "\n",
        "  # infinite Lookup\n",
        "  # i = 5\n",
        "  # qhile i< 6:\n",
        "  # print(i)\n",
        "  # i -= 1\n",
        "\n",
        "\n",
        "  # i = 1\n",
        "  # while i <= 100:\n",
        "  #   print(i)\n",
        "  #   i += 1\n",
        "\n",
        "\n",
        "# i = 100\n",
        "# while i >= 1:\n",
        "#   print(i)\n",
        "#   i -= 1\n",
        "\n",
        "\n"
      ]
    },
    {
      "cell_type": "code",
      "execution_count": null,
      "metadata": {
        "colab": {
          "base_uri": "https://localhost:8080/"
        },
        "id": "OgXkDT_raeyd",
        "outputId": "7f104103-acb8-47c2-ce2c-d2c59b67d271"
      },
      "outputs": [
        {
          "name": "stdout",
          "output_type": "stream",
          "text": [
            "3\n",
            "6\n",
            "9\n",
            "12\n",
            "15\n",
            "18\n",
            "21\n",
            "24\n",
            "27\n",
            "30\n"
          ]
        }
      ],
      "source": [
        "i = 1\n",
        "while i <= 10:\n",
        "  print(3*i)\n",
        "  i += 1\n",
        "\n",
        "\n",
        "\n",
        "#  i = 1\n",
        "#  while i <= 10:\n",
        "#  print(5*i)\n",
        "#  i += 1\n"
      ]
    },
    {
      "cell_type": "code",
      "execution_count": null,
      "metadata": {
        "colab": {
          "base_uri": "https://localhost:8080/"
        },
        "id": "i18U-YN6gbE2",
        "outputId": "018433e1-acc4-44c7-f684-b5873b44d40b"
      },
      "outputs": [
        {
          "name": "stdout",
          "output_type": "stream",
          "text": [
            "5\n",
            "10\n",
            "15\n",
            "20\n",
            "25\n",
            "30\n",
            "35\n",
            "40\n",
            "45\n",
            "50\n"
          ]
        }
      ],
      "source": [
        "i = 1\n",
        "while i <= 10:\n",
        "  print(5*i)\n",
        "  i += 1\n",
        "\n",
        "  # print(\"Loop ended\")"
      ]
    },
    {
      "cell_type": "code",
      "execution_count": null,
      "metadata": {
        "colab": {
          "base_uri": "https://localhost:8080/"
        },
        "id": "KyIqV3-NhZgX",
        "outputId": "3bf8dba4-58d3-49e8-927c-faeeb94acbf2"
      },
      "outputs": [
        {
          "name": "stdout",
          "output_type": "stream",
          "text": [
            "15\n",
            "30\n",
            "45\n",
            "60\n",
            "75\n",
            "90\n",
            "105\n",
            "120\n",
            "135\n",
            "150\n"
          ]
        }
      ],
      "source": [
        "i = 1\n",
        "while i <= 10:\n",
        "  print(15*i)\n",
        "  i += 1\n",
        "\n",
        "  # print(\"Loop ended\")"
      ]
    },
    {
      "cell_type": "code",
      "execution_count": null,
      "metadata": {
        "colab": {
          "base_uri": "https://localhost:8080/"
        },
        "id": "Bef2z-9cho8e",
        "outputId": "8b235bdc-dd86-47bc-c4d9-4116316ec2ec"
      },
      "outputs": [
        {
          "name": "stdout",
          "output_type": "stream",
          "text": [
            "Enter a number : 20\n",
            "20\n",
            "40\n",
            "60\n",
            "80\n",
            "100\n",
            "120\n",
            "140\n",
            "160\n",
            "180\n",
            "200\n"
          ]
        }
      ],
      "source": [
        "n = int(input(\"Enter a number : \"))\n",
        "i = 1\n",
        "while i <= 10:\n",
        "  print(n*i)\n",
        "  i += 1"
      ]
    },
    {
      "cell_type": "code",
      "execution_count": null,
      "metadata": {
        "colab": {
          "base_uri": "https://localhost:8080/"
        },
        "id": "r0ojdVQJlXZC",
        "outputId": "e5422c5a-c1d3-4975-ff9b-9851b796ce56"
      },
      "outputs": [
        {
          "name": "stdout",
          "output_type": "stream",
          "text": [
            "Enter a number : 18\n",
            "18\n",
            "36\n",
            "54\n",
            "72\n",
            "90\n",
            "108\n",
            "126\n",
            "144\n",
            "162\n",
            "180\n"
          ]
        }
      ],
      "source": [
        "n = int(input(\"Enter a number : \"))\n",
        "i = 1\n",
        "while i <= 10:\n",
        "  print(n*i)\n",
        "  i += 1"
      ]
    },
    {
      "cell_type": "code",
      "execution_count": null,
      "metadata": {
        "colab": {
          "base_uri": "https://localhost:8080/"
        },
        "id": "1ihUl0sWmmcm",
        "outputId": "05ddb3af-b134-4d11-d27b-fb42c06c373a"
      },
      "outputs": [
        {
          "name": "stdout",
          "output_type": "stream",
          "text": [
            "0\n",
            "1\n",
            "1\n",
            "2\n",
            "2\n",
            "3\n",
            "3\n",
            "4\n",
            "4\n",
            "45\n",
            "5\n",
            "77\n",
            "6\n",
            "81\n",
            "7\n",
            "90\n",
            "8\n",
            "100\n"
          ]
        }
      ],
      "source": [
        "nums = [1, 2, 3, 4, 45, 77, 81, 90, 100 ]\n",
        "\n",
        "index = 0\n",
        "while index < len(nums):\n",
        "  print(index)\n",
        "  print(nums[index])\n",
        "  index += 1"
      ]
    },
    {
      "cell_type": "code",
      "execution_count": null,
      "metadata": {
        "colab": {
          "base_uri": "https://localhost:8080/"
        },
        "id": "ozqHEnckocka",
        "outputId": "f20014e3-8fe9-462b-879f-3fe620e3763a"
      },
      "outputs": [
        {
          "name": "stdout",
          "output_type": "stream",
          "text": [
            "waseem akram\n",
            "javeed mian dad\n",
            "imran khan\n",
            "waqar younus\n"
          ]
        }
      ],
      "source": [
        "heroes = [ \"waseem akram\", \"javeed mian dad\", \"imran khan\", \"waqar younus\"]\n",
        "\n",
        "index = 0\n",
        "while index < len(heroes):\n",
        "  print(heroes[index])\n",
        "  index += 1"
      ]
    },
    {
      "cell_type": "code",
      "execution_count": null,
      "metadata": {
        "id": "AG6JEcaEqO5O"
      },
      "outputs": [],
      "source": [
        "# heroes = [ \"waseem akram\", \"javeed mian dad\", \"imran khan\", \"waqar younus\"]\n",
        "i = 1\n",
        "while i < len(heroes):\n",
        "  print(hero[1])\n",
        "i += 1"
      ]
    },
    {
      "cell_type": "code",
      "execution_count": null,
      "metadata": {
        "colab": {
          "base_uri": "https://localhost:8080/"
        },
        "id": "-kpq7032mpQo",
        "outputId": "11394a87-ec0d-41fc-ab65-ae2e1439f7b7"
      },
      "outputs": [
        {
          "name": "stdout",
          "output_type": "stream",
          "text": [
            "found at index 7\n"
          ]
        }
      ],
      "source": [
        "nums = (1, 2, 3, 4, 5, 20, 30, 40, 50, 100)\n",
        "\n",
        "x = 40\n",
        "i = 0\n",
        "while i < len(nums):\n",
        "  if(nums[i] == x) :\n",
        "    print(\"found at index\", i)\n",
        "  i += 1\n",
        "\n"
      ]
    },
    {
      "cell_type": "code",
      "execution_count": null,
      "metadata": {
        "id": "W_tdOcenqr6h"
      },
      "outputs": [],
      "source": [
        "i = 1\n",
        "while i <= 10:\n",
        "  if(i % 2 != 0):\n",
        "    i += 1\n",
        "    continue\n",
        "  print(i)\n",
        "  i += 1"
      ]
    },
    {
      "cell_type": "code",
      "execution_count": null,
      "metadata": {
        "id": "fs-7TFybtpZ-"
      },
      "outputs": [],
      "source": [
        "i = 1\n",
        "while i <= 5:\n",
        "  print(i)\n",
        "  if(i == 3):\n",
        "      break\n",
        "    i += 1\n",
        "\n",
        "    print('End of the loop')"
      ]
    },
    {
      "cell_type": "code",
      "source": [
        "nums =(1, 2, 3, 4, 5, 20, 30, 40, 50, 100)\n",
        "x = 40\n",
        "i = 0\n",
        "while i < len(nums):\n",
        "\n",
        "   if(nums[i] == x):\n",
        "      print(\"found at index \", i)\n",
        "      break\n",
        "else:\n",
        "   print(\"finding...\")\n",
        "   i += 1\n",
        "print(\"End of loop\")\n"
      ],
      "metadata": {
        "id": "WCrs_VJkwjCg"
      },
      "execution_count": null,
      "outputs": []
    },
    {
      "cell_type": "code",
      "source": [
        "i = 1\n",
        "\n",
        "while i <= 5 :\n",
        "  if(i == 3):\n",
        "    break\n",
        "  print(i)\n",
        "  i += 1\n",
        "print('End of the loop')"
      ],
      "metadata": {
        "id": "4V5q-OK65JVA",
        "colab": {
          "base_uri": "https://localhost:8080/"
        },
        "outputId": "0ad77ff2-9ca0-431f-d77e-c08f2dce15d2"
      },
      "execution_count": null,
      "outputs": [
        {
          "output_type": "stream",
          "name": "stdout",
          "text": [
            "1\n",
            "2\n",
            "End of the loop\n"
          ]
        }
      ]
    },
    {
      "cell_type": "code",
      "source": [
        "i = 1\n",
        "\n",
        "while i <= 10:\n",
        "  if(i%2 == 0):\n",
        "    i += 1\n",
        "    continue\n",
        "  print(i)\n",
        "  i += 1"
      ],
      "metadata": {
        "id": "BZ9Fol_a2bNa",
        "colab": {
          "base_uri": "https://localhost:8080/"
        },
        "outputId": "de86597b-f3af-433b-e90d-b5727cb86898"
      },
      "execution_count": null,
      "outputs": [
        {
          "output_type": "stream",
          "name": "stdout",
          "text": [
            "1\n",
            "3\n",
            "5\n",
            "7\n",
            "9\n"
          ]
        }
      ]
    },
    {
      "cell_type": "code",
      "source": [
        "x = [1, 2, 3, 4, 6 ]\n",
        "for val in x :\n",
        "  print(val)"
      ],
      "metadata": {
        "id": "Npzpq0OJnRjd",
        "colab": {
          "base_uri": "https://localhost:8080/"
        },
        "outputId": "28615643-1e20-4dc7-8016-8c1a99498873"
      },
      "execution_count": null,
      "outputs": [
        {
          "output_type": "stream",
          "name": "stdout",
          "text": [
            "1\n",
            "2\n",
            "3\n",
            "4\n",
            "6\n"
          ]
        }
      ]
    },
    {
      "cell_type": "code",
      "source": [
        "vagitable = [\"potasto\", \"tomato\", \"brinjal\" ]\n",
        "for val in vagitable:\n",
        "  print(val)"
      ],
      "metadata": {
        "id": "qU_o3Z3WoQ5y",
        "colab": {
          "base_uri": "https://localhost:8080/"
        },
        "outputId": "5bd8eb03-164c-482c-9346-751bdcf13fc6"
      },
      "execution_count": null,
      "outputs": [
        {
          "output_type": "stream",
          "name": "stdout",
          "text": [
            "potasto\n",
            "tomato\n",
            "brinjal\n"
          ]
        }
      ]
    },
    {
      "cell_type": "code",
      "source": [
        "tup = (1, 2, 3, 4, 5)\n",
        "for val in tup:\n",
        "  print(val)"
      ],
      "metadata": {
        "id": "WGdodsnGpFZY",
        "colab": {
          "base_uri": "https://localhost:8080/"
        },
        "outputId": "f7df9035-2b3b-4394-9fc6-72abef1da172"
      },
      "execution_count": null,
      "outputs": [
        {
          "output_type": "stream",
          "name": "stdout",
          "text": [
            "1\n",
            "2\n",
            "3\n",
            "4\n",
            "5\n"
          ]
        }
      ]
    },
    {
      "cell_type": "code",
      "source": [
        "str = \"IFTIKHAR\"\n",
        "for val in str:\n",
        "  print(val)\n",
        "else:\n",
        "  print(END)"
      ],
      "metadata": {
        "id": "28v3dnBVpqLf",
        "colab": {
          "base_uri": "https://localhost:8080/",
          "height": 315
        },
        "outputId": "379e7a11-d1bc-4b5c-b16c-7ccd869da6e6"
      },
      "execution_count": null,
      "outputs": [
        {
          "output_type": "stream",
          "name": "stdout",
          "text": [
            "I\n",
            "F\n",
            "T\n",
            "I\n",
            "K\n",
            "H\n",
            "A\n",
            "R\n"
          ]
        },
        {
          "output_type": "error",
          "ename": "NameError",
          "evalue": "name 'END' is not defined",
          "traceback": [
            "\u001b[0;31m---------------------------------------------------------------------------\u001b[0m",
            "\u001b[0;31mNameError\u001b[0m                                 Traceback (most recent call last)",
            "\u001b[0;32m<ipython-input-2-6197d353bd10>\u001b[0m in \u001b[0;36m<cell line: 0>\u001b[0;34m()\u001b[0m\n\u001b[1;32m      3\u001b[0m   \u001b[0mprint\u001b[0m\u001b[0;34m(\u001b[0m\u001b[0mval\u001b[0m\u001b[0;34m)\u001b[0m\u001b[0;34m\u001b[0m\u001b[0;34m\u001b[0m\u001b[0m\n\u001b[1;32m      4\u001b[0m \u001b[0;32melse\u001b[0m\u001b[0;34m:\u001b[0m\u001b[0;34m\u001b[0m\u001b[0;34m\u001b[0m\u001b[0m\n\u001b[0;32m----> 5\u001b[0;31m   \u001b[0mprint\u001b[0m\u001b[0;34m(\u001b[0m\u001b[0mEND\u001b[0m\u001b[0;34m)\u001b[0m\u001b[0;34m\u001b[0m\u001b[0;34m\u001b[0m\u001b[0m\n\u001b[0m",
            "\u001b[0;31mNameError\u001b[0m: name 'END' is not defined"
          ]
        }
      ]
    },
    {
      "cell_type": "code",
      "source": [
        "str = \"IFTIKHAR\"\n",
        "for char in str :\n",
        "  if(char == 'K'):\n",
        "    print(\"Found K\")\n",
        "    break\n",
        "  print(char)\n",
        "else:\n",
        "  print(\"Loop ended\")\n"
      ],
      "metadata": {
        "id": "HG1aGOdHqhbr",
        "colab": {
          "base_uri": "https://localhost:8080/"
        },
        "outputId": "6439e66b-cd65-41c2-c3f7-916d6d40de0e"
      },
      "execution_count": null,
      "outputs": [
        {
          "output_type": "stream",
          "name": "stdout",
          "text": [
            "I\n",
            "F\n",
            "T\n",
            "I\n",
            "Found K\n"
          ]
        }
      ]
    },
    {
      "cell_type": "code",
      "source": [
        "nums = [1, 2, 3, 4, 5, 6, 7]\n",
        "\n",
        "for el in nums:\n",
        "  print(el)"
      ],
      "metadata": {
        "id": "Q_EXdTHovQFo",
        "colab": {
          "base_uri": "https://localhost:8080/"
        },
        "outputId": "b198ec71-fc73-4e0a-a9af-925513e75a6d"
      },
      "execution_count": null,
      "outputs": [
        {
          "output_type": "stream",
          "name": "stdout",
          "text": [
            "1\n",
            "2\n",
            "3\n",
            "4\n",
            "5\n",
            "6\n",
            "7\n"
          ]
        }
      ]
    },
    {
      "cell_type": "code",
      "source": [
        "nuns = (11, 12, 14, 16, 22, )\n",
        "\n",
        "x = 16\n",
        "index = 0\n",
        "\n",
        "for el in nums:\n",
        "  if(el == x):\n",
        "    print(\"nymbers found in index\", index)\n",
        "    break\n",
        "    index += 1"
      ],
      "metadata": {
        "id": "YjgIzaZyyLHr"
      },
      "execution_count": null,
      "outputs": []
    },
    {
      "cell_type": "code",
      "source": [
        "print(range(5))"
      ],
      "metadata": {
        "id": "Ait-_a9I1Jyv",
        "colab": {
          "base_uri": "https://localhost:8080/"
        },
        "outputId": "1f52e2e0-be58-4851-8e67-3ecd33bd1a59"
      },
      "execution_count": null,
      "outputs": [
        {
          "output_type": "stream",
          "name": "stdout",
          "text": [
            "range(0, 5)\n"
          ]
        }
      ]
    },
    {
      "cell_type": "code",
      "source": [
        "seq = range(5)\n",
        "print(seq(0))\n",
        "print(seq(1))\n",
        "print(seq(2))\n",
        "print(seq(3))\n",
        "print(seq(4))\n",
        "\n",
        "for i in seq:\n",
        "  print(i)\n"
      ],
      "metadata": {
        "id": "mF9jCgzU1Yba",
        "colab": {
          "base_uri": "https://localhost:8080/",
          "height": 211
        },
        "outputId": "0ae87e23-7b38-4663-e98c-34c7ab831f5e"
      },
      "execution_count": null,
      "outputs": [
        {
          "output_type": "error",
          "ename": "TypeError",
          "evalue": "'range' object is not callable",
          "traceback": [
            "\u001b[0;31m---------------------------------------------------------------------------\u001b[0m",
            "\u001b[0;31mTypeError\u001b[0m                                 Traceback (most recent call last)",
            "\u001b[0;32m<ipython-input-12-6c8be2889a08>\u001b[0m in \u001b[0;36m<cell line: 0>\u001b[0;34m()\u001b[0m\n\u001b[1;32m      1\u001b[0m \u001b[0mseq\u001b[0m \u001b[0;34m=\u001b[0m \u001b[0mrange\u001b[0m\u001b[0;34m(\u001b[0m\u001b[0;36m5\u001b[0m\u001b[0;34m)\u001b[0m\u001b[0;34m\u001b[0m\u001b[0;34m\u001b[0m\u001b[0m\n\u001b[0;32m----> 2\u001b[0;31m \u001b[0mprint\u001b[0m\u001b[0;34m(\u001b[0m\u001b[0mseq\u001b[0m\u001b[0;34m(\u001b[0m\u001b[0;36m0\u001b[0m\u001b[0;34m)\u001b[0m\u001b[0;34m)\u001b[0m\u001b[0;34m\u001b[0m\u001b[0;34m\u001b[0m\u001b[0m\n\u001b[0m\u001b[1;32m      3\u001b[0m \u001b[0mprint\u001b[0m\u001b[0;34m(\u001b[0m\u001b[0mseq\u001b[0m\u001b[0;34m(\u001b[0m\u001b[0;36m1\u001b[0m\u001b[0;34m)\u001b[0m\u001b[0;34m)\u001b[0m\u001b[0;34m\u001b[0m\u001b[0;34m\u001b[0m\u001b[0m\n\u001b[1;32m      4\u001b[0m \u001b[0mprint\u001b[0m\u001b[0;34m(\u001b[0m\u001b[0mseq\u001b[0m\u001b[0;34m(\u001b[0m\u001b[0;36m2\u001b[0m\u001b[0;34m)\u001b[0m\u001b[0;34m)\u001b[0m\u001b[0;34m\u001b[0m\u001b[0;34m\u001b[0m\u001b[0m\n\u001b[1;32m      5\u001b[0m \u001b[0mprint\u001b[0m\u001b[0;34m(\u001b[0m\u001b[0mseq\u001b[0m\u001b[0;34m(\u001b[0m\u001b[0;36m3\u001b[0m\u001b[0;34m)\u001b[0m\u001b[0;34m)\u001b[0m\u001b[0;34m\u001b[0m\u001b[0;34m\u001b[0m\u001b[0m\n",
            "\u001b[0;31mTypeError\u001b[0m: 'range' object is not callable"
          ]
        }
      ]
    },
    {
      "cell_type": "code",
      "source": [
        "seq = range(10)\n",
        "\n",
        "for i in seq:\n",
        "  print(i)"
      ],
      "metadata": {
        "id": "ieaY4Z0x2pbX",
        "colab": {
          "base_uri": "https://localhost:8080/"
        },
        "outputId": "ede8c923-f6b4-453d-9f09-656e5cb30449"
      },
      "execution_count": null,
      "outputs": [
        {
          "output_type": "stream",
          "name": "stdout",
          "text": [
            "0\n",
            "1\n",
            "2\n",
            "3\n",
            "4\n",
            "5\n",
            "6\n",
            "7\n",
            "8\n",
            "9\n"
          ]
        }
      ]
    },
    {
      "cell_type": "code",
      "source": [
        "for i in range(10):\n",
        "  print(i)"
      ],
      "metadata": {
        "id": "Fwj34CT729NP",
        "colab": {
          "base_uri": "https://localhost:8080/"
        },
        "outputId": "55d0f06a-6d37-4c58-e6fa-ef325513aa3d"
      },
      "execution_count": null,
      "outputs": [
        {
          "output_type": "stream",
          "name": "stdout",
          "text": [
            "0\n",
            "1\n",
            "2\n",
            "3\n",
            "4\n",
            "5\n",
            "6\n",
            "7\n",
            "8\n",
            "9\n"
          ]
        }
      ]
    },
    {
      "cell_type": "code",
      "source": [
        "for i in range(2, 10):\n",
        "  print(i)\n"
      ],
      "metadata": {
        "id": "PkXXJUwt3TnV",
        "colab": {
          "base_uri": "https://localhost:8080/"
        },
        "outputId": "a95fa8f1-7816-4e67-b42a-333d5138a5d2"
      },
      "execution_count": null,
      "outputs": [
        {
          "output_type": "stream",
          "name": "stdout",
          "text": [
            "2\n",
            "3\n",
            "4\n",
            "5\n",
            "6\n",
            "7\n",
            "8\n",
            "9\n"
          ]
        }
      ]
    },
    {
      "cell_type": "code",
      "source": [
        "for i in range(2, 10, 2):\n",
        "  print(i)"
      ],
      "metadata": {
        "id": "jys1HcZ24N6J",
        "colab": {
          "base_uri": "https://localhost:8080/"
        },
        "outputId": "a206e5bb-d21d-499f-bc1f-a0a59d826fb4"
      },
      "execution_count": null,
      "outputs": [
        {
          "output_type": "stream",
          "name": "stdout",
          "text": [
            "2\n",
            "4\n",
            "6\n",
            "8\n"
          ]
        }
      ]
    },
    {
      "cell_type": "code",
      "source": [
        "for i in range(2, 100, 2):\n",
        "  print(i)"
      ],
      "metadata": {
        "id": "ZiCOaP1e4vag",
        "colab": {
          "base_uri": "https://localhost:8080/"
        },
        "outputId": "f6234783-d611-4858-8ff9-d39c2986f33c"
      },
      "execution_count": null,
      "outputs": [
        {
          "output_type": "stream",
          "name": "stdout",
          "text": [
            "2\n",
            "4\n",
            "6\n",
            "8\n",
            "10\n",
            "12\n",
            "14\n",
            "16\n",
            "18\n",
            "20\n",
            "22\n",
            "24\n",
            "26\n",
            "28\n",
            "30\n",
            "32\n",
            "34\n",
            "36\n",
            "38\n",
            "40\n",
            "42\n",
            "44\n",
            "46\n",
            "48\n",
            "50\n",
            "52\n",
            "54\n",
            "56\n",
            "58\n",
            "60\n",
            "62\n",
            "64\n",
            "66\n",
            "68\n",
            "70\n",
            "72\n",
            "74\n",
            "76\n",
            "78\n",
            "80\n",
            "82\n",
            "84\n",
            "86\n",
            "88\n",
            "90\n",
            "92\n",
            "94\n",
            "96\n",
            "98\n"
          ]
        }
      ]
    },
    {
      "cell_type": "code",
      "source": [
        "for i in range(1, 100, 2):\n",
        "  print(i)"
      ],
      "metadata": {
        "id": "mLH45YNs5Jpm"
      },
      "execution_count": null,
      "outputs": []
    },
    {
      "cell_type": "code",
      "source": [
        "for i in range(101):\n",
        "  print(i)"
      ],
      "metadata": {
        "id": "TVL6jxot5rUm",
        "colab": {
          "base_uri": "https://localhost:8080/"
        },
        "outputId": "544278ab-afc8-4e61-e6b1-a8f310e8637c"
      },
      "execution_count": null,
      "outputs": [
        {
          "output_type": "stream",
          "name": "stdout",
          "text": [
            "0\n",
            "1\n",
            "2\n",
            "3\n",
            "4\n",
            "5\n",
            "6\n",
            "7\n",
            "8\n",
            "9\n",
            "10\n",
            "11\n",
            "12\n",
            "13\n",
            "14\n",
            "15\n",
            "16\n",
            "17\n",
            "18\n",
            "19\n",
            "20\n",
            "21\n",
            "22\n",
            "23\n",
            "24\n",
            "25\n",
            "26\n",
            "27\n",
            "28\n",
            "29\n",
            "30\n",
            "31\n",
            "32\n",
            "33\n",
            "34\n",
            "35\n",
            "36\n",
            "37\n",
            "38\n",
            "39\n",
            "40\n",
            "41\n",
            "42\n",
            "43\n",
            "44\n",
            "45\n",
            "46\n",
            "47\n",
            "48\n",
            "49\n",
            "50\n",
            "51\n",
            "52\n",
            "53\n",
            "54\n",
            "55\n",
            "56\n",
            "57\n",
            "58\n",
            "59\n",
            "60\n",
            "61\n",
            "62\n",
            "63\n",
            "64\n",
            "65\n",
            "66\n",
            "67\n",
            "68\n",
            "69\n",
            "70\n",
            "71\n",
            "72\n",
            "73\n",
            "74\n",
            "75\n",
            "76\n",
            "77\n",
            "78\n",
            "79\n",
            "80\n",
            "81\n",
            "82\n",
            "83\n",
            "84\n",
            "85\n",
            "86\n",
            "87\n",
            "88\n",
            "89\n",
            "90\n",
            "91\n",
            "92\n",
            "93\n",
            "94\n",
            "95\n",
            "96\n",
            "97\n",
            "98\n",
            "99\n",
            "100\n"
          ]
        }
      ]
    },
    {
      "cell_type": "code",
      "source": [
        "for i in range(1, 100):\n",
        "  print(i)"
      ],
      "metadata": {
        "id": "prtveRAO522U",
        "colab": {
          "base_uri": "https://localhost:8080/"
        },
        "outputId": "75db7cfb-4e22-4144-e1a6-adf92b455f70"
      },
      "execution_count": null,
      "outputs": [
        {
          "output_type": "stream",
          "name": "stdout",
          "text": [
            "1\n",
            "2\n",
            "3\n",
            "4\n",
            "5\n",
            "6\n",
            "7\n",
            "8\n",
            "9\n",
            "10\n",
            "11\n",
            "12\n",
            "13\n",
            "14\n",
            "15\n",
            "16\n",
            "17\n",
            "18\n",
            "19\n",
            "20\n",
            "21\n",
            "22\n",
            "23\n",
            "24\n",
            "25\n",
            "26\n",
            "27\n",
            "28\n",
            "29\n",
            "30\n",
            "31\n",
            "32\n",
            "33\n",
            "34\n",
            "35\n",
            "36\n",
            "37\n",
            "38\n",
            "39\n",
            "40\n",
            "41\n",
            "42\n",
            "43\n",
            "44\n",
            "45\n",
            "46\n",
            "47\n",
            "48\n",
            "49\n",
            "50\n",
            "51\n",
            "52\n",
            "53\n",
            "54\n",
            "55\n",
            "56\n",
            "57\n",
            "58\n",
            "59\n",
            "60\n",
            "61\n",
            "62\n",
            "63\n",
            "64\n",
            "65\n",
            "66\n",
            "67\n",
            "68\n",
            "69\n",
            "70\n",
            "71\n",
            "72\n",
            "73\n",
            "74\n",
            "75\n",
            "76\n",
            "77\n",
            "78\n",
            "79\n",
            "80\n",
            "81\n",
            "82\n",
            "83\n",
            "84\n",
            "85\n",
            "86\n",
            "87\n",
            "88\n",
            "89\n",
            "90\n",
            "91\n",
            "92\n",
            "93\n",
            "94\n",
            "95\n",
            "96\n",
            "97\n",
            "98\n",
            "99\n"
          ]
        }
      ]
    },
    {
      "cell_type": "code",
      "source": [
        "for i in range(100, 0, -1):\n",
        "  print(i)"
      ],
      "metadata": {
        "id": "FMsvq7EA6N2B",
        "colab": {
          "base_uri": "https://localhost:8080/"
        },
        "outputId": "21f0eec8-88d0-40e4-d12f-012274f58a6a"
      },
      "execution_count": null,
      "outputs": [
        {
          "output_type": "stream",
          "name": "stdout",
          "text": [
            "100\n",
            "99\n",
            "98\n",
            "97\n",
            "96\n",
            "95\n",
            "94\n",
            "93\n",
            "92\n",
            "91\n",
            "90\n",
            "89\n",
            "88\n",
            "87\n",
            "86\n",
            "85\n",
            "84\n",
            "83\n",
            "82\n",
            "81\n",
            "80\n",
            "79\n",
            "78\n",
            "77\n",
            "76\n",
            "75\n",
            "74\n",
            "73\n",
            "72\n",
            "71\n",
            "70\n",
            "69\n",
            "68\n",
            "67\n",
            "66\n",
            "65\n",
            "64\n",
            "63\n",
            "62\n",
            "61\n",
            "60\n",
            "59\n",
            "58\n",
            "57\n",
            "56\n",
            "55\n",
            "54\n",
            "53\n",
            "52\n",
            "51\n",
            "50\n",
            "49\n",
            "48\n",
            "47\n",
            "46\n",
            "45\n",
            "44\n",
            "43\n",
            "42\n",
            "41\n",
            "40\n",
            "39\n",
            "38\n",
            "37\n",
            "36\n",
            "35\n",
            "34\n",
            "33\n",
            "32\n",
            "31\n",
            "30\n",
            "29\n",
            "28\n",
            "27\n",
            "26\n",
            "25\n",
            "24\n",
            "23\n",
            "22\n",
            "21\n",
            "20\n",
            "19\n",
            "18\n",
            "17\n",
            "16\n",
            "15\n",
            "14\n",
            "13\n",
            "12\n",
            "11\n",
            "10\n",
            "9\n",
            "8\n",
            "7\n",
            "6\n",
            "5\n",
            "4\n",
            "3\n",
            "2\n",
            "1\n"
          ]
        }
      ]
    },
    {
      "cell_type": "code",
      "source": [
        "n = int(input(\"Enter a number : \"))\n",
        "for i in range(1, 11):\n",
        "  print(n*i)"
      ],
      "metadata": {
        "id": "-kHdBfyQ6bks",
        "colab": {
          "base_uri": "https://localhost:8080/"
        },
        "outputId": "ed2967bc-cb16-476e-da56-41c25ed3d216"
      },
      "execution_count": null,
      "outputs": [
        {
          "output_type": "stream",
          "name": "stdout",
          "text": [
            "Enter a number : 22\n",
            "22\n",
            "44\n",
            "66\n",
            "88\n",
            "110\n",
            "132\n",
            "154\n",
            "176\n",
            "198\n",
            "220\n"
          ]
        }
      ]
    },
    {
      "cell_type": "code",
      "source": [],
      "metadata": {
        "id": "6mdw4v-z7Ddb"
      },
      "execution_count": null,
      "outputs": []
    },
    {
      "cell_type": "code",
      "source": [
        "for i in range(5):\n",
        "  pass\n",
        "\n",
        "  print(\"some useful work\")"
      ],
      "metadata": {
        "id": "yzWPx_Yu7z6s",
        "colab": {
          "base_uri": "https://localhost:8080/"
        },
        "outputId": "2240d408-bfcb-4b34-d4aa-1463e4f0479a"
      },
      "execution_count": null,
      "outputs": [
        {
          "output_type": "stream",
          "name": "stdout",
          "text": [
            "some useful work\n",
            "some useful work\n",
            "some useful work\n",
            "some useful work\n",
            "some useful work\n"
          ]
        }
      ]
    },
    {
      "cell_type": "code",
      "source": [
        "if i > 5:\n",
        "\n",
        "  pass\n",
        "\n",
        "  print(\"some useful work\")"
      ],
      "metadata": {
        "id": "i5NAFlCz8Sul"
      },
      "execution_count": null,
      "outputs": []
    },
    {
      "cell_type": "code",
      "source": [
        "n = 6\n",
        "\n",
        "for i in range(1, n+1):\n",
        "  print(i)"
      ],
      "metadata": {
        "id": "DSv81UG09Tv0",
        "colab": {
          "base_uri": "https://localhost:8080/"
        },
        "outputId": "08e31f29-3f03-43e3-c5fc-e913213a475c"
      },
      "execution_count": null,
      "outputs": [
        {
          "output_type": "stream",
          "name": "stdout",
          "text": [
            "1\n",
            "2\n",
            "3\n",
            "4\n",
            "5\n",
            "6\n"
          ]
        }
      ]
    },
    {
      "cell_type": "code",
      "source": [
        "sun = 0\n",
        "for i in range(1, n+1):\n",
        "  sum += 1\n",
        "\n",
        "  print(\"total sum =\", sum)"
      ],
      "metadata": {
        "id": "Gq0XcUBZ93n3",
        "colab": {
          "base_uri": "https://localhost:8080/"
        },
        "outputId": "02e5bcf1-e585-429c-eec9-574f373bf7ff"
      },
      "execution_count": null,
      "outputs": [
        {
          "output_type": "stream",
          "name": "stdout",
          "text": [
            "total sum = 6\n",
            "total sum = 7\n",
            "total sum = 8\n",
            "total sum = 9\n",
            "total sum = 10\n",
            "total sum = 11\n"
          ]
        }
      ]
    },
    {
      "cell_type": "code",
      "source": [
        "sum = 5\n",
        "for i in range(1, n+1):\n",
        "  sum += 1\n",
        "\n",
        "  print(\"total sum =\", sum)\n"
      ],
      "metadata": {
        "id": "-5xAnzqn-wab",
        "colab": {
          "base_uri": "https://localhost:8080/"
        },
        "outputId": "5c96ca47-e8ea-48be-9bcf-23ecdb9c15fb"
      },
      "execution_count": null,
      "outputs": [
        {
          "output_type": "stream",
          "name": "stdout",
          "text": [
            "total sum = 6\n",
            "total sum = 7\n",
            "total sum = 8\n",
            "total sum = 9\n",
            "total sum = 10\n",
            "total sum = 11\n"
          ]
        }
      ]
    },
    {
      "cell_type": "markdown",
      "source": [
        "## ***FUNCTION & recursion***\n",
        "A function IS A GROUP OF STATEMENTS (a BLOCK OF STATEMENTS, a BLOCK OF CODE )**bold text** THAT PERFORN a specific task. Function used for redentation is bad practice in programming becare about redendent ( REDENTANCY )"
      ],
      "metadata": {
        "id": "zGCB_rLJc4s-"
      }
    },
    {
      "cell_type": "code",
      "source": [
        "a = 19\n",
        "b = 11\n",
        "c = a + b\n",
        "print(c)\n",
        "\n",
        "a = 55\n",
        "b = 66\n",
        "sum = a + b\n",
        "print(sum)\n",
        "\n",
        "a = 44\n",
        "b = 55\n",
        "sum = a + b\n",
        "print(sum)\n",
        "\n",
        "a = 77\n",
        "b = 88\n",
        "sum = a - b\n",
        "print(sum)\n",
        "\n",
        "a = 100\n",
        "b = 200\n",
        "sum = a * b\n",
        "print(sum)\n",
        "\n",
        "a = 11\n",
        "b = 11\n",
        "sum = a / b\n",
        "print(sum)\n",
        "\n",
        "a = 11\n",
        "b = 11\n",
        "sum = a % b\n",
        "print(sum)\n",
        "\n",
        "a = 11\n",
        "b = 11\n",
        "sum = a ** b\n",
        "print(sum)"
      ],
      "metadata": {
        "colab": {
          "base_uri": "https://localhost:8080/"
        },
        "id": "u7ML2SnknV42",
        "outputId": "fee218ab-3976-49e8-edae-a120cac0c8fc"
      },
      "execution_count": null,
      "outputs": [
        {
          "output_type": "stream",
          "name": "stdout",
          "text": [
            "30\n",
            "121\n",
            "99\n",
            "-11\n",
            "20000\n",
            "1.0\n",
            "0\n",
            "285311670611\n"
          ]
        }
      ]
    },
    {
      "cell_type": "code",
      "source": [
        "\n",
        "# def variable name ( parameter):\n",
        "#   body\n",
        "#   return\n",
        "#   variable name ( argument)\n",
        "\n",
        "\n",
        "# function definition\n",
        "# def calc_sum(a , b):    parameter\n",
        "sum = calc_sum(a, b)\n",
        "   return a + b\n",
        "\n",
        "sum = calc_sum(2, 5)\n",
        "print(sum)\n",
        "\n",
        "sum = calc_sum(33, 77)\n",
        "print(sum)\n",
        "\n",
        "def calc_sum(a, b):\n",
        "    sum = a + b\n",
        "    print(sum)\n",
        "    return sum\n",
        "\n",
        "calc_sum(2, 5)\n",
        "calc_sum(4, 6)\n",
        "calc_sum(7, 9)\n",
        "\n",
        "\n",
        "\n",
        "\n",
        "\n",
        "\n",
        "\n"
      ],
      "metadata": {
        "colab": {
          "base_uri": "https://localhost:8080/"
        },
        "id": "W8jwFirBaA15",
        "outputId": "5a877228-fe5d-4a71-9e8d-b1592e3e7237"
      },
      "execution_count": null,
      "outputs": [
        {
          "output_type": "stream",
          "name": "stdout",
          "text": [
            "7\n",
            "7\n",
            "110\n",
            "110\n",
            "7\n",
            "10\n",
            "16\n"
          ]
        },
        {
          "output_type": "execute_result",
          "data": {
            "text/plain": [
              "16"
            ]
          },
          "metadata": {},
          "execution_count": 26
        }
      ]
    },
    {
      "cell_type": "code",
      "source": [
        "def calc_sum(a, b):\n",
        "   return a + b\n",
        "\n",
        "sum = calc_sum(2, 5)\n",
        "print(sum)\n",
        "\n",
        "sum = calc_sum(33, 77)\n",
        "print(sum)"
      ],
      "metadata": {
        "colab": {
          "base_uri": "https://localhost:8080/"
        },
        "id": "dAeGH9JSm_Hp",
        "outputId": "d2dc96c0-1d90-4831-8cd7-faec4780b742"
      },
      "execution_count": null,
      "outputs": [
        {
          "output_type": "stream",
          "name": "stdout",
          "text": [
            "7\n",
            "110\n"
          ]
        }
      ]
    },
    {
      "cell_type": "code",
      "source": [
        "\n",
        "cities = [\"karachi\", \"multan\", \"lahore\", \"peshawar\", \"quetta\"]\n",
        "heroes = [\"Javeed Mian dad\", \"WASEEM AKRAM\", \"IMRAN KHAN\"]\n",
        "\n",
        "print(heroes[0], end=\"\\n\")\n",
        "print(heroes[1], end=\"\\n\")\n",
        "\n",
        "def print_len(list):\n",
        "\n",
        "    print(len(list))\n",
        "\n",
        "print_len(cities)\n",
        "print_len(heroes)\n",
        "\n",
        "\n",
        "def print_list(list):\n",
        "  for el in list:\n",
        "    print(el, end = \" \")\n",
        "\n",
        "def print(list(list)):\n",
        "  for item in list\n",
        "\n",
        "\n"
      ],
      "metadata": {
        "id": "yY_ryBTVLAAx",
        "colab": {
          "base_uri": "https://localhost:8080/"
        },
        "outputId": "4b0fd5a0-0e35-4379-c79b-c6e4e37437e9"
      },
      "execution_count": null,
      "outputs": [
        {
          "output_type": "stream",
          "name": "stdout",
          "text": [
            "Javeed Mian dad\n",
            "WASEEM AKRAM\n",
            "5\n",
            "3\n"
          ]
        }
      ]
    },
    {
      "cell_type": "code",
      "source": [
        "n = 5\n",
        "fact = 1\n",
        "for i in range(1, n+1):\n",
        "  fact += 1\n",
        "  print(fact)\n",
        "\n",
        "  n = 10\n",
        "  fact = 1\n",
        "  for i in range(1, n+1):\n",
        "    fact *= i\n",
        "    print(fact)"
      ],
      "metadata": {
        "colab": {
          "base_uri": "https://localhost:8080/"
        },
        "id": "dqmBySFUJAW8",
        "outputId": "a404cd87-6cce-4085-af44-94ebcac55697"
      },
      "execution_count": null,
      "outputs": [
        {
          "output_type": "stream",
          "name": "stdout",
          "text": [
            "2\n",
            "1\n",
            "2\n",
            "6\n",
            "24\n",
            "120\n",
            "720\n",
            "5040\n",
            "40320\n",
            "362880\n",
            "3628800\n",
            "3628801\n",
            "1\n",
            "2\n",
            "6\n",
            "24\n",
            "120\n",
            "720\n",
            "5040\n",
            "40320\n",
            "362880\n",
            "3628800\n",
            "3628801\n",
            "1\n",
            "2\n",
            "6\n",
            "24\n",
            "120\n",
            "720\n",
            "5040\n",
            "40320\n",
            "362880\n",
            "3628800\n",
            "3628801\n",
            "1\n",
            "2\n",
            "6\n",
            "24\n",
            "120\n",
            "720\n",
            "5040\n",
            "40320\n",
            "362880\n",
            "3628800\n",
            "3628801\n",
            "1\n",
            "2\n",
            "6\n",
            "24\n",
            "120\n",
            "720\n",
            "5040\n",
            "40320\n",
            "362880\n",
            "3628800\n"
          ]
        }
      ]
    },
    {
      "cell_type": "code",
      "source": [
        "\n",
        "def cal_fact(n):\n",
        "    fact = 1\n",
        "for i in range(1, n+1):\n",
        "    fact *= i\n",
        "    print(fact)\n",
        "\n",
        "cal_fact(10)\n",
        "\n",
        "\n",
        "\n",
        "def cal_fact(n):\n",
        "    fact = 2\n",
        "for i in range(1, n+1):\n",
        "    fact *= 1\n",
        "    print(fact)\n",
        "\n",
        "cal_fact(5)\n",
        "\n",
        "\n",
        "\n",
        "\n",
        "def cal_fact(n):\n",
        "    fact = 1\n",
        "for i in range(1, n+1):\n",
        "  fact *= 1\n",
        "print(fact)\n",
        "\n",
        "cal_fact(1)\n",
        "\n"
      ],
      "metadata": {
        "id": "wFtiKtBsAiTt",
        "colab": {
          "base_uri": "https://localhost:8080/"
        },
        "outputId": "f64f7b2f-31cc-4c25-be98-dc7d3c73f882"
      },
      "execution_count": null,
      "outputs": [
        {
          "output_type": "stream",
          "name": "stdout",
          "text": [
            "173401213127727513600000000\n",
            "346802426255455027200000000\n",
            "1040407278766365081600000000\n",
            "4161629115065460326400000000\n",
            "20808145575327301632000000000\n",
            "124848873451963809792000000000\n",
            "873942114163746668544000000000\n",
            "6991536913309973348352000000000\n",
            "62923832219789760135168000000000\n",
            "629238322197897601351680000000000\n",
            "629238322197897601351680000000000\n",
            "629238322197897601351680000000000\n",
            "629238322197897601351680000000000\n",
            "629238322197897601351680000000000\n",
            "629238322197897601351680000000000\n",
            "629238322197897601351680000000000\n",
            "629238322197897601351680000000000\n",
            "629238322197897601351680000000000\n",
            "629238322197897601351680000000000\n",
            "629238322197897601351680000000000\n",
            "629238322197897601351680000000000\n"
          ]
        }
      ]
    },
    {
      "cell_type": "code",
      "source": [
        "\n",
        "def converter(usd_val):\n",
        "    pak_val = usd_val * 280\n",
        "    print(usd_val, \"USD=\", pak_val, \"PAK\")\n",
        "\n",
        "converter(100)\n",
        "converter(200)\n",
        "converter(500)\n",
        "converter(1000)\n",
        "converter(2000)\n",
        "\n"
      ],
      "metadata": {
        "colab": {
          "base_uri": "https://localhost:8080/"
        },
        "id": "Zo-0c58nMdca",
        "outputId": "5d3d8882-19b8-4951-ff8e-d6362cb2b6a3"
      },
      "execution_count": null,
      "outputs": [
        {
          "output_type": "stream",
          "name": "stdout",
          "text": [
            "100 USD= 28000 PAK\n",
            "200 USD= 56000 PAK\n",
            "500 USD= 140000 PAK\n",
            "1000 USD= 280000 PAK\n",
            "2000 USD= 560000 PAK\n"
          ]
        }
      ]
    },
    {
      "cell_type": "markdown",
      "source": [
        "RECURSION\n",
        "\n",
        "when a function calls itself repeately\n",
        "\n",
        "it is call recursive function"
      ],
      "metadata": {
        "id": "dqv153DUWHrR"
      }
    },
    {
      "cell_type": "code",
      "source": [
        "\n",
        "def show(n):\n",
        "  print(n)\n",
        "\n",
        "show(10)\n",
        "\n",
        "def show(n):\n",
        "  if(n == 1):     # It is call base case/condition\n",
        "     return\n",
        "  print(n)\n",
        "  show(n-1)\n",
        "\n",
        "show(9)\n",
        "\n",
        "\n"
      ],
      "metadata": {
        "colab": {
          "base_uri": "https://localhost:8080/"
        },
        "id": "USw8e_UfSz1W",
        "outputId": "1dd35398-4f3f-4e7c-bd71-0e458fc7edfb"
      },
      "execution_count": null,
      "outputs": [
        {
          "output_type": "stream",
          "name": "stdout",
          "text": [
            "10\n",
            "9\n",
            "8\n",
            "7\n",
            "6\n",
            "5\n",
            "4\n",
            "3\n",
            "2\n"
          ]
        }
      ]
    },
    {
      "cell_type": "code",
      "source": [
        "\n",
        "# call the stack function (repeatly)\n",
        "\n",
        "def show(n):\n",
        "     if(n == 1):\n",
        "       return\n",
        "     print(n)\n",
        "     show(n-1)\n",
        "print(\"end of the Recursion\")\n",
        "\n",
        "show(3)\n",
        "\n",
        "def show(n):\n",
        "     if(n == 0):\n",
        "       return\n",
        "     show(n-1)\n",
        "     print(n)\n",
        "show(4)\n",
        "\n",
        "print(\"end of the Recursion\")\n",
        "\n",
        "\n",
        "\n",
        "def show(n):\n",
        "    if(n == 0):\n",
        "        return\n",
        "    print(n)\n",
        "    show(n-1)\n",
        "show(5)\n",
        "\n",
        "print(\" End \")\n",
        "\n",
        "\n"
      ],
      "metadata": {
        "id": "bSCDZcueSY5X",
        "colab": {
          "base_uri": "https://localhost:8080/"
        },
        "outputId": "c7e2bd48-682f-49eb-b123-892e9bde6383"
      },
      "execution_count": 31,
      "outputs": [
        {
          "output_type": "stream",
          "name": "stdout",
          "text": [
            "end of the Recursion\n",
            "3\n",
            "2\n",
            "1\n",
            "2\n",
            "3\n",
            "4\n",
            "end of the Recursion\n",
            "5\n",
            "4\n",
            "3\n",
            "2\n",
            "1\n",
            " End \n"
          ]
        }
      ]
    },
    {
      "cell_type": "code",
      "source": [
        "\n",
        "# Recurrence relation\n",
        "\n",
        "def fact(n):\n",
        "  if(n == 1 or n == 0):\n",
        "    return 1\n",
        "    return fact(n-1) * n\n",
        "\n",
        "print(fact(5))\n",
        "print(fact(4))\n",
        "print(fact(3))\n",
        "print(fact(2))\n",
        "print(fact(1))\n",
        "print(fact(6))"
      ],
      "metadata": {
        "colab": {
          "base_uri": "https://localhost:8080/"
        },
        "id": "cnmgexuNlVZG",
        "outputId": "2fce7298-ef73-4180-dfea-7a1813956ff9"
      },
      "execution_count": 42,
      "outputs": [
        {
          "output_type": "stream",
          "name": "stdout",
          "text": [
            "None\n",
            "None\n",
            "None\n",
            "None\n",
            "1\n",
            "None\n"
          ]
        }
      ]
    },
    {
      "cell_type": "code",
      "source": [
        "def calc_sum(n):\n",
        "     if(n == 0):\n",
        "         return\n",
        "     calc_sum(n-1)\n",
        "print(calc_sum(5))\n",
        "\n"
      ],
      "metadata": {
        "colab": {
          "base_uri": "https://localhost:8080/"
        },
        "id": "RpWLYeW7urjf",
        "outputId": "9c419c5a-d84e-45ea-f0d9-9629ece4f405"
      },
      "execution_count": 1,
      "outputs": [
        {
          "output_type": "stream",
          "name": "stdout",
          "text": [
            "None\n"
          ]
        }
      ]
    },
    {
      "cell_type": "code",
      "source": [
        "\n",
        "def calc_sum(n):\n",
        "        if(n == 0):\n",
        "           return 0\n",
        "        return calc_sum(n-1) + n\n",
        "\n",
        "sum = calc_sum(5)\n",
        "print(sum)\n",
        "\n",
        "sum = calc_sum(10)\n",
        "print(sum)\n",
        "\n",
        "sum = calc_sum(15)\n",
        "print(sum)\n",
        "\n",
        "sum = calc_sum(20)\n",
        "print(sum)"
      ],
      "metadata": {
        "colab": {
          "base_uri": "https://localhost:8080/"
        },
        "id": "NJ7LUiHK2GSW",
        "outputId": "ca753018-3e8d-42e2-fe93-05ea9fafd485"
      },
      "execution_count": 9,
      "outputs": [
        {
          "output_type": "stream",
          "name": "stdout",
          "text": [
            "15\n",
            "55\n",
            "120\n",
            "210\n"
          ]
        }
      ]
    },
    {
      "cell_type": "code",
      "source": [
        "\n",
        "def print_list(list, index):\n",
        "  if(index == len(list)):\n",
        "    return\n",
        "  print(list[index])\n",
        "  print_list(list, index+1)\n",
        "\n",
        "print_list([1, 2, 3, 4, 5], 0)"
      ],
      "metadata": {
        "colab": {
          "base_uri": "https://localhost:8080/"
        },
        "id": "fNs6fX0f4U-k",
        "outputId": "df468c70-609a-44c5-b81d-b97973357bf7"
      },
      "execution_count": 10,
      "outputs": [
        {
          "output_type": "stream",
          "name": "stdout",
          "text": [
            "1\n",
            "2\n",
            "3\n",
            "4\n",
            "5\n"
          ]
        }
      ]
    },
    {
      "cell_type": "markdown",
      "source": [
        "# ***INPUT/OUPUT IN PYTHON***"
      ],
      "metadata": {
        "id": "-gnWU0k9ta1M"
      }
    },
    {
      "cell_type": "code",
      "source": [],
      "metadata": {
        "id": "qp8f54ovqgUu"
      },
      "execution_count": null,
      "outputs": []
    },
    {
      "cell_type": "code",
      "source": [],
      "metadata": {
        "id": "kNIaKIP9q0uA"
      },
      "execution_count": null,
      "outputs": []
    },
    {
      "cell_type": "code",
      "source": [],
      "metadata": {
        "id": "Ue0RB_AruRRS"
      },
      "execution_count": null,
      "outputs": []
    },
    {
      "cell_type": "markdown",
      "source": [
        "# OOP ( OBJECT ORIERNTED PROGRAMMING ) IN PYTHON\n",
        "CLASSES\n",
        "\n",
        "OBJECTS\n",
        "\n",
        "CONSTRUCTOR\n",
        "\n",
        "STATIC METHODS\n",
        "\n",
        "__init__ FUNCTION ( CONSTRACTOR )\n"
      ],
      "metadata": {
        "id": "E2-LLAKWuR9D"
      }
    },
    {
      "cell_type": "code",
      "source": [
        "class Student:\n",
        "\n",
        "  name = \"iftikhar\"\n",
        "  name = \"Kamran\"\n",
        "  name = \"Arsal\"\n",
        "\n",
        "  S1 = Student()\n",
        "  print(s1.name)\n",
        "\n",
        "  S2 = Student()\n",
        "  print(s2.name)\n",
        "\n",
        "  S3 = Student()\n",
        "  print(s3.name)\n",
        "\n"
      ],
      "metadata": {
        "colab": {
          "base_uri": "https://localhost:8080/",
          "height": 332
        },
        "id": "n6Rv50Wiu7yt",
        "outputId": "d6ecf71b-db97-4c21-bcbc-7ee5a83da8af"
      },
      "execution_count": null,
      "outputs": [
        {
          "output_type": "error",
          "ename": "NameError",
          "evalue": "name 'Student' is not defined",
          "traceback": [
            "\u001b[0;31m---------------------------------------------------------------------------\u001b[0m",
            "\u001b[0;31mNameError\u001b[0m                                 Traceback (most recent call last)",
            "\u001b[0;32m<ipython-input-11-c16b721d4eb6>\u001b[0m in \u001b[0;36m<cell line: 0>\u001b[0;34m()\u001b[0m\n\u001b[0;32m----> 1\u001b[0;31m \u001b[0;32mclass\u001b[0m \u001b[0mStudent\u001b[0m\u001b[0;34m:\u001b[0m\u001b[0;34m\u001b[0m\u001b[0;34m\u001b[0m\u001b[0m\n\u001b[0m\u001b[1;32m      2\u001b[0m \u001b[0;34m\u001b[0m\u001b[0m\n\u001b[1;32m      3\u001b[0m   \u001b[0mname\u001b[0m \u001b[0;34m=\u001b[0m \u001b[0;34m\"iftikhar\"\u001b[0m\u001b[0;34m\u001b[0m\u001b[0;34m\u001b[0m\u001b[0m\n\u001b[1;32m      4\u001b[0m   \u001b[0mname\u001b[0m \u001b[0;34m=\u001b[0m \u001b[0;34m\"Kamran\"\u001b[0m\u001b[0;34m\u001b[0m\u001b[0;34m\u001b[0m\u001b[0m\n\u001b[1;32m      5\u001b[0m   \u001b[0mname\u001b[0m \u001b[0;34m=\u001b[0m \u001b[0;34m\"Arsal\"\u001b[0m\u001b[0;34m\u001b[0m\u001b[0;34m\u001b[0m\u001b[0m\n",
            "\u001b[0;32m<ipython-input-11-c16b721d4eb6>\u001b[0m in \u001b[0;36mStudent\u001b[0;34m()\u001b[0m\n\u001b[1;32m      5\u001b[0m   \u001b[0mname\u001b[0m \u001b[0;34m=\u001b[0m \u001b[0;34m\"Arsal\"\u001b[0m\u001b[0;34m\u001b[0m\u001b[0;34m\u001b[0m\u001b[0m\n\u001b[1;32m      6\u001b[0m \u001b[0;34m\u001b[0m\u001b[0m\n\u001b[0;32m----> 7\u001b[0;31m   \u001b[0mS1\u001b[0m \u001b[0;34m=\u001b[0m \u001b[0mStudent\u001b[0m\u001b[0;34m(\u001b[0m\u001b[0;34m)\u001b[0m\u001b[0;34m\u001b[0m\u001b[0;34m\u001b[0m\u001b[0m\n\u001b[0m\u001b[1;32m      8\u001b[0m   \u001b[0mprint\u001b[0m\u001b[0;34m(\u001b[0m\u001b[0ms1\u001b[0m\u001b[0;34m.\u001b[0m\u001b[0mname\u001b[0m\u001b[0;34m)\u001b[0m\u001b[0;34m\u001b[0m\u001b[0;34m\u001b[0m\u001b[0m\n\u001b[1;32m      9\u001b[0m \u001b[0;34m\u001b[0m\u001b[0m\n",
            "\u001b[0;31mNameError\u001b[0m: name 'Student' is not defined"
          ]
        }
      ]
    }
  ],
  "metadata": {
    "colab": {
      "gpuType": "T4",
      "provenance": [],
      "authorship_tag": "ABX9TyMF8h+yQblK+joWats/Iql5",
      "include_colab_link": true
    },
    "kernelspec": {
      "display_name": "Python 3",
      "name": "python3"
    },
    "language_info": {
      "name": "python"
    }
  },
  "nbformat": 4,
  "nbformat_minor": 0
}