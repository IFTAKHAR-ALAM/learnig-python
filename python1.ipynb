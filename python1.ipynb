{
  "nbformat": 4,
  "nbformat_minor": 0,
  "metadata": {
    "colab": {
      "provenance": [],
      "gpuType": "T4",
      "private_outputs": true,
      "cell_execution_strategy": "setup",
      "authorship_tag": "ABX9TyN9fqxHszmaBVhNpwqfzkHj",
      "include_colab_link": true
    },
    "kernelspec": {
      "name": "python3",
      "display_name": "Python 3"
    },
    "language_info": {
      "name": "python"
    },
    "accelerator": "GPU"
  },
  "cells": [
    {
      "cell_type": "markdown",
      "metadata": {
        "id": "view-in-github",
        "colab_type": "text"
      },
      "source": [
        "<a href=\"https://colab.research.google.com/github/IFTAKHAR-ALAM/learnig-python/blob/main/python1.ipynb\" target=\"_parent\"><img src=\"https://colab.research.google.com/assets/colab-badge.svg\" alt=\"Open In Colab\"/></a>"
      ]
    },
    {
      "cell_type": "markdown",
      "source": [
        "## MUHAMMAD IFTIKHAR ALAM\n",
        "##       476369"
      ],
      "metadata": {
        "id": "ffb5Nn-6448I"
      }
    },
    {
      "cell_type": "markdown",
      "source": [
        "## STRINGS / VARIABLES"
      ],
      "metadata": {
        "id": "A3SXEwfjpjG7"
      }
    },
    {
      "cell_type": "code",
      "source": [
        "str1 = \"My name is IFTIKHAR\"\n",
        "str2 = \"I am working with insurance\"\n",
        "\n",
        "print(str1 + str2)\n",
        "\n",
        "str1 = \"My name is IFTIKHAR\"\n",
        "str2 = \"I am working with Insurance\"\n",
        "\n",
        "print( str1 + \" \" + str2 )\n",
        "\n",
        "len(str1)\n",
        "print(len(str1))\n"
      ],
      "metadata": {
        "id": "QoRC-YRYjlQ5"
      },
      "execution_count": null,
      "outputs": []
    },
    {
      "cell_type": "markdown",
      "source": [],
      "metadata": {
        "id": "8sSEUI77pdAH"
      }
    },
    {
      "cell_type": "code",
      "source": [
        "print(\"PAKISTAN\")"
      ],
      "metadata": {
        "id": "_NuZ8JGx5qWb"
      },
      "execution_count": null,
      "outputs": []
    },
    {
      "cell_type": "code",
      "source": [
        "print(\"PAKISTAN\""
      ],
      "metadata": {
        "id": "CPXLmuJG53Od"
      },
      "execution_count": null,
      "outputs": []
    },
    {
      "cell_type": "code",
      "source": [
        "print(\"Hello World\")\n",
        "# print(\"Hello World\")\n",
        "\n",
        "# print(\"PAKISTAN\")\n",
        "# print(\"PAKISTAN\")\n",
        "# print(\"PAKISTAN\")\n",
        "# print(\"PAKISTAN\")\n",
        "# print(\"PAKISTAN\")\n"
      ],
      "metadata": {
        "id": "cfsFbTVB5YN_"
      },
      "execution_count": null,
      "outputs": []
    },
    {
      "cell_type": "code",
      "source": [],
      "metadata": {
        "id": "Q2hqbxHsW1sI"
      },
      "execution_count": null,
      "outputs": []
    },
    {
      "cell_type": "markdown",
      "source": [
        "# #str function"
      ],
      "metadata": {
        "id": "KYYm5JJCXBLv"
      }
    },
    {
      "cell_type": "code",
      "source": [
        "x = \"m IFTIKHAR ALAM\"\\\n",
        "print(x.capitalize())\n",
        "\n",
        "x = (x.capitalize())\n",
        "print(x)\n",
        "\n",
        "x = \"M IFTIKHAR ALAM\"\n",
        "print(x.replace(\"I\", \"A\"))\n",
        "\n",
        "\n",
        "X = \"M IFTIKHar ALAM\"\n",
        "print(x.upper())\n",
        "\n",
        "x = \"M IFTIKHAR ALAM\"\n",
        "print(x.replace(\"ALAM\", \"AHMED\"))\n",
        "\n",
        "x = \"M IFTIKHAR ALAM\"\n",
        "print(x.find(\"A\"))\n",
        "\n",
        "x = from M IFTIKHAR ALAM\"\n",
        "print(x,find(\"from\"))\n",
        "\n",
        "X = \"I am from M IFTIKHAR  from Karachi\"\n",
        "print(x.find(\"from\"))\n",
        "\n",
        "x = \"M IFTIhaR ALAM\"\n",
        "print(x.lower())\n"
      ],
      "metadata": {
        "id": "wtF7fjfW__FE"
      },
      "execution_count": null,
      "outputs": []
    },
    {
      "cell_type": "code",
      "source": [
        "x = \"M IFRIKHAR ALAM\"\n",
        "print(x.endswith(\"ALAM\"))\n",
        "\n",
        "\n",
        "x = \"M IFTIKHAR ALAM\"\n",
        "print(x.endswith(\"IFT\"))"
      ],
      "metadata": {
        "id": "tx1cReOg7q1t"
      },
      "execution_count": null,
      "outputs": []
    },
    {
      "cell_type": "code",
      "source": [
        "x = \"M IFTIKHAR ALAM I working in Insurance\"\n",
        "ch = x\n",
        "ch = x[6]\n",
        "print(ch)\n",
        "\n",
        "ch = x[9]\n",
        "print(ch)"
      ],
      "metadata": {
        "id": "n0_MeMzkwXQF"
      },
      "execution_count": null,
      "outputs": []
    },
    {
      "cell_type": "code",
      "source": [
        "x = \"NUSRAT IFTIKHAR\"\n",
        "print(x[0:9])"
      ],
      "metadata": {
        "id": "fSWZkmLa4JV1"
      },
      "execution_count": null,
      "outputs": []
    },
    {
      "cell_type": "code",
      "source": [
        "x = \"M IFTIKHAR ALAM\"\n",
        "print(x[ 2:7])"
      ],
      "metadata": {
        "id": "1GSSGIJD3n0D"
      },
      "execution_count": null,
      "outputs": []
    },
    {
      "cell_type": "code",
      "source": [
        "x = \"ARSAL IFTIKHAR\"\n",
        "print(x[ -1:-3 ])"
      ],
      "metadata": {
        "id": "7tLZOCIe6eR_"
      },
      "execution_count": null,
      "outputs": []
    },
    {
      "cell_type": "code",
      "source": [
        "name1 = 'Nusrat Iftikhar'\n",
        "name2 = \"Nusrat Iftikhar\"\n",
        "name3 = \"\"\"Nusrat Iftikhar\"\"\"\n",
        "print(name1)\n",
        "print(name2)\n",
        "print(name3)"
      ],
      "metadata": {
        "id": "06SR8mnEt0Ro"
      },
      "execution_count": null,
      "outputs": []
    },
    {
      "cell_type": "markdown",
      "source": [
        " #Type Method"
      ],
      "metadata": {
        "id": "cDTvfj2pYxmW"
      }
    },
    {
      "cell_type": "code",
      "source": [
        "price1 = 55\n",
        "fruits = [\"apple\", \"orange\", \"Banana\", \"Lichee\", \"grapes\"]\n",
        "Old = True\n",
        "Young = True\n",
        "x = None\n",
        "\n",
        "print(type(price1))\n",
        "print(type(fruits))\n",
        "print(type(Old))\n",
        "print(type(Young))\n",
        "print(type(x))"
      ],
      "metadata": {
        "id": "uBDPi9FxwfEs"
      },
      "execution_count": null,
      "outputs": []
    },
    {
      "cell_type": "code",
      "source": [
        "name = \"Nusrat Iftikhar\"\n",
        "age = 40\n",
        "print(type(name))\n",
        "print(type(age))\n"
      ],
      "metadata": {
        "id": "LCia2If6pX7S"
      },
      "execution_count": null,
      "outputs": []
    },
    {
      "cell_type": "code",
      "source": [
        "str = (\"I am Iftikhar my age is 45.\\n I am working with Insurance companies\")\n",
        "print(str)"
      ],
      "metadata": {
        "id": "AAKEaU-D12FI"
      },
      "execution_count": null,
      "outputs": []
    },
    {
      "cell_type": "code",
      "execution_count": null,
      "metadata": {
        "id": "UKjE-KAd3VZ-"
      },
      "outputs": [],
      "source": [
        "print(\"Hello World\")\n",
        "print(\"\"\"My NAME is M IFTIKHSR ALAM AND WORKING AND LEARNING WITH PYTHON\n",
        "i THOUGHT i WII ACHIEVE MY GOAL,\n",
        "EARLY, DUE TO GETTING STRUGGLE AND GIVING TIME TO STEADY AND LEARNING\"\"\")\n"
      ]
    },
    {
      "cell_type": "code",
      "source": [
        "print(\"PAKISTAN ZINDABAD\")"
      ],
      "metadata": {
        "id": "5Skt050lhZb5"
      },
      "execution_count": null,
      "outputs": []
    },
    {
      "cell_type": "code",
      "source": [
        "print(\"Hello World\")\n",
        "print(\"My name is M IFTIKHAR ALAM\")"
      ],
      "metadata": {
        "id": "Q02MBFcW5T1O"
      },
      "execution_count": null,
      "outputs": []
    },
    {
      "cell_type": "code",
      "source": [
        "# prompt: write Hello World with M IFTIKHAR ALAM\n",
        "\n",
        "print(\"Hello World\")\n",
        "print(\"\"\"My NAME is M IFTIKHAR ALAM AND WORKING AND LEARNING WITH PYTHON\n",
        "i THOUGHT i WII ACHIEVE MY GOAL,\n",
        "EARLY, DUE TO GETTING STRUGGLE AND GIVING TIME TO STEADY AND LEARNING\"\"\")\n",
        "\n",
        "print(\"PAKISTAN ZINDABAD\")\n",
        "print(\"Hello World\")\n",
        "print(\"My name is M IFTIKHAR ALAM\")\n"
      ],
      "metadata": {
        "id": "2-bL1mNM5dXG"
      },
      "execution_count": null,
      "outputs": []
    },
    {
      "cell_type": "code",
      "source": [
        "name = \"M IFTIKHAR ALAM\"\n",
        "age = 45\n",
        "education = \"Graduate\"\n",
        "\n",
        "print(\"My name is :\", name)\n",
        "print(\"My age is :\", age)\n",
        "print(\"My education is :\", education)"
      ],
      "metadata": {
        "id": "judKryuIciZo"
      },
      "execution_count": null,
      "outputs": []
    },
    {
      "cell_type": "code",
      "source": [],
      "metadata": {
        "id": "TZyYhm8RDgPL"
      },
      "execution_count": null,
      "outputs": []
    },
    {
      "cell_type": "code",
      "source": [
        "# prompt: weite Hello World with Arsal Iftikhar\n",
        "\n",
        "print(\"Hello World\")\n",
        "print(\"My name is Arsal Iftikhar\")\n"
      ],
      "metadata": {
        "id": "Rmc0nfLNJly8"
      },
      "execution_count": null,
      "outputs": []
    },
    {
      "cell_type": "code",
      "source": [
        " prompt: generate a new calculator\n",
        "\n",
        "def calculator():\n",
        "    \"\"\"Performs basic arithmetic operations.\"\"\"\n",
        "\n",
        "    while True:\n",
        "        print(\"\\nSelect operation:\")\n",
        "        print(\"1. 100\")\n",
        "        print(\"2. 1000\")\n",
        "        print(\"3. 2\")\n",
        "        print(\"4. 4\")\n",
        "        print(\"5. Exit\")\n",
        "\n",
        "        try:\n",
        "            choice = int(input(\"Enter choice(1/2/3/4/5): \"))\n",
        "        except ValueError:\n",
        "            print(\"Invalid input. Please enter a number.\")\n",
        "            continue\n",
        "\n",
        "        if choice == 5:\n",
        "            break\n",
        "\n",
        "        if choice not in [1, 2, 3, 4]:\n",
        "            print(\"Invalid input. Please enter a number between 1 and 5.\")\n",
        "            continue\n",
        "\n",
        "        try:\n",
        "            num1 = float(input(\"Enter first number: \"))\n",
        "            num2 = float(input(\"Enter second number: \"))\n",
        "        except ValueError:\n",
        "            print(\"Invalid input. Please enter numbers.\")\n",
        "            continue\n",
        "\n",
        "        if choice == 1:\n",
        "            print(num1, \"+\", num2, \"=\", num1 + num2)\n",
        "        elif choice == 2:\n",
        "            print(num1, \"-\", num2, \"=\", num1 - num2)\n",
        "        elif choice == 3:\n",
        "            print(num1, \"*\", num2, \"=\", num1 * num2)\n",
        "        elif choice == 4:\n",
        "            if num2 == 0:\n",
        "                print(\"Division by zero error!\")\n",
        "            else:\n",
        "                print(num1, \"/\", num2, \"=\", num1 / num2)\n",
        "\n",
        "if __name__ == \"__main__\":\n",
        "  calculator()\n"
      ],
      "metadata": {
        "id": "NWuh_N6jLDoz"
      },
      "execution_count": null,
      "outputs": []
    },
    {
      "cell_type": "code",
      "source": [
        " prompt: generate english clender current jan to dec  year 2025\n",
        "\n",
        "import calendar\n",
        "\n",
        "def generate_calendar(year):\n",
        "    \"\"\"Generates a calendar for the given year.\"\"\"\n",
        "\n",
        "    for month in range(1, 13):  # Iterate through months (1-12)\n",
        "        print(calendar.month(year, month))\n",
        "\n",
        "\n",
        "if __name__ == \"__main__\":\n",
        "    generate_calendar(2025)\n"
      ],
      "metadata": {
        "id": "5Tfj22fbP6-0"
      },
      "execution_count": null,
      "outputs": []
    },
    {
      "cell_type": "code",
      "source": [
        "# prompt: 2025 calendar  jan to dec\n",
        "\n",
        "import calendar\n",
        "\n",
        "def generate_calendar(year):\n",
        "    \"\"\"Generates a calendar for the given year.\"\"\"\n",
        "\n",
        "    for month in range(1, 13):  # Iterate through months (1-12)\n",
        "        print(calendar.month(year, month))\n",
        "\n",
        "\n",
        "if __name__ == \"__main__\":\n",
        "    generate_calendar(2025)\n"
      ],
      "metadata": {
        "id": "7-XJIOsIRO7L"
      },
      "execution_count": null,
      "outputs": []
    },
    {
      "cell_type": "code",
      "source": [
        "yy = 2024\n",
        "mm = 2\n",
        "print(calendar.month(yy, mm))"
      ],
      "metadata": {
        "id": "2e2TGIgYJeZF"
      },
      "execution_count": null,
      "outputs": []
    },
    {
      "cell_type": "code",
      "source": [],
      "metadata": {
        "id": "AcF1CIKZKsiC"
      },
      "execution_count": null,
      "outputs": []
    },
    {
      "cell_type": "code",
      "source": [
        "year = 2025\n",
        "month = 12\n",
        "print(calendar.month(year, month))"
      ],
      "metadata": {
        "id": "3v49ly6TS1KO"
      },
      "execution_count": null,
      "outputs": []
    },
    {
      "cell_type": "markdown",
      "source": [
        "# OPERATORS"
      ],
      "metadata": {
        "id": "AWhfIzgBDwce"
      }
    },
    {
      "cell_type": "code",
      "source": [
        "a = 5\n",
        "b =10\n",
        "print(a+b)\n",
        "\n",
        "a = 11\n",
        "b = 15\n",
        "print(a-b)\n",
        "\n",
        "a = 0\n",
        "b = 11\n",
        "print(a * b)\n",
        "\n",
        "a = 100\n",
        "b = 2\n",
        "print( a / b )\n",
        "\n",
        "a = 5\n",
        "b = 5\n",
        "print( a ** b)\n",
        "\n",
        "a = 55\n",
        "b = 11\n",
        "print( a / b)\n",
        "\n",
        "a = 55\n",
        "b = 44\n",
        "print( a % b )\n",
        "\n"
      ],
      "metadata": {
        "id": "niDKbIyUDrA-"
      },
      "execution_count": null,
      "outputs": []
    },
    {
      "cell_type": "code",
      "source": [
        "x = 100\n",
        "x = x + 100\n",
        "\n",
        "print(\"x:\", x )\n",
        "\n",
        "x = 100\n",
        "x = x =- 100\n",
        "print(\"x:\", x)\n",
        "\n",
        "x = 100\n",
        "x = x * 100\n",
        "print(\"x:\", x)\n",
        "\n",
        "x = 100\n",
        "x = x / 100\n",
        "print(\"x:\", x)\n",
        "\n",
        "\n"
      ],
      "metadata": {
        "id": "9PDM2QVdpY8j"
      },
      "execution_count": null,
      "outputs": []
    },
    {
      "cell_type": "code",
      "source": [
        "x = 100\n",
        "y = 50\n",
        "\n",
        "print( x == y )\n",
        "print( x != y )\n",
        "print( x >= y )\n",
        "print( x <= y )\n",
        "print( x > y )\n",
        "print( x < y )\n",
        "\n"
      ],
      "metadata": {
        "id": "jc6Jn_t0F24e"
      },
      "execution_count": null,
      "outputs": []
    },
    {
      "cell_type": "code",
      "source": [
        "x = 150\n",
        "x += 150\n",
        "print(\"x :\", x)\n",
        "\n",
        "x = 150\n",
        "x *= 150\n",
        "print(\"x :\", x)\n",
        "\n",
        "x = 150\n",
        "x /= 150\n",
        "print(\"x :\", x)\n",
        "\n",
        "\n"
      ],
      "metadata": {
        "id": "KnWSb72mvQQj"
      },
      "execution_count": null,
      "outputs": []
    },
    {
      "cell_type": "code",
      "source": [
        "\n",
        "x =  66.60\n",
        "x = str(x)\n",
        "print(type(x))"
      ],
      "metadata": {
        "id": "Rz48ObaRhP5d"
      },
      "execution_count": null,
      "outputs": []
    },
    {
      "cell_type": "code",
      "source": [
        "x1 = float(\"22\")\n",
        "x2 = 44.50\n",
        "print(type(x1))\n",
        "print(x1 + x2)"
      ],
      "metadata": {
        "id": "mAsWp3BygNxK"
      },
      "execution_count": null,
      "outputs": []
    },
    {
      "cell_type": "code",
      "source": [
        "x1 = int(\"2\")\n",
        "x2 = 3.50\n",
        "\n",
        "print(type(x1))\n",
        "print(x1 + x2)"
      ],
      "metadata": {
        "id": "oFIhVvCMePSl"
      },
      "execution_count": null,
      "outputs": []
    },
    {
      "cell_type": "code",
      "source": [
        "x1 = 24\n",
        "x2 = 20.23\n",
        "sum = x1+x2\n",
        "print(sum)"
      ],
      "metadata": {
        "id": "KxssuSmCdEhS"
      },
      "execution_count": null,
      "outputs": []
    },
    {
      "cell_type": "code",
      "source": [
        "x1 = 100\n",
        "x2 = 50\n",
        "print(\"OR oprrater:\", (x1 == x2) or (x1 > x2))"
      ],
      "metadata": {
        "id": "lWwskQ2b-vyL"
      },
      "execution_count": null,
      "outputs": []
    },
    {
      "cell_type": "code",
      "source": [
        "x1 = True\n",
        "x2 = True\n",
        "print(\"AND operator :\", ( x1 and x2)"
      ],
      "metadata": {
        "id": "X_uJCKq89p9b"
      },
      "execution_count": null,
      "outputs": []
    },
    {
      "cell_type": "code",
      "source": [
        "print(not False)\n",
        "print(not True)"
      ],
      "metadata": {
        "id": "vqjxz6fPxp58"
      },
      "execution_count": null,
      "outputs": []
    },
    {
      "cell_type": "code",
      "source": [],
      "metadata": {
        "id": "N93F3yL0MrEC"
      },
      "execution_count": null,
      "outputs": []
    },
    {
      "cell_type": "code",
      "source": [
        "yy = 2025\n",
        "mm = 5\n",
        "print(calendar.month(yy, mm))"
      ],
      "metadata": {
        "id": "ekeRAXqbVVsm"
      },
      "execution_count": null,
      "outputs": []
    },
    {
      "cell_type": "code",
      "source": [
        "yy = 2025\n",
        "mm = 12\n",
        "print(calendar.month(yy, mm))"
      ],
      "metadata": {
        "id": "6YemEncHxocE"
      },
      "execution_count": null,
      "outputs": []
    },
    {
      "cell_type": "markdown",
      "source": [
        "# ***CONDIRIONAL STATEMENTS***"
      ],
      "metadata": {
        "id": "_PHGhI_NjhUK"
      }
    },
    {
      "cell_type": "code",
      "source": [
        "age = 23\n",
        "\n",
        "if(age >= 18):\n",
        "    print(\"You are eligible to NIC\")\n",
        "else:\n",
        "    print(\"You are not eligible to NIC\")\n",
        "\n",
        "\n",
        "age = 5\n",
        "\n",
        "if(age >= 4):\n",
        "    print(\"You are eligible to admisstion nursery\")\n",
        "else:\n",
        "    print(\"You are not eligible to admission nursery\")\n",
        "\n",
        "\n",
        "\n",
        "    age = 22\n",
        "\n",
        "    if(age >= 18):\n",
        "      print(\"you can dribe car\")\n",
        "    else:\n",
        "      print(\"you can't drive a car\")\n"
      ],
      "metadata": {
        "id": "vo00twcpE_H-"
      },
      "execution_count": null,
      "outputs": []
    },
    {
      "cell_type": "code",
      "source": [
        "marks = 75\n",
        "\n",
        "if(marks >= 90):\n",
        "  print(\"Grade A\")\n",
        "elif(marks >= 80):\n",
        "  print(\"Grade B\")\n",
        "elif(marks >= 70):\n",
        "  print(\"Grade C\")\n",
        "elif(marks >= 60):\n",
        "  print(\"Grade D\")"
      ],
      "metadata": {
        "id": "iZbtLD7rzz99"
      },
      "execution_count": null,
      "outputs": []
    },
    {
      "cell_type": "code",
      "source": [
        "marks1 = 90.6\n",
        "marks2 = 80.7\n",
        "marks3 = 70.3\n",
        "marls4 = 60.7\n",
        "markd5 = 50.4\n",
        "\n",
        "marks = [90.4, 80.7, 70.3, 60.7, 50.4]\n",
        "print(marks)\n",
        "print(type(marks))\n",
        "print(marks[0])\n",
        "print(marks[1])\n"
      ],
      "metadata": {
        "id": "oKYS3q2--Ju0"
      },
      "execution_count": null,
      "outputs": []
    },
    {
      "cell_type": "code",
      "source": [
        "marks = int(input(\"Enter student marks : \"))\n",
        "\n",
        "marks = 75\n",
        "\n",
        "if(marks >= 90):\n",
        "  Grade = \"A\"\n",
        "elif(marks >= 80 and marks < 90):\n",
        "  Grade = \"B\"\n",
        "elif(marks >= 70 and marks < 80):\n",
        "  Grade = \"C\"\n",
        "else:\n",
        "  Grade = \"D\"\n",
        "\n",
        "print(\"Grade of the studen ->\", Grade)\n",
        "\n"
      ],
      "metadata": {
        "id": "gCW7yIxY98g0"
      },
      "execution_count": null,
      "outputs": []
    },
    {
      "cell_type": "markdown",
      "source": [
        "# ***LIST( SILICING, INDEXING, METHODS ) ***"
      ],
      "metadata": {
        "id": "ciUxahExmuCo"
      }
    },
    {
      "cell_type": "code",
      "source": [
        "student = [\"IFTIKHAR\", 90.6, 40, \"Karachi, Pakistan\"]\n",
        "print(student)\n",
        "student[0] = \"ARSAL IFTIKHAR\"\n",
        "print(student)\n",
        "\n"
      ],
      "metadata": {
        "id": "QgtOjDSqVmzS"
      },
      "execution_count": null,
      "outputs": []
    },
    {
      "cell_type": "code",
      "source": [
        "marks = [ 90, 80, 70, 60, 50, 40 ]\n",
        "print(marks[1:5])\n",
        "print(marks[2:4])\n",
        "print(marks[ :3])\n",
        "print(marks[2: ])\n",
        "print(marks[-2:-1])\n",
        "print(marks[-1:-3])\n",
        "print(marks[-4:-1])\n"
      ],
      "metadata": {
        "id": "U5NKJbR6gwdR"
      },
      "execution_count": null,
      "outputs": []
    },
    {
      "cell_type": "code",
      "source": [
        "\n",
        "list = [ 1, 2, 3, 4, 5, 6]\n",
        "list.append(7)\n",
        "print(list.sort())\n",
        "list.insert(2, 7)\n",
        "print(list)\n",
        "\n",
        "\n",
        "\n",
        "\n",
        "\n"
      ],
      "metadata": {
        "id": "nh8C5ZAEmkl8"
      },
      "execution_count": null,
      "outputs": []
    },
    {
      "cell_type": "code",
      "source": [
        "list = [1, 2, 3, 4, 5, 6, ]\n",
        "list.remove(1)\n",
        "list.pop(4)\n",
        "print(list)\n"
      ],
      "metadata": {
        "id": "veWL7AtJ2XaG"
      },
      "execution_count": null,
      "outputs": []
    },
    {
      "cell_type": "code",
      "source": [
        "tup = (2, 3, 5, 8, 9)\n",
        "print(type(tup))\n",
        "\n",
        "\n",
        "tup = ()\n",
        "print(tup)\n",
        "print(type(tup))\n",
        "\n",
        "tup = (1,)\n",
        "print(tup)\n",
        "\n",
        "tup = (1)\n",
        "tup = (2.0)\n",
        "tup = \"IFTIKHAR\"\n",
        "print(type(tup))\n",
        "\n",
        "tup = (\"IFTIKHAR\",)\n",
        "tup = (2.0)\n",
        "print(tup)\n",
        "print(type(tup))\n",
        "\n"
      ],
      "metadata": {
        "id": "86888DdL4v71"
      },
      "execution_count": null,
      "outputs": []
    },
    {
      "cell_type": "code",
      "source": [
        "tup = (1, 2, 4, 5, 7, 6)\n",
        "print(tup.index(1))\n",
        "print(tup.index(2))\n",
        "print(tup.count(4))\n",
        "print(tup.count(1))"
      ],
      "metadata": {
        "id": "7KyuzLvMGd5T"
      },
      "execution_count": null,
      "outputs": []
    },
    {
      "cell_type": "code",
      "source": [],
      "metadata": {
        "id": "zalCEdJwQZhB"
      },
      "execution_count": null,
      "outputs": []
    },
    {
      "cell_type": "code",
      "source": [],
      "metadata": {
        "id": "_3GgkoztQa3j"
      },
      "execution_count": null,
      "outputs": []
    },
    {
      "cell_type": "markdown",
      "source": [
        "# **DICTIONARY and SET**"
      ],
      "metadata": {
        "id": "DdHBaKvIQdBp"
      }
    },
    {
      "cell_type": "code",
      "source": [
        "info = {\n",
        "    \"key\":\"value\",\n",
        "    \"name\":\"IFTIKHAR\",\n",
        "    \"subject\":\"English\",\n",
        "}\n",
        "\n",
        "print(info)\n",
        "print(type(info))\n",
        "print(info[\"name\"])\n",
        "print(info[\"subject\"])\n",
        "print(info[\"key\"])\n",
        "\n",
        "\n",
        "info[\"name\"] = \"ARSAL IFTIKHAR ALAM\"\n",
        "print(info)"
      ],
      "metadata": {
        "id": "WeMznCNYQsPj"
      },
      "execution_count": null,
      "outputs": []
    }
  ]
}