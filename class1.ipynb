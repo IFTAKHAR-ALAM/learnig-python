{
  "nbformat": 4,
  "nbformat_minor": 0,
  "metadata": {
    "colab": {
      "provenance": [],
      "gpuType": "T4",
      "authorship_tag": "ABX9TyPisbldETdLuCUFTGQwLs4A",
      "include_colab_link": true
    },
    "kernelspec": {
      "name": "python3",
      "display_name": "Python 3"
    },
    "language_info": {
      "name": "python"
    },
    "accelerator": "GPU"
  },
  "cells": [
    {
      "cell_type": "markdown",
      "metadata": {
        "id": "view-in-github",
        "colab_type": "text"
      },
      "source": [
        "<a href=\"https://colab.research.google.com/github/IFTAKHAR-ALAM/learnig-python/blob/main/class1.ipynb\" target=\"_parent\"><img src=\"https://colab.research.google.com/assets/colab-badge.svg\" alt=\"Open In Colab\"/></a>"
      ]
    },
    {
      "cell_type": "code",
      "execution_count": null,
      "metadata": {
        "colab": {
          "base_uri": "https://localhost:8080/"
        },
        "id": "JU_CXqJpBycS",
        "outputId": "00c0f69e-8355-457a-fb99-8897d498ab01"
      },
      "outputs": [
        {
          "output_type": "stream",
          "name": "stdout",
          "text": [
            "HELLO NEW WORLD \n"
          ]
        }
      ],
      "source": [
        "print(\"HELLO NEW WORLD \")"
      ]
    },
    {
      "cell_type": "code",
      "source": [
        "def greet():\n",
        "  print(\"Hello person\")\n",
        "  greet()\n",
        "print(\"Arsal Iftikhar\")\n"
      ],
      "metadata": {
        "id": "F5C1B17aTuM8",
        "colab": {
          "base_uri": "https://localhost:8080/"
        },
        "outputId": "8f72a779-7e92-4d20-c088-58bffcaa2cd8"
      },
      "execution_count": null,
      "outputs": [
        {
          "output_type": "stream",
          "name": "stdout",
          "text": [
            "Arsal Iftikhar\n"
          ]
        }
      ]
    },
    {
      "cell_type": "code",
      "source": [
        "# prompt: Write Hello World with M IFTIKHAR ALAM\n",
        "\n",
        "print(\"Hello World with M IFTIKHAR ALAM\")\n"
      ],
      "metadata": {
        "id": "tdVOCb1VrhMV",
        "colab": {
          "base_uri": "https://localhost:8080/"
        },
        "outputId": "5bb16b32-36f0-441c-ef79-d8d4488182b3"
      },
      "execution_count": null,
      "outputs": [
        {
          "output_type": "stream",
          "name": "stdout",
          "text": [
            "Hello World with M IFTIKHAR ALAM\n"
          ]
        }
      ]
    },
    {
      "cell_type": "code",
      "source": [
        "def greet(name):\n",
        "  print(f\"Hello (name)\")\n",
        "greet(\"zarnisha\")\n"
      ],
      "metadata": {
        "colab": {
          "base_uri": "https://localhost:8080/"
        },
        "id": "Q8VQTxaWz111",
        "outputId": "e0fe2f78-d177-4668-e177-0d5a9d3e7ae8"
      },
      "execution_count": null,
      "outputs": [
        {
          "output_type": "stream",
          "name": "stdout",
          "text": [
            "Hello (name)\n"
          ]
        }
      ]
    },
    {
      "cell_type": "code",
      "source": [
        "def add_two(a , b):\n",
        "  a = 50\n",
        "  b = 77\n",
        "  c = a + b\n",
        "  return c\n",
        "add_two(50,77)\n"
      ],
      "metadata": {
        "colab": {
          "base_uri": "https://localhost:8080/"
        },
        "id": "GFOom4IU6YQr",
        "outputId": "31dfa2ed-92f4-4811-d0d1-2fcb603439ec"
      },
      "execution_count": null,
      "outputs": [
        {
          "output_type": "execute_result",
          "data": {
            "text/plain": [
              "127"
            ]
          },
          "metadata": {},
          "execution_count": 62
        }
      ]
    },
    {
      "cell_type": "code",
      "source": [
        "def greet_with_default(name = \"Guest\"):\n",
        "  print(f\"Hello (name)\")\n",
        "greet_with_default(\"iftikhar\")\n"
      ],
      "metadata": {
        "colab": {
          "base_uri": "https://localhost:8080/"
        },
        "id": "EKPN1wu2FqeC",
        "outputId": "49aa0a38-6775-4675-8bf5-ff052d92ff43"
      },
      "execution_count": null,
      "outputs": [
        {
          "output_type": "stream",
          "name": "stdout",
          "text": [
            "Hello (name)\n"
          ]
        }
      ]
    },
    {
      "cell_type": "code",
      "source": [],
      "metadata": {
        "id": "8ZdId1podDgN"
      },
      "execution_count": null,
      "outputs": []
    },
    {
      "cell_type": "code",
      "source": [
        "def call_llm(prompt):\n",
        "  print(f\"uder: promt\")\n",
        "  return \"AI: Hello how can I help you\"\n",
        "response = call_llm(prompt=\"My name Oftikhar\")\n",
        "print(response)\n",
        "\n"
      ],
      "metadata": {
        "colab": {
          "base_uri": "https://localhost:8080/"
        },
        "id": "Y9Da7Dh5QTIc",
        "outputId": "b392ed96-96e6-46b2-a19a-32c72663d70b"
      },
      "execution_count": null,
      "outputs": [
        {
          "output_type": "stream",
          "name": "stdout",
          "text": [
            "uder: promt\n",
            "AI: Hello how can I help you\n"
          ]
        }
      ]
    },
    {
      "cell_type": "code",
      "source": [
        "def roll_dice(limit = 6):\n",
        "  return random.randint(1, limt)\n",
        "  print(roll_dice( 24 ))\n"
      ],
      "metadata": {
        "id": "egjhGQmAgjIb"
      },
      "execution_count": null,
      "outputs": []
    },
    {
      "cell_type": "code",
      "source": [
        "name = \"M.IFTIKHAR ALAM\"\n",
        "print(name)"
      ],
      "metadata": {
        "colab": {
          "base_uri": "https://localhost:8080/"
        },
        "id": "2Z2b9yB5X5ri",
        "outputId": "207be190-e69e-474e-de61-3dcb862bbfeb"
      },
      "execution_count": null,
      "outputs": [
        {
          "output_type": "stream",
          "name": "stdout",
          "text": [
            "M.IFTIKHAR ALAM\n"
          ]
        }
      ]
    },
    {
      "cell_type": "code",
      "source": [
        "name = \"\"\"My name is Iftikhar I am working in Insurance last since\n",
        "35 years and working with M/S ASKARI GENERAL INSURANCE\"\"\"\n",
        "print(name)"
      ],
      "metadata": {
        "colab": {
          "base_uri": "https://localhost:8080/"
        },
        "id": "xiAHNWV6fQFM",
        "outputId": "c68208f3-95c1-4735-bcbd-faa632f7cc86"
      },
      "execution_count": null,
      "outputs": [
        {
          "output_type": "stream",
          "name": "stdout",
          "text": [
            "My name is Iftikhar I am working in Insurance last since \n",
            "35 years and working with M/S ASKARI GENERAL INSURANCE\n"
          ]
        }
      ]
    },
    {
      "cell_type": "code",
      "source": [
        "users = {\n",
        "    \"username\": \"Najam\",\n",
        "    \"age\" : 26,\n",
        "    \"city\" : \"katachi\"\n",
        "}\n",
        "print(users[\"username\"])\n",
        "print(users[\"age\"])\n",
        "print(users[\"city\"])\n",
        "users[\"username\"] = \"Arsal\"\n",
        "print(users[\"username\"])\n",
        "\n",
        "users[\"sername\"] = \"Iftikhar\"\n",
        "print(users[\"username\"])\n",
        "users[\"age\"] = 23\n",
        "print(users[\"age\"])\n",
        "users[\"city\"] = \"HUDRABAD\"\n",
        "print(users[\"city\"])\n",
        "users[\"country\"] = \"PAKISTAN\"\n",
        "print(users[\"country\"])\n",
        "print(users)\n",
        "\n",
        "\n",
        "\n",
        "\n",
        "\n"
      ],
      "metadata": {
        "colab": {
          "base_uri": "https://localhost:8080/"
        },
        "id": "bHHdHgFTri-j",
        "outputId": "1b731f20-41b3-47ca-dbc0-112100fa786c"
      },
      "execution_count": null,
      "outputs": [
        {
          "output_type": "stream",
          "name": "stdout",
          "text": [
            "Najam\n",
            "26\n",
            "katachi\n",
            "Arsal\n",
            "Arsal\n",
            "23\n",
            "HUDRABAD\n",
            "PAKISTAN\n",
            "{'username': 'Arsal', 'age': 23, 'city': 'HUDRABAD', 'sername': 'Iftikhar', 'country': 'PAKISTAN'}\n"
          ]
        }
      ]
    },
    {
      "cell_type": "code",
      "source": [
        "users1: dict = {\"name\": 'IFTIKHAR',\n",
        "               \"age\": 33,\n",
        "               \"job\": \"Insurance\",\n",
        "               \"work\": \"ASKRI INSURANCE\",\n",
        "               \"Country\": \"PAKISTAN\"\n",
        "}\n",
        "\n",
        "\n",
        "\n"
      ],
      "metadata": {
        "id": "7XxrQl20HcGb"
      },
      "execution_count": null,
      "outputs": []
    },
    {
      "cell_type": "code",
      "source": [
        "for i in range(1, 6):\n",
        "  print(i)\n",
        "\n",
        "  students = [\"Arsal\",\"Aslam\",\"Arham\",\"moin\",\"Akhtae\"]\n",
        "  for student in students:\n",
        "   print(student)"
      ],
      "metadata": {
        "colab": {
          "base_uri": "https://localhost:8080/"
        },
        "id": "AhUC0RyHXej8",
        "outputId": "eba2af1e-1284-47bc-9d99-e3f92db2515b"
      },
      "execution_count": null,
      "outputs": [
        {
          "output_type": "stream",
          "name": "stdout",
          "text": [
            "1\n",
            "Arsal\n",
            "Aslam\n",
            "Arham\n",
            "moin\n",
            "Akhtae\n",
            "2\n",
            "Arsal\n",
            "Aslam\n",
            "Arham\n",
            "moin\n",
            "Akhtae\n",
            "3\n",
            "Arsal\n",
            "Aslam\n",
            "Arham\n",
            "moin\n",
            "Akhtae\n",
            "4\n",
            "Arsal\n",
            "Aslam\n",
            "Arham\n",
            "moin\n",
            "Akhtae\n",
            "5\n",
            "Arsal\n",
            "Aslam\n",
            "Arham\n",
            "moin\n",
            "Akhtae\n"
          ]
        }
      ]
    },
    {
      "cell_type": "code",
      "source": [
        "correct_number = 9\n",
        "guess = 0\n",
        "\n",
        "while guess != correct_number:\n",
        "  guess = int(input(\"guess the number:\"))\n",
        "  print(\"wrong, Try again please\" if guess != currect_number else \"you guess it right\")"
      ],
      "metadata": {
        "colab": {
          "base_uri": "https://localhost:8080/"
        },
        "id": "JRoOi8VPd6aQ",
        "outputId": "b9362bc0-a5df-4ccb-f5ac-48956d4e7b57"
      },
      "execution_count": null,
      "outputs": [
        {
          "output_type": "stream",
          "name": "stdout",
          "text": [
            "guess the number:3\n",
            "wrong, Try again please\n",
            "guess the number:5\n",
            "wrong, Try again please\n",
            "guess the number:7\n",
            "wrong, Try again please\n",
            "guess the number:0\n",
            "wrong, Try again please\n",
            "guess the number:9\n",
            "you guess it right\n"
          ]
        }
      ]
    },
    {
      "cell_type": "code",
      "source": [
        "countdown = 10\n",
        "while countdown >= 1:\n",
        "  print(f\"{countdown}...\")\n",
        "  countdown -= 1\n",
        "\n",
        "\n",
        "print(\"HAPPY NEW YEAR!!!\")\n"
      ],
      "metadata": {
        "colab": {
          "base_uri": "https://localhost:8080/"
        },
        "id": "8J-fq7torLuy",
        "outputId": "9dff7998-7463-4111-e946-ca20378c59e2"
      },
      "execution_count": null,
      "outputs": [
        {
          "output_type": "stream",
          "name": "stdout",
          "text": [
            "10...\n",
            "9...\n",
            "8...\n",
            "7...\n",
            "6...\n",
            "5...\n",
            "4...\n",
            "3...\n",
            "2...\n",
            "1...\n",
            "HAPPY NEW YEAR!!!\n"
          ]
        }
      ]
    },
    {
      "cell_type": "code",
      "source": [
        "numbers = [1, 2, 3, 4, 5, 6, 7]\n",
        "for num in numbers:\n",
        "  print( num ** 2)\n",
        "\n",
        "print( num ** 3)"
      ],
      "metadata": {
        "colab": {
          "base_uri": "https://localhost:8080/"
        },
        "id": "XNNeMNYPxCJZ",
        "outputId": "20efb616-df3d-4652-bba8-14f88f17c0e9"
      },
      "execution_count": null,
      "outputs": [
        {
          "output_type": "stream",
          "name": "stdout",
          "text": [
            "1\n",
            "4\n",
            "9\n",
            "16\n",
            "25\n",
            "36\n",
            "49\n",
            "343\n"
          ]
        }
      ]
    },
    {
      "cell_type": "code",
      "source": [],
      "metadata": {
        "id": "q03lyUTAytmc"
      },
      "execution_count": null,
      "outputs": []
    },
    {
      "cell_type": "code",
      "source": [
        "try:\n",
        "  num = int(input(\"Enter a number:\"))\n",
        "  result = num /10\n",
        "  print(f\"Result is: (result)\")\n",
        "\n",
        "except ZeroDivisionError:\n",
        "    print(\"cannot devide by zero.\")\n",
        "\n",
        "except ValueError:\n",
        "  print(\"only numbers are accepted.\")\n",
        "\n"
      ],
      "metadata": {
        "colab": {
          "base_uri": "https://localhost:8080/"
        },
        "id": "NOs89w7_XvXx",
        "outputId": "9ce5d3e1-082d-40ee-96b5-01e8f13eb9e8"
      },
      "execution_count": null,
      "outputs": [
        {
          "output_type": "stream",
          "name": "stdout",
          "text": [
            "Enter a number:22\n",
            "Result is: (result)\n"
          ]
        }
      ]
    },
    {
      "cell_type": "code",
      "source": [
        "# prompt: generate 2025 calender jan to dec 2025\n",
        "\n",
        "import calendar\n",
        "\n",
        "def print_calendar(year):\n",
        "  for month in range(1, 13):\n",
        "    print(calendar.month(year, month))\n",
        "\n",
        "print_calendar(2025)\n"
      ],
      "metadata": {
        "colab": {
          "base_uri": "https://localhost:8080/"
        },
        "id": "jFiZFkcj_Rtj",
        "outputId": "f2129168-685b-4e77-9b93-582e78de7716"
      },
      "execution_count": null,
      "outputs": [
        {
          "output_type": "stream",
          "name": "stdout",
          "text": [
            "    January 2025\n",
            "Mo Tu We Th Fr Sa Su\n",
            "       1  2  3  4  5\n",
            " 6  7  8  9 10 11 12\n",
            "13 14 15 16 17 18 19\n",
            "20 21 22 23 24 25 26\n",
            "27 28 29 30 31\n",
            "\n",
            "   February 2025\n",
            "Mo Tu We Th Fr Sa Su\n",
            "                1  2\n",
            " 3  4  5  6  7  8  9\n",
            "10 11 12 13 14 15 16\n",
            "17 18 19 20 21 22 23\n",
            "24 25 26 27 28\n",
            "\n",
            "     March 2025\n",
            "Mo Tu We Th Fr Sa Su\n",
            "                1  2\n",
            " 3  4  5  6  7  8  9\n",
            "10 11 12 13 14 15 16\n",
            "17 18 19 20 21 22 23\n",
            "24 25 26 27 28 29 30\n",
            "31\n",
            "\n",
            "     April 2025\n",
            "Mo Tu We Th Fr Sa Su\n",
            "    1  2  3  4  5  6\n",
            " 7  8  9 10 11 12 13\n",
            "14 15 16 17 18 19 20\n",
            "21 22 23 24 25 26 27\n",
            "28 29 30\n",
            "\n",
            "      May 2025\n",
            "Mo Tu We Th Fr Sa Su\n",
            "          1  2  3  4\n",
            " 5  6  7  8  9 10 11\n",
            "12 13 14 15 16 17 18\n",
            "19 20 21 22 23 24 25\n",
            "26 27 28 29 30 31\n",
            "\n",
            "     June 2025\n",
            "Mo Tu We Th Fr Sa Su\n",
            "                   1\n",
            " 2  3  4  5  6  7  8\n",
            " 9 10 11 12 13 14 15\n",
            "16 17 18 19 20 21 22\n",
            "23 24 25 26 27 28 29\n",
            "30\n",
            "\n",
            "     July 2025\n",
            "Mo Tu We Th Fr Sa Su\n",
            "    1  2  3  4  5  6\n",
            " 7  8  9 10 11 12 13\n",
            "14 15 16 17 18 19 20\n",
            "21 22 23 24 25 26 27\n",
            "28 29 30 31\n",
            "\n",
            "    August 2025\n",
            "Mo Tu We Th Fr Sa Su\n",
            "             1  2  3\n",
            " 4  5  6  7  8  9 10\n",
            "11 12 13 14 15 16 17\n",
            "18 19 20 21 22 23 24\n",
            "25 26 27 28 29 30 31\n",
            "\n",
            "   September 2025\n",
            "Mo Tu We Th Fr Sa Su\n",
            " 1  2  3  4  5  6  7\n",
            " 8  9 10 11 12 13 14\n",
            "15 16 17 18 19 20 21\n",
            "22 23 24 25 26 27 28\n",
            "29 30\n",
            "\n",
            "    October 2025\n",
            "Mo Tu We Th Fr Sa Su\n",
            "       1  2  3  4  5\n",
            " 6  7  8  9 10 11 12\n",
            "13 14 15 16 17 18 19\n",
            "20 21 22 23 24 25 26\n",
            "27 28 29 30 31\n",
            "\n",
            "   November 2025\n",
            "Mo Tu We Th Fr Sa Su\n",
            "                1  2\n",
            " 3  4  5  6  7  8  9\n",
            "10 11 12 13 14 15 16\n",
            "17 18 19 20 21 22 23\n",
            "24 25 26 27 28 29 30\n",
            "\n",
            "   December 2025\n",
            "Mo Tu We Th Fr Sa Su\n",
            " 1  2  3  4  5  6  7\n",
            " 8  9 10 11 12 13 14\n",
            "15 16 17 18 19 20 21\n",
            "22 23 24 25 26 27 28\n",
            "29 30 31\n",
            "\n"
          ]
        }
      ]
    },
    {
      "cell_type": "code",
      "source": [
        "year = 2025\n",
        "month = 2\n",
        "print(calendar.month(year, month))"
      ],
      "metadata": {
        "id": "rANSuooyDN4Q"
      },
      "execution_count": null,
      "outputs": []
    },
    {
      "cell_type": "code",
      "source": [
        "year = 2025\n",
        "month = 1\n",
        "print(calendar.month(year, month))"
      ],
      "metadata": {
        "colab": {
          "base_uri": "https://localhost:8080/"
        },
        "id": "FbF-XTqYBP5O",
        "outputId": "0b6b31c8-2633-4451-95a5-5eaac622bc39"
      },
      "execution_count": null,
      "outputs": [
        {
          "output_type": "stream",
          "name": "stdout",
          "text": [
            "    January 2025\n",
            "Mo Tu We Th Fr Sa Su\n",
            "       1  2  3  4  5\n",
            " 6  7  8  9 10 11 12\n",
            "13 14 15 16 17 18 19\n",
            "20 21 22 23 24 25 26\n",
            "27 28 29 30 31\n",
            "\n"
          ]
        }
      ]
    },
    {
      "cell_type": "code",
      "source": [
        "student = {\n",
        "\n",
        "    \"name\" : \"Arsal\", \"Arham\", \"moin\", \"akhtar\", \"zarnisha\",\n",
        "\n",
        "    \"subjects\" = {\n",
        "       \"name\" : \"phy\", \"chem\", \"bio\", \"comp\", \"Math\",\n",
        "    \"Math\" : 100,\n",
        "    \"phy\" : 90,\n",
        "    \"chem\": 90,\n",
        "    \"bio\" : 80,\n",
        "    \"comp\" : 70\n",
        "\n",
        "\n",
        "    }\n",
        "\n",
        "},\n",
        "\n",
        "print(list(students.keys()))\n",
        "print(student.values)\n",
        "print(list(student.values()))\n",
        "print(student.items())\n",
        "print(list(student.items())\n",
        "pairs = list(students.items())\n",
        "print(pairs[0])\n",
        "\n",
        "\n",
        "\n",
        "\n"
      ],
      "metadata": {
        "colab": {
          "base_uri": "https://localhost:8080/",
          "height": 106
        },
        "id": "C6ro4siXFzql",
        "outputId": "e34fa7dd-2a8d-4ecc-c483-9ecfcf09064d"
      },
      "execution_count": 26,
      "outputs": [
        {
          "output_type": "error",
          "ename": "SyntaxError",
          "evalue": "':' expected after dictionary key (<ipython-input-26-fc89a0df2321>, line 3)",
          "traceback": [
            "\u001b[0;36m  File \u001b[0;32m\"<ipython-input-26-fc89a0df2321>\"\u001b[0;36m, line \u001b[0;32m3\u001b[0m\n\u001b[0;31m    \"name\" : \"Arsal\", \"Arham\", \"moin\", \"akhtar\", \"zarnisha\",\u001b[0m\n\u001b[0m                            ^\u001b[0m\n\u001b[0;31mSyntaxError\u001b[0m\u001b[0;31m:\u001b[0m ':' expected after dictionary key\n"
          ]
        }
      ]
    },
    {
      "cell_type": "code",
      "source": [
        "# prompt: !pip install hijri calendar\n",
        "\n",
        "!pip install hijri-converter\n",
        "import hijri_converter\n",
        "# ... (rest of your code)\n"
      ],
      "metadata": {
        "colab": {
          "base_uri": "https://localhost:8080/"
        },
        "id": "tiLZtz9xJ1iw",
        "outputId": "d0d9d712-30df-42b6-da09-a41cbb13f417"
      },
      "execution_count": 27,
      "outputs": [
        {
          "output_type": "stream",
          "name": "stdout",
          "text": [
            "Collecting hijri-converter\n",
            "  Downloading hijri_converter-2.3.1-py3-none-any.whl.metadata (2.7 kB)\n",
            "Downloading hijri_converter-2.3.1-py3-none-any.whl (13 kB)\n",
            "Installing collected packages: hijri-converter\n",
            "Successfully installed hijri-converter-2.3.1\n"
          ]
        }
      ]
    },
    {
      "cell_type": "code",
      "source": [
        "generate hijri calendar jan to dec 2025."
      ],
      "metadata": {
        "colab": {
          "base_uri": "https://localhost:8080/",
          "height": 106
        },
        "id": "s9KujV9gVVGj",
        "outputId": "3e0ba84a-a417-4ee7-ac86-a694117908fd"
      },
      "execution_count": 29,
      "outputs": [
        {
          "output_type": "error",
          "ename": "SyntaxError",
          "evalue": "invalid syntax (<ipython-input-29-243c8ec2d95d>, line 1)",
          "traceback": [
            "\u001b[0;36m  File \u001b[0;32m\"<ipython-input-29-243c8ec2d95d>\"\u001b[0;36m, line \u001b[0;32m1\u001b[0m\n\u001b[0;31m    generate hijri calendar jan to dec 2025.\u001b[0m\n\u001b[0m             ^\u001b[0m\n\u001b[0;31mSyntaxError\u001b[0m\u001b[0;31m:\u001b[0m invalid syntax\n"
          ]
        }
      ]
    },
    {
      "cell_type": "code",
      "source": [
        "# prompt: hijri calendar 2025\n",
        "\n",
        "import hijri_converter\n",
        "import calendar\n",
        "\n",
        "for month in range(1, 13):\n",
        "    gregorian_date = hijri_converter.Gregorian(2025, month, 1)\n",
        "    hijri_date = gregorian_date.to_hijri()\n",
        "    print(f\"Month: {month}, Hijri Date: {hijri_date}\")\n"
      ],
      "metadata": {
        "id": "11SBzxgMV6Es"
      },
      "execution_count": null,
      "outputs": []
    }
  ]
}